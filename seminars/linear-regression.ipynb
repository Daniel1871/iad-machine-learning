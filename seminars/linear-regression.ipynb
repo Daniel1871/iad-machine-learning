{
  "cells": [
    {
      "cell_type": "markdown",
      "metadata": {
        "id": "OSHI7j-Q28j3"
      },
      "source": [
        "# Семинар 6: предобработка данных и функции потерь в линейной регрессии\n",
        "\n",
        "## Данные\n",
        "Для демонстраций загрузим набор данных [Automobile Data Set](https://archive.ics.uci.edu/ml/datasets/Automobile). В данных присутствуют категориальные, целочисленные и вещественнозначные признаки."
      ]
    },
    {
      "cell_type": "code",
      "execution_count": null,
      "metadata": {
        "id": "u30Ou_XY28j5",
        "ExecuteTime": {
          "start_time": "2023-02-28T21:03:52.654124Z",
          "end_time": "2023-02-28T21:03:57.392778Z"
        }
      },
      "outputs": [],
      "source": [
        "import pandas as pd\n",
        "\n",
        "X_raw = pd.read_csv(\n",
        "    \"https://archive.ics.uci.edu/ml/machine-learning-databases/autos/imports-85.data\",\n",
        "    header=None,\n",
        "    na_values=[\"?\"],\n",
        ")"
      ]
    },
    {
      "cell_type": "code",
      "execution_count": null,
      "metadata": {
        "colab": {
          "base_uri": "https://localhost:8080/",
          "height": 235
        },
        "id": "U3zLI-Jd28j8",
        "outputId": "5780c2d2-4b7c-4bc8-c5de-deee17627bf7",
        "ExecuteTime": {
          "start_time": "2023-02-28T21:03:57.399447Z",
          "end_time": "2023-02-28T21:03:57.439097Z"
        }
      },
      "outputs": [
        {
          "output_type": "execute_result",
          "data": {
            "text/plain": [
              "   0      1            2    3    4     5            6    7      8     9   ...  \\\n",
              "0   3    NaN  alfa-romero  gas  std   two  convertible  rwd  front  88.6  ...   \n",
              "1   3    NaN  alfa-romero  gas  std   two  convertible  rwd  front  88.6  ...   \n",
              "2   1    NaN  alfa-romero  gas  std   two    hatchback  rwd  front  94.5  ...   \n",
              "3   2  164.0         audi  gas  std  four        sedan  fwd  front  99.8  ...   \n",
              "4   2  164.0         audi  gas  std  four        sedan  4wd  front  99.4  ...   \n",
              "\n",
              "    16    17    18    19    20     21      22  23  24       25  \n",
              "0  130  mpfi  3.47  2.68   9.0  111.0  5000.0  21  27  13495.0  \n",
              "1  130  mpfi  3.47  2.68   9.0  111.0  5000.0  21  27  16500.0  \n",
              "2  152  mpfi  2.68  3.47   9.0  154.0  5000.0  19  26  16500.0  \n",
              "3  109  mpfi  3.19  3.40  10.0  102.0  5500.0  24  30  13950.0  \n",
              "4  136  mpfi  3.19  3.40   8.0  115.0  5500.0  18  22  17450.0  \n",
              "\n",
              "[5 rows x 26 columns]"
            ],
            "text/html": [
              "\n",
              "  <div id=\"df-4c001970-064b-4550-b9bb-3fbf68ebf071\">\n",
              "    <div class=\"colab-df-container\">\n",
              "      <div>\n",
              "<style scoped>\n",
              "    .dataframe tbody tr th:only-of-type {\n",
              "        vertical-align: middle;\n",
              "    }\n",
              "\n",
              "    .dataframe tbody tr th {\n",
              "        vertical-align: top;\n",
              "    }\n",
              "\n",
              "    .dataframe thead th {\n",
              "        text-align: right;\n",
              "    }\n",
              "</style>\n",
              "<table border=\"1\" class=\"dataframe\">\n",
              "  <thead>\n",
              "    <tr style=\"text-align: right;\">\n",
              "      <th></th>\n",
              "      <th>0</th>\n",
              "      <th>1</th>\n",
              "      <th>2</th>\n",
              "      <th>3</th>\n",
              "      <th>4</th>\n",
              "      <th>5</th>\n",
              "      <th>6</th>\n",
              "      <th>7</th>\n",
              "      <th>8</th>\n",
              "      <th>9</th>\n",
              "      <th>...</th>\n",
              "      <th>16</th>\n",
              "      <th>17</th>\n",
              "      <th>18</th>\n",
              "      <th>19</th>\n",
              "      <th>20</th>\n",
              "      <th>21</th>\n",
              "      <th>22</th>\n",
              "      <th>23</th>\n",
              "      <th>24</th>\n",
              "      <th>25</th>\n",
              "    </tr>\n",
              "  </thead>\n",
              "  <tbody>\n",
              "    <tr>\n",
              "      <th>0</th>\n",
              "      <td>3</td>\n",
              "      <td>NaN</td>\n",
              "      <td>alfa-romero</td>\n",
              "      <td>gas</td>\n",
              "      <td>std</td>\n",
              "      <td>two</td>\n",
              "      <td>convertible</td>\n",
              "      <td>rwd</td>\n",
              "      <td>front</td>\n",
              "      <td>88.6</td>\n",
              "      <td>...</td>\n",
              "      <td>130</td>\n",
              "      <td>mpfi</td>\n",
              "      <td>3.47</td>\n",
              "      <td>2.68</td>\n",
              "      <td>9.0</td>\n",
              "      <td>111.0</td>\n",
              "      <td>5000.0</td>\n",
              "      <td>21</td>\n",
              "      <td>27</td>\n",
              "      <td>13495.0</td>\n",
              "    </tr>\n",
              "    <tr>\n",
              "      <th>1</th>\n",
              "      <td>3</td>\n",
              "      <td>NaN</td>\n",
              "      <td>alfa-romero</td>\n",
              "      <td>gas</td>\n",
              "      <td>std</td>\n",
              "      <td>two</td>\n",
              "      <td>convertible</td>\n",
              "      <td>rwd</td>\n",
              "      <td>front</td>\n",
              "      <td>88.6</td>\n",
              "      <td>...</td>\n",
              "      <td>130</td>\n",
              "      <td>mpfi</td>\n",
              "      <td>3.47</td>\n",
              "      <td>2.68</td>\n",
              "      <td>9.0</td>\n",
              "      <td>111.0</td>\n",
              "      <td>5000.0</td>\n",
              "      <td>21</td>\n",
              "      <td>27</td>\n",
              "      <td>16500.0</td>\n",
              "    </tr>\n",
              "    <tr>\n",
              "      <th>2</th>\n",
              "      <td>1</td>\n",
              "      <td>NaN</td>\n",
              "      <td>alfa-romero</td>\n",
              "      <td>gas</td>\n",
              "      <td>std</td>\n",
              "      <td>two</td>\n",
              "      <td>hatchback</td>\n",
              "      <td>rwd</td>\n",
              "      <td>front</td>\n",
              "      <td>94.5</td>\n",
              "      <td>...</td>\n",
              "      <td>152</td>\n",
              "      <td>mpfi</td>\n",
              "      <td>2.68</td>\n",
              "      <td>3.47</td>\n",
              "      <td>9.0</td>\n",
              "      <td>154.0</td>\n",
              "      <td>5000.0</td>\n",
              "      <td>19</td>\n",
              "      <td>26</td>\n",
              "      <td>16500.0</td>\n",
              "    </tr>\n",
              "    <tr>\n",
              "      <th>3</th>\n",
              "      <td>2</td>\n",
              "      <td>164.0</td>\n",
              "      <td>audi</td>\n",
              "      <td>gas</td>\n",
              "      <td>std</td>\n",
              "      <td>four</td>\n",
              "      <td>sedan</td>\n",
              "      <td>fwd</td>\n",
              "      <td>front</td>\n",
              "      <td>99.8</td>\n",
              "      <td>...</td>\n",
              "      <td>109</td>\n",
              "      <td>mpfi</td>\n",
              "      <td>3.19</td>\n",
              "      <td>3.40</td>\n",
              "      <td>10.0</td>\n",
              "      <td>102.0</td>\n",
              "      <td>5500.0</td>\n",
              "      <td>24</td>\n",
              "      <td>30</td>\n",
              "      <td>13950.0</td>\n",
              "    </tr>\n",
              "    <tr>\n",
              "      <th>4</th>\n",
              "      <td>2</td>\n",
              "      <td>164.0</td>\n",
              "      <td>audi</td>\n",
              "      <td>gas</td>\n",
              "      <td>std</td>\n",
              "      <td>four</td>\n",
              "      <td>sedan</td>\n",
              "      <td>4wd</td>\n",
              "      <td>front</td>\n",
              "      <td>99.4</td>\n",
              "      <td>...</td>\n",
              "      <td>136</td>\n",
              "      <td>mpfi</td>\n",
              "      <td>3.19</td>\n",
              "      <td>3.40</td>\n",
              "      <td>8.0</td>\n",
              "      <td>115.0</td>\n",
              "      <td>5500.0</td>\n",
              "      <td>18</td>\n",
              "      <td>22</td>\n",
              "      <td>17450.0</td>\n",
              "    </tr>\n",
              "  </tbody>\n",
              "</table>\n",
              "<p>5 rows × 26 columns</p>\n",
              "</div>\n",
              "      <button class=\"colab-df-convert\" onclick=\"convertToInteractive('df-4c001970-064b-4550-b9bb-3fbf68ebf071')\"\n",
              "              title=\"Convert this dataframe to an interactive table.\"\n",
              "              style=\"display:none;\">\n",
              "        \n",
              "  <svg xmlns=\"http://www.w3.org/2000/svg\" height=\"24px\"viewBox=\"0 0 24 24\"\n",
              "       width=\"24px\">\n",
              "    <path d=\"M0 0h24v24H0V0z\" fill=\"none\"/>\n",
              "    <path d=\"M18.56 5.44l.94 2.06.94-2.06 2.06-.94-2.06-.94-.94-2.06-.94 2.06-2.06.94zm-11 1L8.5 8.5l.94-2.06 2.06-.94-2.06-.94L8.5 2.5l-.94 2.06-2.06.94zm10 10l.94 2.06.94-2.06 2.06-.94-2.06-.94-.94-2.06-.94 2.06-2.06.94z\"/><path d=\"M17.41 7.96l-1.37-1.37c-.4-.4-.92-.59-1.43-.59-.52 0-1.04.2-1.43.59L10.3 9.45l-7.72 7.72c-.78.78-.78 2.05 0 2.83L4 21.41c.39.39.9.59 1.41.59.51 0 1.02-.2 1.41-.59l7.78-7.78 2.81-2.81c.8-.78.8-2.07 0-2.86zM5.41 20L4 18.59l7.72-7.72 1.47 1.35L5.41 20z\"/>\n",
              "  </svg>\n",
              "      </button>\n",
              "      \n",
              "  <style>\n",
              "    .colab-df-container {\n",
              "      display:flex;\n",
              "      flex-wrap:wrap;\n",
              "      gap: 12px;\n",
              "    }\n",
              "\n",
              "    .colab-df-convert {\n",
              "      background-color: #E8F0FE;\n",
              "      border: none;\n",
              "      border-radius: 50%;\n",
              "      cursor: pointer;\n",
              "      display: none;\n",
              "      fill: #1967D2;\n",
              "      height: 32px;\n",
              "      padding: 0 0 0 0;\n",
              "      width: 32px;\n",
              "    }\n",
              "\n",
              "    .colab-df-convert:hover {\n",
              "      background-color: #E2EBFA;\n",
              "      box-shadow: 0px 1px 2px rgba(60, 64, 67, 0.3), 0px 1px 3px 1px rgba(60, 64, 67, 0.15);\n",
              "      fill: #174EA6;\n",
              "    }\n",
              "\n",
              "    [theme=dark] .colab-df-convert {\n",
              "      background-color: #3B4455;\n",
              "      fill: #D2E3FC;\n",
              "    }\n",
              "\n",
              "    [theme=dark] .colab-df-convert:hover {\n",
              "      background-color: #434B5C;\n",
              "      box-shadow: 0px 1px 3px 1px rgba(0, 0, 0, 0.15);\n",
              "      filter: drop-shadow(0px 1px 2px rgba(0, 0, 0, 0.3));\n",
              "      fill: #FFFFFF;\n",
              "    }\n",
              "  </style>\n",
              "\n",
              "      <script>\n",
              "        const buttonEl =\n",
              "          document.querySelector('#df-4c001970-064b-4550-b9bb-3fbf68ebf071 button.colab-df-convert');\n",
              "        buttonEl.style.display =\n",
              "          google.colab.kernel.accessAllowed ? 'block' : 'none';\n",
              "\n",
              "        async function convertToInteractive(key) {\n",
              "          const element = document.querySelector('#df-4c001970-064b-4550-b9bb-3fbf68ebf071');\n",
              "          const dataTable =\n",
              "            await google.colab.kernel.invokeFunction('convertToInteractive',\n",
              "                                                     [key], {});\n",
              "          if (!dataTable) return;\n",
              "\n",
              "          const docLinkHtml = 'Like what you see? Visit the ' +\n",
              "            '<a target=\"_blank\" href=https://colab.research.google.com/notebooks/data_table.ipynb>data table notebook</a>'\n",
              "            + ' to learn more about interactive tables.';\n",
              "          element.innerHTML = '';\n",
              "          dataTable['output_type'] = 'display_data';\n",
              "          await google.colab.output.renderOutput(dataTable, element);\n",
              "          const docLink = document.createElement('div');\n",
              "          docLink.innerHTML = docLinkHtml;\n",
              "          element.appendChild(docLink);\n",
              "        }\n",
              "      </script>\n",
              "    </div>\n",
              "  </div>\n",
              "  "
            ]
          },
          "metadata": {},
          "execution_count": 2
        }
      ],
      "source": [
        "X_raw.head()"
      ]
    },
    {
      "cell_type": "code",
      "execution_count": null,
      "metadata": {
        "id": "xHXo8yny28j_",
        "ExecuteTime": {
          "start_time": "2023-02-28T21:03:57.432041Z",
          "end_time": "2023-02-28T21:03:57.439428Z"
        }
      },
      "outputs": [],
      "source": [
        "y = X_raw[25]\n",
        "X_raw = X_raw.drop(25, axis=1)"
      ]
    },
    {
      "cell_type": "markdown",
      "metadata": {
        "id": "7RLJ_PH928kC"
      },
      "source": [
        "## Предобработка данных\n",
        "\n",
        "Предобработка данных важна при применении любых методов машинного обучения, а в особенности для линейных моделей. В sklearn предобработку удобно делать с помощью различных модулей [preprocessing](http://scikit-learn.org/stable/modules/classes.html#module-sklearn.preprocessing) или методов библиотеки pandas."
      ]
    },
    {
      "cell_type": "markdown",
      "metadata": {
        "id": "8OIYuChq28kH"
      },
      "source": [
        "### Заполнение пропусков\n",
        "В матрице объекты-признаки могут быть пропущенные значения, и это вызовет ошибку при попытке передать такую матрицу в функцию обучения модели или даже предобработки. Если пропусков немного, можно удалить объекты с пропусками из обучающей выборки. Заполнить пропуски можно разными способами:\n",
        "* заполнить средними (mean, median);\n",
        "* предсказывать пропущенные значения по непропущенным.\n",
        "\n",
        "Часто используют первый вариант - он проще. Для заполнения константами можно использовать метод датафрейма `fillna`, для замены средними - класс `impute.SimpleImputer` (в более старых версиях `scikit-learn` - `preprocessing.Imputer`)."
      ]
    },
    {
      "cell_type": "code",
      "execution_count": null,
      "metadata": {
        "colab": {
          "base_uri": "https://localhost:8080/"
        },
        "id": "M-mqpQ46y4If",
        "outputId": "74100a1e-6b8a-4636-9b46-165dcfe05db3",
        "ExecuteTime": {
          "start_time": "2023-02-28T21:03:57.438511Z",
          "end_time": "2023-02-28T21:03:57.445691Z"
        }
      },
      "outputs": [
        {
          "output_type": "execute_result",
          "data": {
            "text/plain": [
              "True"
            ]
          },
          "metadata": {},
          "execution_count": 4
        }
      ],
      "source": [
        "X_raw.isnull().any().any()"
      ]
    },
    {
      "cell_type": "code",
      "execution_count": null,
      "metadata": {
        "colab": {
          "base_uri": "https://localhost:8080/"
        },
        "id": "jt8GLu6ly4If",
        "outputId": "a3c36567-9b0e-4bf9-edd8-206a1287f881",
        "ExecuteTime": {
          "start_time": "2023-02-28T21:03:57.448602Z",
          "end_time": "2023-02-28T21:03:57.462611Z"
        }
      },
      "outputs": [
        {
          "output_type": "execute_result",
          "data": {
            "text/plain": [
              "0      0\n",
              "1     41\n",
              "2      0\n",
              "3      0\n",
              "4      0\n",
              "5      2\n",
              "6      0\n",
              "7      0\n",
              "8      0\n",
              "9      0\n",
              "10     0\n",
              "11     0\n",
              "12     0\n",
              "13     0\n",
              "14     0\n",
              "15     0\n",
              "16     0\n",
              "17     0\n",
              "18     4\n",
              "19     4\n",
              "20     0\n",
              "21     2\n",
              "22     2\n",
              "23     0\n",
              "24     0\n",
              "dtype: int64"
            ]
          },
          "metadata": {},
          "execution_count": 5
        }
      ],
      "source": [
        "X_raw.isnull().sum()"
      ]
    },
    {
      "cell_type": "code",
      "execution_count": null,
      "metadata": {
        "id": "_8xF0_ruy4Ig",
        "ExecuteTime": {
          "start_time": "2023-02-28T21:03:57.452963Z",
          "end_time": "2023-02-28T21:04:02.261593Z"
        }
      },
      "outputs": [],
      "source": [
        "from sklearn.impute import SimpleImputer"
      ]
    },
    {
      "cell_type": "code",
      "execution_count": null,
      "metadata": {
        "id": "_5bbvMK828kH",
        "ExecuteTime": {
          "start_time": "2023-02-28T21:04:02.263683Z",
          "end_time": "2023-02-28T21:04:02.265684Z"
        }
      },
      "outputs": [],
      "source": [
        "# для удобства работы с нашим датасетом создаем маску, указывающую на столбцы с категориальными признаками\n",
        "# категориальные признаки имеют тип \"object\"\n",
        "cat_features_mask = (X_raw.dtypes == \"object\").values  "
      ]
    },
    {
      "cell_type": "code",
      "execution_count": null,
      "metadata": {
        "id": "zjYtWWxQ28kK",
        "ExecuteTime": {
          "start_time": "2023-02-28T21:04:02.272802Z",
          "end_time": "2023-02-28T21:04:02.279649Z"
        }
      },
      "outputs": [],
      "source": [
        "# для вещественнозначных признаков заполним пропуски средними\n",
        "X_real = X_raw[X_raw.columns[~cat_features_mask]]\n",
        "mis_replacer = SimpleImputer(strategy=\"mean\")\n",
        "X_no_mis_real = pd.DataFrame(data=mis_replacer.fit_transform(X_real), columns=X_real.columns)"
      ]
    },
    {
      "cell_type": "code",
      "execution_count": null,
      "metadata": {
        "ExecuteTime": {
          "start_time": "2023-02-28T21:04:18.285660Z",
          "end_time": "2023-02-28T21:04:18.316857Z"
        },
        "id": "EHhXd0BGOM0h"
      },
      "outputs": [],
      "source": [
        "# для категориальных - пустыми строками\n",
        "X_cat = X_raw[X_raw.columns[cat_features_mask]].fillna(\"\")\n",
        "X_no_mis = pd.concat([X_no_mis_real, X_cat], axis=1)"
      ]
    },
    {
      "cell_type": "code",
      "execution_count": null,
      "metadata": {
        "colab": {
          "base_uri": "https://localhost:8080/",
          "height": 235
        },
        "id": "H34gZsTX28kN",
        "outputId": "82766feb-c01b-4282-8d23-5e0e9c758812",
        "ExecuteTime": {
          "start_time": "2023-02-28T21:04:18.508993Z",
          "end_time": "2023-02-28T21:04:18.524364Z"
        }
      },
      "outputs": [
        {
          "output_type": "execute_result",
          "data": {
            "text/plain": [
              "    0      1     9      10    11    12      13     16    18    19  ...  \\\n",
              "0  3.0  122.0  88.6  168.8  64.1  48.8  2548.0  130.0  3.47  2.68  ...   \n",
              "1  3.0  122.0  88.6  168.8  64.1  48.8  2548.0  130.0  3.47  2.68  ...   \n",
              "2  1.0  122.0  94.5  171.2  65.5  52.4  2823.0  152.0  2.68  3.47  ...   \n",
              "3  2.0  164.0  99.8  176.6  66.2  54.3  2337.0  109.0  3.19  3.40  ...   \n",
              "4  2.0  164.0  99.4  176.6  66.4  54.3  2824.0  136.0  3.19  3.40  ...   \n",
              "\n",
              "            2    3    4     5            6    7      8     14    15    17  \n",
              "0  alfa-romero  gas  std   two  convertible  rwd  front  dohc  four  mpfi  \n",
              "1  alfa-romero  gas  std   two  convertible  rwd  front  dohc  four  mpfi  \n",
              "2  alfa-romero  gas  std   two    hatchback  rwd  front  ohcv   six  mpfi  \n",
              "3         audi  gas  std  four        sedan  fwd  front   ohc  four  mpfi  \n",
              "4         audi  gas  std  four        sedan  4wd  front   ohc  five  mpfi  \n",
              "\n",
              "[5 rows x 25 columns]"
            ],
            "text/html": [
              "\n",
              "  <div id=\"df-42bcbf39-7141-4801-8d25-ab9e5aa91116\">\n",
              "    <div class=\"colab-df-container\">\n",
              "      <div>\n",
              "<style scoped>\n",
              "    .dataframe tbody tr th:only-of-type {\n",
              "        vertical-align: middle;\n",
              "    }\n",
              "\n",
              "    .dataframe tbody tr th {\n",
              "        vertical-align: top;\n",
              "    }\n",
              "\n",
              "    .dataframe thead th {\n",
              "        text-align: right;\n",
              "    }\n",
              "</style>\n",
              "<table border=\"1\" class=\"dataframe\">\n",
              "  <thead>\n",
              "    <tr style=\"text-align: right;\">\n",
              "      <th></th>\n",
              "      <th>0</th>\n",
              "      <th>1</th>\n",
              "      <th>9</th>\n",
              "      <th>10</th>\n",
              "      <th>11</th>\n",
              "      <th>12</th>\n",
              "      <th>13</th>\n",
              "      <th>16</th>\n",
              "      <th>18</th>\n",
              "      <th>19</th>\n",
              "      <th>...</th>\n",
              "      <th>2</th>\n",
              "      <th>3</th>\n",
              "      <th>4</th>\n",
              "      <th>5</th>\n",
              "      <th>6</th>\n",
              "      <th>7</th>\n",
              "      <th>8</th>\n",
              "      <th>14</th>\n",
              "      <th>15</th>\n",
              "      <th>17</th>\n",
              "    </tr>\n",
              "  </thead>\n",
              "  <tbody>\n",
              "    <tr>\n",
              "      <th>0</th>\n",
              "      <td>3.0</td>\n",
              "      <td>122.0</td>\n",
              "      <td>88.6</td>\n",
              "      <td>168.8</td>\n",
              "      <td>64.1</td>\n",
              "      <td>48.8</td>\n",
              "      <td>2548.0</td>\n",
              "      <td>130.0</td>\n",
              "      <td>3.47</td>\n",
              "      <td>2.68</td>\n",
              "      <td>...</td>\n",
              "      <td>alfa-romero</td>\n",
              "      <td>gas</td>\n",
              "      <td>std</td>\n",
              "      <td>two</td>\n",
              "      <td>convertible</td>\n",
              "      <td>rwd</td>\n",
              "      <td>front</td>\n",
              "      <td>dohc</td>\n",
              "      <td>four</td>\n",
              "      <td>mpfi</td>\n",
              "    </tr>\n",
              "    <tr>\n",
              "      <th>1</th>\n",
              "      <td>3.0</td>\n",
              "      <td>122.0</td>\n",
              "      <td>88.6</td>\n",
              "      <td>168.8</td>\n",
              "      <td>64.1</td>\n",
              "      <td>48.8</td>\n",
              "      <td>2548.0</td>\n",
              "      <td>130.0</td>\n",
              "      <td>3.47</td>\n",
              "      <td>2.68</td>\n",
              "      <td>...</td>\n",
              "      <td>alfa-romero</td>\n",
              "      <td>gas</td>\n",
              "      <td>std</td>\n",
              "      <td>two</td>\n",
              "      <td>convertible</td>\n",
              "      <td>rwd</td>\n",
              "      <td>front</td>\n",
              "      <td>dohc</td>\n",
              "      <td>four</td>\n",
              "      <td>mpfi</td>\n",
              "    </tr>\n",
              "    <tr>\n",
              "      <th>2</th>\n",
              "      <td>1.0</td>\n",
              "      <td>122.0</td>\n",
              "      <td>94.5</td>\n",
              "      <td>171.2</td>\n",
              "      <td>65.5</td>\n",
              "      <td>52.4</td>\n",
              "      <td>2823.0</td>\n",
              "      <td>152.0</td>\n",
              "      <td>2.68</td>\n",
              "      <td>3.47</td>\n",
              "      <td>...</td>\n",
              "      <td>alfa-romero</td>\n",
              "      <td>gas</td>\n",
              "      <td>std</td>\n",
              "      <td>two</td>\n",
              "      <td>hatchback</td>\n",
              "      <td>rwd</td>\n",
              "      <td>front</td>\n",
              "      <td>ohcv</td>\n",
              "      <td>six</td>\n",
              "      <td>mpfi</td>\n",
              "    </tr>\n",
              "    <tr>\n",
              "      <th>3</th>\n",
              "      <td>2.0</td>\n",
              "      <td>164.0</td>\n",
              "      <td>99.8</td>\n",
              "      <td>176.6</td>\n",
              "      <td>66.2</td>\n",
              "      <td>54.3</td>\n",
              "      <td>2337.0</td>\n",
              "      <td>109.0</td>\n",
              "      <td>3.19</td>\n",
              "      <td>3.40</td>\n",
              "      <td>...</td>\n",
              "      <td>audi</td>\n",
              "      <td>gas</td>\n",
              "      <td>std</td>\n",
              "      <td>four</td>\n",
              "      <td>sedan</td>\n",
              "      <td>fwd</td>\n",
              "      <td>front</td>\n",
              "      <td>ohc</td>\n",
              "      <td>four</td>\n",
              "      <td>mpfi</td>\n",
              "    </tr>\n",
              "    <tr>\n",
              "      <th>4</th>\n",
              "      <td>2.0</td>\n",
              "      <td>164.0</td>\n",
              "      <td>99.4</td>\n",
              "      <td>176.6</td>\n",
              "      <td>66.4</td>\n",
              "      <td>54.3</td>\n",
              "      <td>2824.0</td>\n",
              "      <td>136.0</td>\n",
              "      <td>3.19</td>\n",
              "      <td>3.40</td>\n",
              "      <td>...</td>\n",
              "      <td>audi</td>\n",
              "      <td>gas</td>\n",
              "      <td>std</td>\n",
              "      <td>four</td>\n",
              "      <td>sedan</td>\n",
              "      <td>4wd</td>\n",
              "      <td>front</td>\n",
              "      <td>ohc</td>\n",
              "      <td>five</td>\n",
              "      <td>mpfi</td>\n",
              "    </tr>\n",
              "  </tbody>\n",
              "</table>\n",
              "<p>5 rows × 25 columns</p>\n",
              "</div>\n",
              "      <button class=\"colab-df-convert\" onclick=\"convertToInteractive('df-42bcbf39-7141-4801-8d25-ab9e5aa91116')\"\n",
              "              title=\"Convert this dataframe to an interactive table.\"\n",
              "              style=\"display:none;\">\n",
              "        \n",
              "  <svg xmlns=\"http://www.w3.org/2000/svg\" height=\"24px\"viewBox=\"0 0 24 24\"\n",
              "       width=\"24px\">\n",
              "    <path d=\"M0 0h24v24H0V0z\" fill=\"none\"/>\n",
              "    <path d=\"M18.56 5.44l.94 2.06.94-2.06 2.06-.94-2.06-.94-.94-2.06-.94 2.06-2.06.94zm-11 1L8.5 8.5l.94-2.06 2.06-.94-2.06-.94L8.5 2.5l-.94 2.06-2.06.94zm10 10l.94 2.06.94-2.06 2.06-.94-2.06-.94-.94-2.06-.94 2.06-2.06.94z\"/><path d=\"M17.41 7.96l-1.37-1.37c-.4-.4-.92-.59-1.43-.59-.52 0-1.04.2-1.43.59L10.3 9.45l-7.72 7.72c-.78.78-.78 2.05 0 2.83L4 21.41c.39.39.9.59 1.41.59.51 0 1.02-.2 1.41-.59l7.78-7.78 2.81-2.81c.8-.78.8-2.07 0-2.86zM5.41 20L4 18.59l7.72-7.72 1.47 1.35L5.41 20z\"/>\n",
              "  </svg>\n",
              "      </button>\n",
              "      \n",
              "  <style>\n",
              "    .colab-df-container {\n",
              "      display:flex;\n",
              "      flex-wrap:wrap;\n",
              "      gap: 12px;\n",
              "    }\n",
              "\n",
              "    .colab-df-convert {\n",
              "      background-color: #E8F0FE;\n",
              "      border: none;\n",
              "      border-radius: 50%;\n",
              "      cursor: pointer;\n",
              "      display: none;\n",
              "      fill: #1967D2;\n",
              "      height: 32px;\n",
              "      padding: 0 0 0 0;\n",
              "      width: 32px;\n",
              "    }\n",
              "\n",
              "    .colab-df-convert:hover {\n",
              "      background-color: #E2EBFA;\n",
              "      box-shadow: 0px 1px 2px rgba(60, 64, 67, 0.3), 0px 1px 3px 1px rgba(60, 64, 67, 0.15);\n",
              "      fill: #174EA6;\n",
              "    }\n",
              "\n",
              "    [theme=dark] .colab-df-convert {\n",
              "      background-color: #3B4455;\n",
              "      fill: #D2E3FC;\n",
              "    }\n",
              "\n",
              "    [theme=dark] .colab-df-convert:hover {\n",
              "      background-color: #434B5C;\n",
              "      box-shadow: 0px 1px 3px 1px rgba(0, 0, 0, 0.15);\n",
              "      filter: drop-shadow(0px 1px 2px rgba(0, 0, 0, 0.3));\n",
              "      fill: #FFFFFF;\n",
              "    }\n",
              "  </style>\n",
              "\n",
              "      <script>\n",
              "        const buttonEl =\n",
              "          document.querySelector('#df-42bcbf39-7141-4801-8d25-ab9e5aa91116 button.colab-df-convert');\n",
              "        buttonEl.style.display =\n",
              "          google.colab.kernel.accessAllowed ? 'block' : 'none';\n",
              "\n",
              "        async function convertToInteractive(key) {\n",
              "          const element = document.querySelector('#df-42bcbf39-7141-4801-8d25-ab9e5aa91116');\n",
              "          const dataTable =\n",
              "            await google.colab.kernel.invokeFunction('convertToInteractive',\n",
              "                                                     [key], {});\n",
              "          if (!dataTable) return;\n",
              "\n",
              "          const docLinkHtml = 'Like what you see? Visit the ' +\n",
              "            '<a target=\"_blank\" href=https://colab.research.google.com/notebooks/data_table.ipynb>data table notebook</a>'\n",
              "            + ' to learn more about interactive tables.';\n",
              "          element.innerHTML = '';\n",
              "          dataTable['output_type'] = 'display_data';\n",
              "          await google.colab.output.renderOutput(dataTable, element);\n",
              "          const docLink = document.createElement('div');\n",
              "          docLink.innerHTML = docLinkHtml;\n",
              "          element.appendChild(docLink);\n",
              "        }\n",
              "      </script>\n",
              "    </div>\n",
              "  </div>\n",
              "  "
            ]
          },
          "metadata": {},
          "execution_count": 10
        }
      ],
      "source": [
        "X_no_mis.head()"
      ]
    },
    {
      "cell_type": "code",
      "execution_count": null,
      "metadata": {
        "colab": {
          "base_uri": "https://localhost:8080/"
        },
        "id": "joT6goKYy4Ih",
        "outputId": "793626b9-91a7-4a3d-e0f7-7d86fded2cd5",
        "ExecuteTime": {
          "start_time": "2023-02-28T21:04:19.776399Z",
          "end_time": "2023-02-28T21:04:19.829063Z"
        }
      },
      "outputs": [
        {
          "output_type": "execute_result",
          "data": {
            "text/plain": [
              "False"
            ]
          },
          "metadata": {},
          "execution_count": 11
        }
      ],
      "source": [
        "X_no_mis.isnull().any().any()"
      ]
    },
    {
      "cell_type": "markdown",
      "metadata": {
        "id": "fNoCS3EK28kR"
      },
      "source": [
        "### Преобразование нечисловых признаков\n",
        "Как вы помните, большниство моделей машинного обучения требуют, чтобы на вход функции обучения подавалас матрица состоящая из вещественных чисел. В процессе обучения используются свойства вещественных чисел, в частности, возможность сравнения и применения арифметических операций. Поэтому, даже если формально в матрице объекты-признаки записаны числовые значения, нужно всегда анализировать, можно ли относиться к ним как к числам. \n",
        "\n",
        "__Пример:__ некоторые признаки могут задаваться целочисленными хешами или id (например, id пользователя соц. сети), однако нельзя сложить двух пользователей и получить третьего, исходя из их id (как это может сделать линейная модель).\n",
        "\n",
        "Напоминаем, что для обработки категориальных признаков, часто применяют [one-hot encoding](http://scikit-learn.org/stable/modules/preprocessing.html#encoding-categorical-features) в результате чего, вместо одного признака добавится $K$ бинарных признаков - по одному на каждое возможное значение исходного признака. В `sklearn` это можно сделать с помощью классов `OneHotEncoder`, но проще использовать функцию `pd.get_dummies`."
      ]
    },
    {
      "cell_type": "markdown",
      "metadata": {
        "id": "HBmFt92528kS"
      },
      "source": [
        "Следует заметить, что в новой матрице будет очень много нулевых значений. Чтобы не хранить их в памяти, можно задать параметр `OneHotEncoder(sparse=True)` или `pd.get_dummies(sparse=True)`, и метод вернет [разреженную матрицу](http://docs.scipy.org/doc/scipy/reference/sparse.html), в которой хранятся только ненулевые значения. Выполнение некоторых операций с такой матрицей может быть неэффективным, однако большинство методов sklearn умеют работать с разреженными матрицами."
      ]
    },
    {
      "cell_type": "markdown",
      "metadata": {
        "id": "wZxxhNbj28kS"
      },
      "source": [
        "__Вопрос:__ стоит ли применять one-hot encoding для признаков с большим числом категорий (например, id)? Почему? \n",
        "\n",
        "*Нет, т.к. слишком большая матрица получится и будет слишком переобучаться модель*\n",
        "\n",
        "__Вопрос:__ какая проблема возникнет при применении вышеописанного способа кодирования для обучения линейной регрессии?\n",
        "\n",
        "*Большая матрица => трудно обучать / переобучение / проблема с обучением из-за drop_first*\n",
        "    \n",
        "Необходимо удалить один из столбцов, созданных для каждого признака. Для этого в get_dummies надо поставить drop_first=True."
      ]
    },
    {
      "cell_type": "code",
      "execution_count": null,
      "metadata": {
        "colab": {
          "base_uri": "https://localhost:8080/"
        },
        "id": "SqwMFEqt28ka",
        "outputId": "f8dc86a4-954e-4c14-bad8-81ea676f410e",
        "ExecuteTime": {
          "start_time": "2023-02-28T21:04:42.768877Z",
          "end_time": "2023-02-28T21:04:42.794244Z"
        }
      },
      "outputs": [
        {
          "output_type": "execute_result",
          "data": {
            "text/plain": [
              "(205, 25)"
            ]
          },
          "metadata": {},
          "execution_count": 12
        }
      ],
      "source": [
        "X_no_mis.shape"
      ]
    },
    {
      "cell_type": "code",
      "execution_count": null,
      "metadata": {
        "colab": {
          "base_uri": "https://localhost:8080/",
          "height": 253
        },
        "id": "hLiNNMYz28kc",
        "outputId": "24fd72ae-af83-4286-a474-b85f177f8ce5",
        "ExecuteTime": {
          "start_time": "2023-02-28T21:04:43.622309Z",
          "end_time": "2023-02-28T21:04:43.693092Z"
        }
      },
      "outputs": [
        {
          "output_type": "stream",
          "name": "stdout",
          "text": [
            "(205, 66)\n"
          ]
        },
        {
          "output_type": "execute_result",
          "data": {
            "text/plain": [
              "     0      1     9     10    11    12      13     16    18    19  ...  \\\n",
              "0  3.0  122.0  88.6  168.8  64.1  48.8  2548.0  130.0  3.47  2.68  ...   \n",
              "1  3.0  122.0  88.6  168.8  64.1  48.8  2548.0  130.0  3.47  2.68  ...   \n",
              "2  1.0  122.0  94.5  171.2  65.5  52.4  2823.0  152.0  2.68  3.47  ...   \n",
              "3  2.0  164.0  99.8  176.6  66.2  54.3  2337.0  109.0  3.19  3.40  ...   \n",
              "4  2.0  164.0  99.4  176.6  66.4  54.3  2824.0  136.0  3.19  3.40  ...   \n",
              "\n",
              "   15_three  15_twelve  15_two  17_2bbl  17_4bbl  17_idi  17_mfi  17_mpfi  \\\n",
              "0         0          0       0        0        0       0       0        1   \n",
              "1         0          0       0        0        0       0       0        1   \n",
              "2         0          0       0        0        0       0       0        1   \n",
              "3         0          0       0        0        0       0       0        1   \n",
              "4         0          0       0        0        0       0       0        1   \n",
              "\n",
              "   17_spdi  17_spfi  \n",
              "0        0        0  \n",
              "1        0        0  \n",
              "2        0        0  \n",
              "3        0        0  \n",
              "4        0        0  \n",
              "\n",
              "[5 rows x 66 columns]"
            ],
            "text/html": [
              "\n",
              "  <div id=\"df-5d6b219f-2ef8-4362-89de-d1e97d004239\">\n",
              "    <div class=\"colab-df-container\">\n",
              "      <div>\n",
              "<style scoped>\n",
              "    .dataframe tbody tr th:only-of-type {\n",
              "        vertical-align: middle;\n",
              "    }\n",
              "\n",
              "    .dataframe tbody tr th {\n",
              "        vertical-align: top;\n",
              "    }\n",
              "\n",
              "    .dataframe thead th {\n",
              "        text-align: right;\n",
              "    }\n",
              "</style>\n",
              "<table border=\"1\" class=\"dataframe\">\n",
              "  <thead>\n",
              "    <tr style=\"text-align: right;\">\n",
              "      <th></th>\n",
              "      <th>0</th>\n",
              "      <th>1</th>\n",
              "      <th>9</th>\n",
              "      <th>10</th>\n",
              "      <th>11</th>\n",
              "      <th>12</th>\n",
              "      <th>13</th>\n",
              "      <th>16</th>\n",
              "      <th>18</th>\n",
              "      <th>19</th>\n",
              "      <th>...</th>\n",
              "      <th>15_three</th>\n",
              "      <th>15_twelve</th>\n",
              "      <th>15_two</th>\n",
              "      <th>17_2bbl</th>\n",
              "      <th>17_4bbl</th>\n",
              "      <th>17_idi</th>\n",
              "      <th>17_mfi</th>\n",
              "      <th>17_mpfi</th>\n",
              "      <th>17_spdi</th>\n",
              "      <th>17_spfi</th>\n",
              "    </tr>\n",
              "  </thead>\n",
              "  <tbody>\n",
              "    <tr>\n",
              "      <th>0</th>\n",
              "      <td>3.0</td>\n",
              "      <td>122.0</td>\n",
              "      <td>88.6</td>\n",
              "      <td>168.8</td>\n",
              "      <td>64.1</td>\n",
              "      <td>48.8</td>\n",
              "      <td>2548.0</td>\n",
              "      <td>130.0</td>\n",
              "      <td>3.47</td>\n",
              "      <td>2.68</td>\n",
              "      <td>...</td>\n",
              "      <td>0</td>\n",
              "      <td>0</td>\n",
              "      <td>0</td>\n",
              "      <td>0</td>\n",
              "      <td>0</td>\n",
              "      <td>0</td>\n",
              "      <td>0</td>\n",
              "      <td>1</td>\n",
              "      <td>0</td>\n",
              "      <td>0</td>\n",
              "    </tr>\n",
              "    <tr>\n",
              "      <th>1</th>\n",
              "      <td>3.0</td>\n",
              "      <td>122.0</td>\n",
              "      <td>88.6</td>\n",
              "      <td>168.8</td>\n",
              "      <td>64.1</td>\n",
              "      <td>48.8</td>\n",
              "      <td>2548.0</td>\n",
              "      <td>130.0</td>\n",
              "      <td>3.47</td>\n",
              "      <td>2.68</td>\n",
              "      <td>...</td>\n",
              "      <td>0</td>\n",
              "      <td>0</td>\n",
              "      <td>0</td>\n",
              "      <td>0</td>\n",
              "      <td>0</td>\n",
              "      <td>0</td>\n",
              "      <td>0</td>\n",
              "      <td>1</td>\n",
              "      <td>0</td>\n",
              "      <td>0</td>\n",
              "    </tr>\n",
              "    <tr>\n",
              "      <th>2</th>\n",
              "      <td>1.0</td>\n",
              "      <td>122.0</td>\n",
              "      <td>94.5</td>\n",
              "      <td>171.2</td>\n",
              "      <td>65.5</td>\n",
              "      <td>52.4</td>\n",
              "      <td>2823.0</td>\n",
              "      <td>152.0</td>\n",
              "      <td>2.68</td>\n",
              "      <td>3.47</td>\n",
              "      <td>...</td>\n",
              "      <td>0</td>\n",
              "      <td>0</td>\n",
              "      <td>0</td>\n",
              "      <td>0</td>\n",
              "      <td>0</td>\n",
              "      <td>0</td>\n",
              "      <td>0</td>\n",
              "      <td>1</td>\n",
              "      <td>0</td>\n",
              "      <td>0</td>\n",
              "    </tr>\n",
              "    <tr>\n",
              "      <th>3</th>\n",
              "      <td>2.0</td>\n",
              "      <td>164.0</td>\n",
              "      <td>99.8</td>\n",
              "      <td>176.6</td>\n",
              "      <td>66.2</td>\n",
              "      <td>54.3</td>\n",
              "      <td>2337.0</td>\n",
              "      <td>109.0</td>\n",
              "      <td>3.19</td>\n",
              "      <td>3.40</td>\n",
              "      <td>...</td>\n",
              "      <td>0</td>\n",
              "      <td>0</td>\n",
              "      <td>0</td>\n",
              "      <td>0</td>\n",
              "      <td>0</td>\n",
              "      <td>0</td>\n",
              "      <td>0</td>\n",
              "      <td>1</td>\n",
              "      <td>0</td>\n",
              "      <td>0</td>\n",
              "    </tr>\n",
              "    <tr>\n",
              "      <th>4</th>\n",
              "      <td>2.0</td>\n",
              "      <td>164.0</td>\n",
              "      <td>99.4</td>\n",
              "      <td>176.6</td>\n",
              "      <td>66.4</td>\n",
              "      <td>54.3</td>\n",
              "      <td>2824.0</td>\n",
              "      <td>136.0</td>\n",
              "      <td>3.19</td>\n",
              "      <td>3.40</td>\n",
              "      <td>...</td>\n",
              "      <td>0</td>\n",
              "      <td>0</td>\n",
              "      <td>0</td>\n",
              "      <td>0</td>\n",
              "      <td>0</td>\n",
              "      <td>0</td>\n",
              "      <td>0</td>\n",
              "      <td>1</td>\n",
              "      <td>0</td>\n",
              "      <td>0</td>\n",
              "    </tr>\n",
              "  </tbody>\n",
              "</table>\n",
              "<p>5 rows × 66 columns</p>\n",
              "</div>\n",
              "      <button class=\"colab-df-convert\" onclick=\"convertToInteractive('df-5d6b219f-2ef8-4362-89de-d1e97d004239')\"\n",
              "              title=\"Convert this dataframe to an interactive table.\"\n",
              "              style=\"display:none;\">\n",
              "        \n",
              "  <svg xmlns=\"http://www.w3.org/2000/svg\" height=\"24px\"viewBox=\"0 0 24 24\"\n",
              "       width=\"24px\">\n",
              "    <path d=\"M0 0h24v24H0V0z\" fill=\"none\"/>\n",
              "    <path d=\"M18.56 5.44l.94 2.06.94-2.06 2.06-.94-2.06-.94-.94-2.06-.94 2.06-2.06.94zm-11 1L8.5 8.5l.94-2.06 2.06-.94-2.06-.94L8.5 2.5l-.94 2.06-2.06.94zm10 10l.94 2.06.94-2.06 2.06-.94-2.06-.94-.94-2.06-.94 2.06-2.06.94z\"/><path d=\"M17.41 7.96l-1.37-1.37c-.4-.4-.92-.59-1.43-.59-.52 0-1.04.2-1.43.59L10.3 9.45l-7.72 7.72c-.78.78-.78 2.05 0 2.83L4 21.41c.39.39.9.59 1.41.59.51 0 1.02-.2 1.41-.59l7.78-7.78 2.81-2.81c.8-.78.8-2.07 0-2.86zM5.41 20L4 18.59l7.72-7.72 1.47 1.35L5.41 20z\"/>\n",
              "  </svg>\n",
              "      </button>\n",
              "      \n",
              "  <style>\n",
              "    .colab-df-container {\n",
              "      display:flex;\n",
              "      flex-wrap:wrap;\n",
              "      gap: 12px;\n",
              "    }\n",
              "\n",
              "    .colab-df-convert {\n",
              "      background-color: #E8F0FE;\n",
              "      border: none;\n",
              "      border-radius: 50%;\n",
              "      cursor: pointer;\n",
              "      display: none;\n",
              "      fill: #1967D2;\n",
              "      height: 32px;\n",
              "      padding: 0 0 0 0;\n",
              "      width: 32px;\n",
              "    }\n",
              "\n",
              "    .colab-df-convert:hover {\n",
              "      background-color: #E2EBFA;\n",
              "      box-shadow: 0px 1px 2px rgba(60, 64, 67, 0.3), 0px 1px 3px 1px rgba(60, 64, 67, 0.15);\n",
              "      fill: #174EA6;\n",
              "    }\n",
              "\n",
              "    [theme=dark] .colab-df-convert {\n",
              "      background-color: #3B4455;\n",
              "      fill: #D2E3FC;\n",
              "    }\n",
              "\n",
              "    [theme=dark] .colab-df-convert:hover {\n",
              "      background-color: #434B5C;\n",
              "      box-shadow: 0px 1px 3px 1px rgba(0, 0, 0, 0.15);\n",
              "      filter: drop-shadow(0px 1px 2px rgba(0, 0, 0, 0.3));\n",
              "      fill: #FFFFFF;\n",
              "    }\n",
              "  </style>\n",
              "\n",
              "      <script>\n",
              "        const buttonEl =\n",
              "          document.querySelector('#df-5d6b219f-2ef8-4362-89de-d1e97d004239 button.colab-df-convert');\n",
              "        buttonEl.style.display =\n",
              "          google.colab.kernel.accessAllowed ? 'block' : 'none';\n",
              "\n",
              "        async function convertToInteractive(key) {\n",
              "          const element = document.querySelector('#df-5d6b219f-2ef8-4362-89de-d1e97d004239');\n",
              "          const dataTable =\n",
              "            await google.colab.kernel.invokeFunction('convertToInteractive',\n",
              "                                                     [key], {});\n",
              "          if (!dataTable) return;\n",
              "\n",
              "          const docLinkHtml = 'Like what you see? Visit the ' +\n",
              "            '<a target=\"_blank\" href=https://colab.research.google.com/notebooks/data_table.ipynb>data table notebook</a>'\n",
              "            + ' to learn more about interactive tables.';\n",
              "          element.innerHTML = '';\n",
              "          dataTable['output_type'] = 'display_data';\n",
              "          await google.colab.output.renderOutput(dataTable, element);\n",
              "          const docLink = document.createElement('div');\n",
              "          docLink.innerHTML = docLinkHtml;\n",
              "          element.appendChild(docLink);\n",
              "        }\n",
              "      </script>\n",
              "    </div>\n",
              "  </div>\n",
              "  "
            ]
          },
          "metadata": {},
          "execution_count": 13
        }
      ],
      "source": [
        "X_dum = pd.get_dummies(X_no_mis, drop_first=True)\n",
        "print(X_dum.shape)\n",
        "X_dum.head()"
      ]
    },
    {
      "cell_type": "markdown",
      "metadata": {
        "id": "BVJEU31i28kf"
      },
      "source": [
        "Помимо категориальных, преобразования требуют, например, строковые признаки. Их можно превращать в матрицу частот слов [CountVectorizer](http://scikit-learn.org/stable/modules/generated/sklearn.feature_extraction.text.CountVectorizer.html#sklearn.feature_extraction.text.CountVectorizer), матрицу частот буквосочетаний фиксированной длины, можно извлекать другие признаки (например, длина строки)."
      ]
    },
    {
      "cell_type": "markdown",
      "metadata": {
        "id": "IaZ_SxAP28kf"
      },
      "source": [
        "### Масштабирование признаков\n",
        "При начале работы с данными всегда рекомендуется приводить все признаки к одному масштабу.  Это важно по нескольким причинам:\n",
        "* ускорение обучения модели;\n",
        "* улучшение численной устойчивости при работе с матрицей объекты-признаки\n",
        "* для линейных моделей: интерпретация весов при признаках как меры их значимости\n",
        "\n",
        "[Полезная ссылка](https://towardsdatascience.com/understand-data-normalization-in-machine-learning-8ff3062101f0)"
      ]
    },
    {
      "cell_type": "markdown",
      "metadata": {
        "id": "BLCmI77c28kg"
      },
      "source": [
        "Данные можно масштабировать по-разному:\n",
        "\n",
        "- Стандартизация - вычитание среднего из каждого признака и деление на стандартное отклонение (`StandardScaler` в `sklearn`).\n",
        "\n",
        "- Нормализация - вычитание минимума из каждого признака, а затем деление на разницу максимального и минимального значения (`MinMaxScaler` в `sklearn`)."
      ]
    },
    {
      "cell_type": "code",
      "execution_count": null,
      "metadata": {
        "id": "gHFbmKRzy4Im",
        "ExecuteTime": {
          "start_time": "2023-02-28T21:05:14.255197Z",
          "end_time": "2023-02-28T21:05:14.285603Z"
        }
      },
      "outputs": [],
      "source": [
        "from sklearn.preprocessing import MinMaxScaler"
      ]
    },
    {
      "cell_type": "code",
      "execution_count": null,
      "metadata": {
        "id": "jNymKr5D28kh",
        "ExecuteTime": {
          "start_time": "2023-02-28T21:05:17.972687Z",
          "end_time": "2023-02-28T21:05:17.987538Z"
        }
      },
      "outputs": [],
      "source": [
        "normalizer = MinMaxScaler()\n",
        "X_dum.columns = X_dum.columns.astype(str) \n",
        "X_real_norm_np = normalizer.fit_transform(X_dum)\n",
        "X = pd.DataFrame(data=X_real_norm_np)"
      ]
    },
    {
      "cell_type": "code",
      "execution_count": null,
      "metadata": {
        "colab": {
          "base_uri": "https://localhost:8080/",
          "height": 235
        },
        "id": "3kHPINOO28kk",
        "outputId": "8b8a6c1e-d3bb-4a28-966b-7c8094f1f020",
        "ExecuteTime": {
          "start_time": "2023-02-28T21:05:18.673607Z",
          "end_time": "2023-02-28T21:05:18.745038Z"
        }
      },
      "outputs": [
        {
          "output_type": "execute_result",
          "data": {
            "text/plain": [
              "    0         1         2         3         4         5         6         7   \\\n",
              "0  1.0  0.298429  0.058309  0.413433  0.316667  0.083333  0.411171  0.260377   \n",
              "1  1.0  0.298429  0.058309  0.413433  0.316667  0.083333  0.411171  0.260377   \n",
              "2  0.6  0.298429  0.230321  0.449254  0.433333  0.383333  0.517843  0.343396   \n",
              "3  0.8  0.518325  0.384840  0.529851  0.491667  0.541667  0.329325  0.181132   \n",
              "4  0.8  0.518325  0.373178  0.529851  0.508333  0.541667  0.518231  0.283019   \n",
              "\n",
              "         8         9   ...   56   57   58   59   60   61   62   63   64   65  \n",
              "0  0.664286  0.290476  ...  0.0  0.0  0.0  0.0  0.0  0.0  0.0  1.0  0.0  0.0  \n",
              "1  0.664286  0.290476  ...  0.0  0.0  0.0  0.0  0.0  0.0  0.0  1.0  0.0  0.0  \n",
              "2  0.100000  0.666667  ...  0.0  0.0  0.0  0.0  0.0  0.0  0.0  1.0  0.0  0.0  \n",
              "3  0.464286  0.633333  ...  0.0  0.0  0.0  0.0  0.0  0.0  0.0  1.0  0.0  0.0  \n",
              "4  0.464286  0.633333  ...  0.0  0.0  0.0  0.0  0.0  0.0  0.0  1.0  0.0  0.0  \n",
              "\n",
              "[5 rows x 66 columns]"
            ],
            "text/html": [
              "\n",
              "  <div id=\"df-df36087d-d14c-4edb-9169-c7acc0e0c364\">\n",
              "    <div class=\"colab-df-container\">\n",
              "      <div>\n",
              "<style scoped>\n",
              "    .dataframe tbody tr th:only-of-type {\n",
              "        vertical-align: middle;\n",
              "    }\n",
              "\n",
              "    .dataframe tbody tr th {\n",
              "        vertical-align: top;\n",
              "    }\n",
              "\n",
              "    .dataframe thead th {\n",
              "        text-align: right;\n",
              "    }\n",
              "</style>\n",
              "<table border=\"1\" class=\"dataframe\">\n",
              "  <thead>\n",
              "    <tr style=\"text-align: right;\">\n",
              "      <th></th>\n",
              "      <th>0</th>\n",
              "      <th>1</th>\n",
              "      <th>2</th>\n",
              "      <th>3</th>\n",
              "      <th>4</th>\n",
              "      <th>5</th>\n",
              "      <th>6</th>\n",
              "      <th>7</th>\n",
              "      <th>8</th>\n",
              "      <th>9</th>\n",
              "      <th>...</th>\n",
              "      <th>56</th>\n",
              "      <th>57</th>\n",
              "      <th>58</th>\n",
              "      <th>59</th>\n",
              "      <th>60</th>\n",
              "      <th>61</th>\n",
              "      <th>62</th>\n",
              "      <th>63</th>\n",
              "      <th>64</th>\n",
              "      <th>65</th>\n",
              "    </tr>\n",
              "  </thead>\n",
              "  <tbody>\n",
              "    <tr>\n",
              "      <th>0</th>\n",
              "      <td>1.0</td>\n",
              "      <td>0.298429</td>\n",
              "      <td>0.058309</td>\n",
              "      <td>0.413433</td>\n",
              "      <td>0.316667</td>\n",
              "      <td>0.083333</td>\n",
              "      <td>0.411171</td>\n",
              "      <td>0.260377</td>\n",
              "      <td>0.664286</td>\n",
              "      <td>0.290476</td>\n",
              "      <td>...</td>\n",
              "      <td>0.0</td>\n",
              "      <td>0.0</td>\n",
              "      <td>0.0</td>\n",
              "      <td>0.0</td>\n",
              "      <td>0.0</td>\n",
              "      <td>0.0</td>\n",
              "      <td>0.0</td>\n",
              "      <td>1.0</td>\n",
              "      <td>0.0</td>\n",
              "      <td>0.0</td>\n",
              "    </tr>\n",
              "    <tr>\n",
              "      <th>1</th>\n",
              "      <td>1.0</td>\n",
              "      <td>0.298429</td>\n",
              "      <td>0.058309</td>\n",
              "      <td>0.413433</td>\n",
              "      <td>0.316667</td>\n",
              "      <td>0.083333</td>\n",
              "      <td>0.411171</td>\n",
              "      <td>0.260377</td>\n",
              "      <td>0.664286</td>\n",
              "      <td>0.290476</td>\n",
              "      <td>...</td>\n",
              "      <td>0.0</td>\n",
              "      <td>0.0</td>\n",
              "      <td>0.0</td>\n",
              "      <td>0.0</td>\n",
              "      <td>0.0</td>\n",
              "      <td>0.0</td>\n",
              "      <td>0.0</td>\n",
              "      <td>1.0</td>\n",
              "      <td>0.0</td>\n",
              "      <td>0.0</td>\n",
              "    </tr>\n",
              "    <tr>\n",
              "      <th>2</th>\n",
              "      <td>0.6</td>\n",
              "      <td>0.298429</td>\n",
              "      <td>0.230321</td>\n",
              "      <td>0.449254</td>\n",
              "      <td>0.433333</td>\n",
              "      <td>0.383333</td>\n",
              "      <td>0.517843</td>\n",
              "      <td>0.343396</td>\n",
              "      <td>0.100000</td>\n",
              "      <td>0.666667</td>\n",
              "      <td>...</td>\n",
              "      <td>0.0</td>\n",
              "      <td>0.0</td>\n",
              "      <td>0.0</td>\n",
              "      <td>0.0</td>\n",
              "      <td>0.0</td>\n",
              "      <td>0.0</td>\n",
              "      <td>0.0</td>\n",
              "      <td>1.0</td>\n",
              "      <td>0.0</td>\n",
              "      <td>0.0</td>\n",
              "    </tr>\n",
              "    <tr>\n",
              "      <th>3</th>\n",
              "      <td>0.8</td>\n",
              "      <td>0.518325</td>\n",
              "      <td>0.384840</td>\n",
              "      <td>0.529851</td>\n",
              "      <td>0.491667</td>\n",
              "      <td>0.541667</td>\n",
              "      <td>0.329325</td>\n",
              "      <td>0.181132</td>\n",
              "      <td>0.464286</td>\n",
              "      <td>0.633333</td>\n",
              "      <td>...</td>\n",
              "      <td>0.0</td>\n",
              "      <td>0.0</td>\n",
              "      <td>0.0</td>\n",
              "      <td>0.0</td>\n",
              "      <td>0.0</td>\n",
              "      <td>0.0</td>\n",
              "      <td>0.0</td>\n",
              "      <td>1.0</td>\n",
              "      <td>0.0</td>\n",
              "      <td>0.0</td>\n",
              "    </tr>\n",
              "    <tr>\n",
              "      <th>4</th>\n",
              "      <td>0.8</td>\n",
              "      <td>0.518325</td>\n",
              "      <td>0.373178</td>\n",
              "      <td>0.529851</td>\n",
              "      <td>0.508333</td>\n",
              "      <td>0.541667</td>\n",
              "      <td>0.518231</td>\n",
              "      <td>0.283019</td>\n",
              "      <td>0.464286</td>\n",
              "      <td>0.633333</td>\n",
              "      <td>...</td>\n",
              "      <td>0.0</td>\n",
              "      <td>0.0</td>\n",
              "      <td>0.0</td>\n",
              "      <td>0.0</td>\n",
              "      <td>0.0</td>\n",
              "      <td>0.0</td>\n",
              "      <td>0.0</td>\n",
              "      <td>1.0</td>\n",
              "      <td>0.0</td>\n",
              "      <td>0.0</td>\n",
              "    </tr>\n",
              "  </tbody>\n",
              "</table>\n",
              "<p>5 rows × 66 columns</p>\n",
              "</div>\n",
              "      <button class=\"colab-df-convert\" onclick=\"convertToInteractive('df-df36087d-d14c-4edb-9169-c7acc0e0c364')\"\n",
              "              title=\"Convert this dataframe to an interactive table.\"\n",
              "              style=\"display:none;\">\n",
              "        \n",
              "  <svg xmlns=\"http://www.w3.org/2000/svg\" height=\"24px\"viewBox=\"0 0 24 24\"\n",
              "       width=\"24px\">\n",
              "    <path d=\"M0 0h24v24H0V0z\" fill=\"none\"/>\n",
              "    <path d=\"M18.56 5.44l.94 2.06.94-2.06 2.06-.94-2.06-.94-.94-2.06-.94 2.06-2.06.94zm-11 1L8.5 8.5l.94-2.06 2.06-.94-2.06-.94L8.5 2.5l-.94 2.06-2.06.94zm10 10l.94 2.06.94-2.06 2.06-.94-2.06-.94-.94-2.06-.94 2.06-2.06.94z\"/><path d=\"M17.41 7.96l-1.37-1.37c-.4-.4-.92-.59-1.43-.59-.52 0-1.04.2-1.43.59L10.3 9.45l-7.72 7.72c-.78.78-.78 2.05 0 2.83L4 21.41c.39.39.9.59 1.41.59.51 0 1.02-.2 1.41-.59l7.78-7.78 2.81-2.81c.8-.78.8-2.07 0-2.86zM5.41 20L4 18.59l7.72-7.72 1.47 1.35L5.41 20z\"/>\n",
              "  </svg>\n",
              "      </button>\n",
              "      \n",
              "  <style>\n",
              "    .colab-df-container {\n",
              "      display:flex;\n",
              "      flex-wrap:wrap;\n",
              "      gap: 12px;\n",
              "    }\n",
              "\n",
              "    .colab-df-convert {\n",
              "      background-color: #E8F0FE;\n",
              "      border: none;\n",
              "      border-radius: 50%;\n",
              "      cursor: pointer;\n",
              "      display: none;\n",
              "      fill: #1967D2;\n",
              "      height: 32px;\n",
              "      padding: 0 0 0 0;\n",
              "      width: 32px;\n",
              "    }\n",
              "\n",
              "    .colab-df-convert:hover {\n",
              "      background-color: #E2EBFA;\n",
              "      box-shadow: 0px 1px 2px rgba(60, 64, 67, 0.3), 0px 1px 3px 1px rgba(60, 64, 67, 0.15);\n",
              "      fill: #174EA6;\n",
              "    }\n",
              "\n",
              "    [theme=dark] .colab-df-convert {\n",
              "      background-color: #3B4455;\n",
              "      fill: #D2E3FC;\n",
              "    }\n",
              "\n",
              "    [theme=dark] .colab-df-convert:hover {\n",
              "      background-color: #434B5C;\n",
              "      box-shadow: 0px 1px 3px 1px rgba(0, 0, 0, 0.15);\n",
              "      filter: drop-shadow(0px 1px 2px rgba(0, 0, 0, 0.3));\n",
              "      fill: #FFFFFF;\n",
              "    }\n",
              "  </style>\n",
              "\n",
              "      <script>\n",
              "        const buttonEl =\n",
              "          document.querySelector('#df-df36087d-d14c-4edb-9169-c7acc0e0c364 button.colab-df-convert');\n",
              "        buttonEl.style.display =\n",
              "          google.colab.kernel.accessAllowed ? 'block' : 'none';\n",
              "\n",
              "        async function convertToInteractive(key) {\n",
              "          const element = document.querySelector('#df-df36087d-d14c-4edb-9169-c7acc0e0c364');\n",
              "          const dataTable =\n",
              "            await google.colab.kernel.invokeFunction('convertToInteractive',\n",
              "                                                     [key], {});\n",
              "          if (!dataTable) return;\n",
              "\n",
              "          const docLinkHtml = 'Like what you see? Visit the ' +\n",
              "            '<a target=\"_blank\" href=https://colab.research.google.com/notebooks/data_table.ipynb>data table notebook</a>'\n",
              "            + ' to learn more about interactive tables.';\n",
              "          element.innerHTML = '';\n",
              "          dataTable['output_type'] = 'display_data';\n",
              "          await google.colab.output.renderOutput(dataTable, element);\n",
              "          const docLink = document.createElement('div');\n",
              "          docLink.innerHTML = docLinkHtml;\n",
              "          element.appendChild(docLink);\n",
              "        }\n",
              "      </script>\n",
              "    </div>\n",
              "  </div>\n",
              "  "
            ]
          },
          "metadata": {},
          "execution_count": 16
        }
      ],
      "source": [
        "X.head()"
      ]
    },
    {
      "cell_type": "markdown",
      "metadata": {
        "id": "dbwg7jRv28kn"
      },
      "source": [
        "### Добавление признаков\n",
        "Особенно важным моментом для линейной регрессии является нелинейное преобразование признаков. Это позволяет использовать линейную регрессию для моделирования нелинейных зависимостей. \n",
        "\n",
        "Наиболее популярны следующие преобразования: \n",
        "- полиномиальные признаки (PolynomialFeatures в sklearn)\n",
        "- взятие логарифма\n",
        "- квадратного корня\n",
        "- применение тригонометрических функий.\n",
        "\n",
        "Например, посмотрев на данные, мы можем заметить, что зависимость целевой переменной от шестого признака скорее квадратичная, чем линейная:"
      ]
    },
    {
      "cell_type": "code",
      "execution_count": null,
      "metadata": {
        "id": "pSL1DWQw28ko",
        "ExecuteTime": {
          "start_time": "2023-02-28T21:05:29.347013Z",
          "end_time": "2023-02-28T21:05:30.288031Z"
        }
      },
      "outputs": [],
      "source": [
        "import numpy as np\n",
        "from matplotlib import pyplot as plt\n",
        "\n",
        "%matplotlib inline"
      ]
    },
    {
      "cell_type": "code",
      "execution_count": null,
      "metadata": {
        "colab": {
          "base_uri": "https://localhost:8080/",
          "height": 265
        },
        "id": "Bv0qZAP028kr",
        "outputId": "8f14313c-10e8-477b-e2ec-3bf40eab6b48",
        "ExecuteTime": {
          "start_time": "2023-02-28T21:05:30.799151Z",
          "end_time": "2023-02-28T21:05:30.965058Z"
        }
      },
      "outputs": [
        {
          "output_type": "display_data",
          "data": {
            "text/plain": [
              "<Figure size 432x288 with 1 Axes>"
            ],
            "image/png": "[encoded data removed]"
          },
          "metadata": {
            "needs_background": "light"
          }
        }
      ],
      "source": [
        "plt.scatter(X[6], y)\n",
        "plt.show()"
      ]
    },
    {
      "cell_type": "code",
      "execution_count": null,
      "metadata": {
        "colab": {
          "base_uri": "https://localhost:8080/",
          "height": 265
        },
        "id": "In7bi4a728ku",
        "outputId": "2a62493d-7757-4e08-b1e8-664fc093c22b",
        "ExecuteTime": {
          "start_time": "2023-02-28T21:05:34.053598Z",
          "end_time": "2023-02-28T21:05:34.183498Z"
        }
      },
      "outputs": [
        {
          "output_type": "display_data",
          "data": {
            "text/plain": [
              "<Figure size 432x288 with 1 Axes>"
            ],
            "image/png": "[encoded data removed]"
          },
          "metadata": {
            "needs_background": "light"
          }
        }
      ],
      "source": [
        "plt.scatter(X[6] ** 2, y)\n",
        "plt.show()"
      ]
    },
    {
      "cell_type": "markdown",
      "metadata": {
        "id": "3LLqJaxF28kw"
      },
      "source": [
        "> А для признака номер 13 линеаризовать зависимость получается с помощью функции $\\frac 1 {\\sqrt{x}}$"
      ]
    },
    {
      "cell_type": "code",
      "execution_count": null,
      "metadata": {
        "colab": {
          "base_uri": "https://localhost:8080/",
          "height": 265
        },
        "id": "Ff2MqK_U28kx",
        "outputId": "24a1d5bc-1247-45f5-97f8-463610d8dcca",
        "ExecuteTime": {
          "start_time": "2023-02-28T21:05:41.009388Z",
          "end_time": "2023-02-28T21:05:41.144253Z"
        }
      },
      "outputs": [
        {
          "output_type": "display_data",
          "data": {
            "text/plain": [
              "<Figure size 432x288 with 1 Axes>"
            ],
            "image/png": "[encoded data removed]"
          },
          "metadata": {
            "needs_background": "light"
          }
        }
      ],
      "source": [
        "plt.scatter(X[13], y)\n",
        "plt.show()"
      ]
    },
    {
      "cell_type": "code",
      "execution_count": null,
      "metadata": {
        "colab": {
          "base_uri": "https://localhost:8080/",
          "height": 265
        },
        "id": "6MhgQI3p28kz",
        "outputId": "d1b1eda3-717c-469c-8fa0-6de5f6b71ff8",
        "ExecuteTime": {
          "start_time": "2023-02-28T21:05:41.394951Z",
          "end_time": "2023-02-28T21:05:41.535320Z"
        }
      },
      "outputs": [
        {
          "output_type": "display_data",
          "data": {
            "text/plain": [
              "<Figure size 432x288 with 1 Axes>"
            ],
            "image/png": "[encoded data removed]"
          },
          "metadata": {
            "needs_background": "light"
          }
        }
      ],
      "source": [
        "plt.scatter(1 / np.sqrt(X[13]), y)\n",
        "plt.show()"
      ]
    },
    {
      "cell_type": "markdown",
      "metadata": {
        "id": "C6Qy8_i_28k1"
      },
      "source": [
        "__Обратите внимание__: при генерации полиномиальных признаков матрица объекты-признаки может занимать много памяти."
      ]
    },
    {
      "cell_type": "markdown",
      "metadata": {
        "id": "nPqAUdTR28k1"
      },
      "source": [
        "## Функции потерь в регрессии"
      ]
    },
    {
      "cell_type": "markdown",
      "metadata": {
        "collapsed": true,
        "id": "4nkY6ylA28k2"
      },
      "source": [
        "Функционал качества в задачах обучения с учителем обычно задается в виде суммы по объектам выборки:\n",
        "$$Q(a) = \\frac 1 \\ell \\sum_{i=1}^\\ell L(y_i, a(x_i)),$$\n",
        "где $L(\\cdot, \\cdot)$ - функция потерь, задающая штраф за разницу между предсказанием и истинным значением целевого признака. Свойства функции потерь:\n",
        "* $L(y_i, a(x_i)) \\geqslant 0$;\n",
        "* $L(y_i, y_i) = 0$. "
      ]
    },
    {
      "cell_type": "markdown",
      "metadata": {
        "id": "0tvTz0GJ28k3"
      },
      "source": [
        "Функционал качества должен в первую очередь отвечать требованиям заказчика, при этом математические свойства функции потерь могут быть неудобны для оптимизации. \n",
        "\n",
        "__Пример:__ если мы не различаем маленькие ошибки (между 0.01 и 0.1 нет особой разницы), но зато не хотим получать большие ошибки, можно использовать следующую функцию потерь:\n",
        "\n",
        "$$L(y_i, a(x_i)) = [| y_i - a(x_i) | < \\varepsilon],$$ $\\varepsilon$ - допустимая разница между предсказанием и фактом.\n"
      ]
    },
    {
      "cell_type": "markdown",
      "metadata": {
        "id": "j-ade-VU28k4"
      },
      "source": [
        "### Среднеквадратичная и средняя абсолютная ошибка\n",
        "Кроме требований заказчика, функционал качества должен учитывать математические особенности модели - например, устойчивость к шумовым объектам. \n",
        "\n",
        "В линейной регрессии Mean Squared Error: $L(y_i, a(x_i)) = (a(x_i) - y_i)^2$ не обладает этим свойством, потому что задает очень большие штрафы за большие отклонения от фактического значения. \n",
        "\n",
        "$$MSE (a, X, Y) = \\sum^L_{i=1}(a(x_i) - y_i)^2$$\n",
        "\n",
        "Рассмотрим это явление на примере. Выберем один признак, от которого целевой признак (имеющий индекс 15 в матрице X) зависит практически линейно. Добавим к выборке два объекта-выброса и посмотрим, как изменится оптимизированная на MSE прямая."
      ]
    },
    {
      "cell_type": "code",
      "execution_count": null,
      "metadata": {
        "id": "JVmJjuUU28k7"
      },
      "outputs": [],
      "source": [
        "X_subset = X[[7, 15]].values\n",
        "X_subset_modified = np.vstack((X_subset, [[1, 90], [2, 50]]))  # добавление двух шумовых точек"
      ]
    },
    {
      "cell_type": "code",
      "execution_count": null,
      "metadata": {
        "id": "jNZJOsJp28k9"
      },
      "outputs": [],
      "source": [
        "def scatter_points_and_plot_line_MSE(X_subset):\n",
        "    plt.scatter(X_subset[:, 0], X_subset[:, 1])  # визуализируем точки\n",
        "    lr = LinearRegression()\n",
        "    lr.fit(X_subset[:, 0][:, np.newaxis], X_subset[:, 1])  # вычислим веса линейной модели\n",
        "    grid = np.linspace(0, 2, 100)\n",
        "    line = lr.predict(grid[:, np.newaxis])\n",
        "    plt.plot(grid, line)  # визуализируем прямую"
      ]
    },
    {
      "cell_type": "code",
      "source": [
        "from sklearn.linear_model import LinearRegression"
      ],
      "metadata": {
        "id": "67nQSH5sQYB0"
      },
      "execution_count": null,
      "outputs": []
    },
    {
      "cell_type": "code",
      "execution_count": null,
      "metadata": {
        "colab": {
          "base_uri": "https://localhost:8080/",
          "height": 338
        },
        "id": "EurNOGcA28k_",
        "outputId": "1d8031c7-4f11-43e2-cdb2-c51e8c8f2cf8"
      },
      "outputs": [
        {
          "output_type": "display_data",
          "data": {
            "text/plain": [
              "<Figure size 1440x360 with 2 Axes>"
            ],
            "image/png": "[encoded data removed]"
          },
          "metadata": {
            "needs_background": "light"
          }
        }
      ],
      "source": [
        "plt.figure(figsize=(20, 5))\n",
        "plt.subplot(1, 2, 1)\n",
        "scatter_points_and_plot_line_MSE(X_subset)\n",
        "plt.ylim(-20, 100)\n",
        "plt.xlabel(\"x\")\n",
        "plt.ylabel(\"y\")\n",
        "plt.subplot(1, 2, 2)\n",
        "scatter_points_and_plot_line_MSE(X_subset_modified)\n",
        "plt.ylim(-20, 100)\n",
        "plt.xlabel(\"x\")\n",
        "plt.show()"
      ]
    },
    {
      "cell_type": "markdown",
      "metadata": {
        "id": "-6JR5Gxq8ZcZ"
      },
      "source": [
        "**Задание:** Реализуйте функцию для подсчета MSE с использованием numpy"
      ]
    },
    {
      "cell_type": "code",
      "execution_count": null,
      "metadata": {
        "colab": {
          "base_uri": "https://localhost:8080/"
        },
        "id": "G1mp3T5y844J",
        "outputId": "80dc5442-a8db-4a7e-a183-36873f3c54c8"
      },
      "outputs": [
        {
          "output_type": "stream",
          "name": "stdout",
          "text": [
            "The Mean Square Error is:  1.45\n"
          ]
        }
      ],
      "source": [
        "def MSE(y: np.array, y_pred: np.array) -> np.float64:\n",
        "    return  np.mean((y - y_pred) ** 2)\n",
        "\n",
        "a = np.array([11, 20, 19, 17, 10])\n",
        "pred = np.array([12, 18, 19.5, 18, 9])\n",
        "mse = MSE(y=a, y_pred=pred)\n",
        "print(\"The Mean Square Error is: \", mse)\n",
        "assert mse == 1.45"
      ]
    },
    {
      "cell_type": "markdown",
      "metadata": {
        "id": "LoNn7V3VAxH7"
      },
      "source": [
        "Среднеквадратичная ошибка подходит для сравнения двух моделей или для контроля качества во время обучения. Из-за того, разница возводится в квадрат - сложно дать этому числу интерпретацию. Для лучшей интерпретации используется Root Mean Square Error (RMSE). Таким образом, если MSE показывает разницу в квадратных единицах, значение RMSE сохранится в исходных. \n",
        "\n",
        "$$RMSE (a, X, Y) = \\sqrt{MSE (a, X)} = \\sqrt{ \\sum^L_{i=1}(a(x_i) - y_i)^2}$$"
      ]
    },
    {
      "cell_type": "markdown",
      "metadata": {
        "id": "b2R6urCMCeN5"
      },
      "source": [
        "**Задание:** Реализуйте функцию для подсчета RMSE с использованием numpy"
      ]
    },
    {
      "cell_type": "code",
      "execution_count": null,
      "metadata": {
        "colab": {
          "base_uri": "https://localhost:8080/"
        },
        "id": "IowhU6p1Cj47",
        "outputId": "9a23585c-1853-4649-e6c8-671e3a26a6e6"
      },
      "outputs": [
        {
          "output_type": "stream",
          "name": "stdout",
          "text": [
            "The Root Mean Square Error is:  1.2041594578792296\n"
          ]
        }
      ],
      "source": [
        "def RMSE(y: np.array, y_pred: np.array) -> np.float64:\n",
        "    return  np.sqrt(MSE(y, y_pred))\n",
        "\n",
        "rmse = RMSE(y=a, y_pred=pred)\n",
        "print(\"The Root Mean Square Error is: \", rmse)\n",
        "assert rmse == 1.2041594578792296"
      ]
    },
    {
      "cell_type": "markdown",
      "metadata": {
        "id": "P3eqYonVJd8a"
      },
      "source": [
        "Коэффициент детерминации $R^2$ показывает долю дисперсии в целевой переменной, которая обьяснена зависимыми переменными. $R^2$ можно интерпретировать как некоторого рода нормированное MSE.\n",
        "\n",
        "$$R^2(a, X, Y) = 1 - \\frac {\\sum^L_{i=1}(a(x_i) - y_i)^2}{\\sum^L_{i=1}(y_i - \\bar{y})^2}$$"
      ]
    },
    {
      "cell_type": "markdown",
      "metadata": {
        "id": "GgfsEt5DLbQW"
      },
      "source": [
        "**Задание:** реализуйте функцию для вычисления $R^2$"
      ]
    },
    {
      "cell_type": "code",
      "execution_count": null,
      "metadata": {
        "id": "KK3o7GozLjkV",
        "colab": {
          "base_uri": "https://localhost:8080/"
        },
        "outputId": "ac579816-8cd0-4512-da77-445b1016bc83"
      },
      "outputs": [
        {
          "output_type": "stream",
          "name": "stdout",
          "text": [
            "The R2 is: 0.914906103286385\n"
          ]
        }
      ],
      "source": [
        "def R_squared(y: np.array, y_pred: np.array) -> np.float64:\n",
        "    pred_mse = np.sum((y - y_pred) ** 2)\n",
        "    mean_mse = np.sum((y - np.mean(y)) ** 2)\n",
        "    return  1 - pred_mse / mean_mse\n",
        "    # YOUR CODE HERE\n",
        "\n",
        "\n",
        "r_squared = R_squared(y=a, y_pred=pred)\n",
        "print(\"The R2 is:\", r_squared)"
      ]
    },
    {
      "cell_type": "markdown",
      "metadata": {
        "id": "oa7c8WRk28lC"
      },
      "source": [
        "Из-за того, что мы учитываем квадрат отклонения - шумовые объекты могут сильно изменить наклон прямой. Поэтому в качестве альтернативы MSE можно использовать Mean Absolute Error: $L(y_i, a(x_i)) = |a(x_i) - y_i|$.\n",
        "\n",
        "$$MAE(a, X, Y) = \\frac {1}{L} \\sum^L_{i=1}|a(x_i) - y_i|$$\n",
        "\n",
        "Теперь обучим регрессию, оптимизируя MAE. В `sklearn` такая регрессия не реализована, но можно использовать модуль `statsmodels` - более формально, необходимая модель может быть получена с помощью обучения квантильной регрессии с параметром `q=0.5`."
      ]
    },
    {
      "cell_type": "markdown",
      "metadata": {
        "id": "_jqHvxqXDt6q"
      },
      "source": [
        "**Задание:** Реализуйте функцию для подсчета MAE с использованием numpy"
      ]
    },
    {
      "cell_type": "code",
      "execution_count": null,
      "metadata": {
        "colab": {
          "base_uri": "https://localhost:8080/"
        },
        "id": "Eo-0TW82DzPw",
        "outputId": "0c3cb8e3-ed3d-4bcc-f572-df583f25b58d"
      },
      "outputs": [
        {
          "output_type": "stream",
          "name": "stdout",
          "text": [
            "The Mean Absolute Error is:  1.1\n"
          ]
        }
      ],
      "source": [
        "def MAE(y: np.array, y_pred: np.array) -> np.float64:\n",
        "    return  np.mean(np.abs(y - y_pred))\n",
        "    # YOUR CODE HERE\n",
        "\n",
        "\n",
        "mae = MAE(y=a, y_pred=pred)\n",
        "print(\"The Mean Absolute Error is: \", mae)\n",
        "assert mae == 1.1"
      ]
    },
    {
      "cell_type": "markdown",
      "metadata": {
        "id": "1KRvgVyVy4Iq"
      },
      "source": [
        "!pip install --user git+https://github.com/statsmodels/statsmodels # (если не работает импортирование библиотек ниже)"
      ]
    },
    {
      "cell_type": "code",
      "execution_count": null,
      "metadata": {
        "id": "PL2zqH8x28lD"
      },
      "outputs": [],
      "source": [
        "import statsmodels.formula.api as smf"
      ]
    },
    {
      "cell_type": "code",
      "execution_count": null,
      "metadata": {
        "id": "BFTTYeqY28lF"
      },
      "outputs": [],
      "source": [
        "def scatter_points_and_plot_line_MAE(X_subset):\n",
        "    # задаем зависимость переменной f15 от переменной f7 и передаем данные\n",
        "    mod = smf.quantreg(\"f15 ~ f7\", pd.DataFrame(data=X_subset, columns=[\"f7\", \"f15\"]))\n",
        "    res = mod.fit(q=0.5)\n",
        "\n",
        "    # визуализируем точки\n",
        "    plt.scatter(X_subset[:, 0], X_subset[:, 1])\n",
        "    grid = np.linspace(0, 2, 100)\n",
        "\n",
        "    # визуализируем прямую\n",
        "    plt.plot(grid, grid * res.params[\"f7\"] + res.params[\"Intercept\"])\n",
        "    return mod, res"
      ]
    },
    {
      "cell_type": "code",
      "execution_count": null,
      "metadata": {
        "colab": {
          "base_uri": "https://localhost:8080/",
          "height": 459
        },
        "id": "ie_4TNdc28lH",
        "outputId": "d2c25f64-2e31-495e-d374-95419de4e988"
      },
      "outputs": [
        {
          "output_type": "stream",
          "name": "stderr",
          "text": [
            "/usr/local/lib/python3.9/dist-packages/statsmodels/regression/quantile_regression.py:206: RuntimeWarning: divide by zero encountered in double_scalars\n",
            "  d = np.where(e > 0, (q/fhat0)**2, ((1-q)/fhat0)**2)\n",
            "/usr/local/lib/python3.9/dist-packages/statsmodels/regression/quantile_regression.py:208: RuntimeWarning: invalid value encountered in multiply\n",
            "  xtdx = np.dot(exog.T * d[np.newaxis, :], exog)\n",
            "/usr/local/lib/python3.9/dist-packages/statsmodels/regression/quantile_regression.py:219: RuntimeWarning: divide by zero encountered in double_scalars\n",
            "  lfit.sparsity = 1. / fhat0\n"
          ]
        },
        {
          "output_type": "execute_result",
          "data": {
            "text/plain": [
              "Text(0.5, 0, 'x')"
            ]
          },
          "metadata": {},
          "execution_count": 32
        },
        {
          "output_type": "display_data",
          "data": {
            "text/plain": [
              "<Figure size 1440x360 with 2 Axes>"
            ],
            "image/png": "[encoded data removed]"
          },
          "metadata": {
            "needs_background": "light"
          }
        }
      ],
      "source": [
        "plt.figure(figsize=(20, 5))\n",
        "plt.subplot(1, 2, 1)\n",
        "model, result = scatter_points_and_plot_line_MAE(X_subset)\n",
        "plt.ylim(-20, 100)\n",
        "plt.xlabel(\"x\")\n",
        "plt.ylabel(\"y\")\n",
        "plt.subplot(1, 2, 2)\n",
        "model, result = scatter_points_and_plot_line_MAE(X_subset_modified)\n",
        "plt.ylim(-20, 100)\n",
        "plt.xlabel(\"x\")"
      ]
    },
    {
      "cell_type": "markdown",
      "metadata": {
        "id": "AWlsyGfu28lK"
      },
      "source": [
        "Прямая практически не изменила направление из-за выбросов."
      ]
    },
    {
      "cell_type": "markdown",
      "metadata": {
        "id": "E2doEVqJ28lL"
      },
      "source": [
        "Попробуем добавить больше шумовых объектов:"
      ]
    },
    {
      "cell_type": "code",
      "execution_count": null,
      "metadata": {
        "id": "RdDGJBER28lM"
      },
      "outputs": [],
      "source": [
        "np.random.seed(13)\n",
        "X_subset_modified_twice = np.vstack(\n",
        "    (X_subset_modified, np.random.randint(5, size=60).reshape(-1, 2) * [1, 30])\n",
        ")  # добавление 30 шумовых точек"
      ]
    },
    {
      "cell_type": "code",
      "execution_count": null,
      "metadata": {
        "colab": {
          "base_uri": "https://localhost:8080/",
          "height": 459
        },
        "id": "McWJOOlN28lO",
        "outputId": "30bfbeb9-2f94-48bb-e51f-997db30311dd"
      },
      "outputs": [
        {
          "output_type": "stream",
          "name": "stderr",
          "text": [
            "/usr/local/lib/python3.9/dist-packages/statsmodels/regression/quantile_regression.py:206: RuntimeWarning: divide by zero encountered in double_scalars\n",
            "  d = np.where(e > 0, (q/fhat0)**2, ((1-q)/fhat0)**2)\n",
            "/usr/local/lib/python3.9/dist-packages/statsmodels/regression/quantile_regression.py:208: RuntimeWarning: invalid value encountered in multiply\n",
            "  xtdx = np.dot(exog.T * d[np.newaxis, :], exog)\n",
            "/usr/local/lib/python3.9/dist-packages/statsmodels/regression/quantile_regression.py:219: RuntimeWarning: divide by zero encountered in double_scalars\n",
            "  lfit.sparsity = 1. / fhat0\n"
          ]
        },
        {
          "output_type": "execute_result",
          "data": {
            "text/plain": [
              "Text(0.5, 0, 'x')"
            ]
          },
          "metadata": {},
          "execution_count": 34
        },
        {
          "output_type": "display_data",
          "data": {
            "text/plain": [
              "<Figure size 1440x360 with 2 Axes>"
            ],
            "image/png": "[encoded data removed]"
          },
          "metadata": {
            "needs_background": "light"
          }
        }
      ],
      "source": [
        "plt.figure(figsize=(20, 5))\n",
        "plt.subplot(1, 2, 1)\n",
        "model, result = scatter_points_and_plot_line_MAE(X_subset)\n",
        "plt.ylim(-20, 100)\n",
        "plt.xlabel(\"x\")\n",
        "plt.ylabel(\"y\")\n",
        "plt.subplot(1, 2, 2)\n",
        "model, result = scatter_points_and_plot_line_MAE(X_subset_modified_twice)\n",
        "plt.ylim(-20, 100)\n",
        "plt.xlabel(\"x\")"
      ]
    },
    {
      "cell_type": "markdown",
      "metadata": {
        "id": "sCq7zu_K28lQ"
      },
      "source": [
        "Под таким количеством выбросов, изменилась даже регрессия над MAE"
      ]
    },
    {
      "cell_type": "markdown",
      "metadata": {
        "id": "Gbh-npZmOM0o"
      },
      "source": [
        "---"
      ]
    },
    {
      "cell_type": "markdown",
      "metadata": {
        "id": "-PMB5CGj28lR"
      },
      "source": [
        "Рассмотрим некоторые свойства MSE и MAE.\n",
        "\n",
        "Допустим алгоритм возвращает константное предсказание: $a(x) = C, C \\in R$. В качестве примера такого алгоритма можно представить предсказание прибыли в январе константой, равной средней прибыли за январь всех предыдущих лет работы.\n",
        "\n",
        "__Задача.__ Найдите $C$, минимизирующий среднеквадратичную ошибку.\n",
        "\n",
        "$L(c) = 1/l\\sum_{i=1}^l (y_i - C)^2 → min$ - поставили константное предсказание C в ошибку\n",
        "\n",
        "Минимум будет достигаться, когда производная по C равна 0. (Производную ищем по C, так как именно этот параметр мы подбираем)\n",
        "\n",
        "$L'(C) = 1/l\\sum_{i=1}^l -2 (y_i - C) $\n",
        "\n",
        "$L'(C^*)= 0$ (убираем константы)\n",
        "\n",
        "$\\sum_{i=1}^l (y_i - C^*) = 0$ (C не зависит от $i$, поэтому выносим из-под знака суммы)\n",
        "\n",
        "$-lC^* + \\sum_{i=1}^l y_i = 0$ (Переносим и делим на $l$)\n",
        "\n",
        "\n",
        "$C^* = \\frac{\\sum_{i=1}^l y_i}{l} = mean\\{y\\}$\n",
        "\n",
        "Проверяем вторую производную:\n",
        "\n",
        "$L''(C) = 1/l\\sum_{i=1}^l -2 (-1) = 2 > 0$, значит $C^*$ - это точка минимума\n",
        "\n",
        "Таким образом константа $mean\\{y\\}$ минимизирует среднеквадратичную ошибку\n",
        "\n",
        "\n",
        "__Задача.__ Найдите $C$, минимизирующий среднюю абсолютную ошибку.\n",
        "\n",
        "С MAE дело обстоит сложнее, так как модуль не диффернцируется.\n",
        "\n",
        "[Сложный варинт объяснения](https://math.stackexchange.com/questions/2139137/proving-maemean-absolute-error-argmin-is-median-using-functionals) \n",
        "\n",
        "Менее формальное:\n",
        "\n",
        "Положим, что $C^*$ - константа, минимизирующая среднюю абсолютную ошибку.\n",
        "\n",
        "\n",
        "\n",
        "Если она не совпадает с каким-либо $y_i$,  то левее $C^*$ расположено $l_-$ $y_j$, а правее - $l_+$ ($l_- + l_+ = l$)\n",
        "\n",
        "Если от $C^*$ вправо отступить на $ϵ>0$, то $ΔL(C^*) = ϵ(l_- - l_+)$ (ошибка на $l_-$ левых объектах увеличилась на $ϵ$, а на всех правых - уменьшилась на $\\epsilon$) Так как $C^*$ минимизирует ошибку, то $ϵ(l_- - l_+) ≥ 0 ⇒l_- \\ge l_+$\n",
        "\n",
        "Рассуждая аналогично для отступа влево, получим $l_+ \\ge l_-$\n",
        "\n",
        "Таким образом, $l_+ = l_-$, то есть $C^* = median\\{y\\}$ \n",
        "\n",
        "Второй вариант, когда $C^*$ совпадает с какими-то $y_i$ ($l_0$ штук) рассматривается аналогично."
      ]
    },
    {
      "cell_type": "code",
      "source": [
        "#Небольшая проверка перебором\n",
        "y = np.random.rand(123)\n",
        "mean = np.mean(y)\n",
        "median = np.median(y)\n",
        "\n",
        "#Кандидаты на лучшую константу (меньше минимума, больше максимума не надо)\n",
        "candidates =  np.arange(0, 1.001, 0.001)\n",
        "#y_i - c_j (посчитали разность истины и константы для всех объектов и всех кандидатов)\n",
        "z  = y[..., np.newaxis] - candidates[np.newaxis, ...]\n",
        "\n",
        "mse_loss = np.sum(z ** 2, axis=0)\n",
        "mae_loss = np.sum(np.abs(z), axis=0)\n",
        "\n",
        "print('MSE: the resulting best', candidates[np.argmin(mse_loss)], '\\tmean  ', mean  )\n",
        "print('MAE: the resulting best', candidates[np.argmin(mae_loss)], '\\tmedian', median)"
      ],
      "metadata": {
        "colab": {
          "base_uri": "https://localhost:8080/"
        },
        "id": "7RiLaoXfDGxo",
        "outputId": "08f9026f-d632-4801-805c-d0799fc32a5b"
      },
      "execution_count": null,
      "outputs": [
        {
          "output_type": "stream",
          "name": "stdout",
          "text": [
            "MSE: the resulting best 0.451 \tmean   0.45067879826043333\n",
            "MAE: the resulting best 0.395 \tmedian 0.39524181826363247\n"
          ]
        }
      ]
    },
    {
      "cell_type": "markdown",
      "metadata": {
        "id": "Z7lxcAGx28lR"
      },
      "source": [
        "Поскольку средняя абсолютная ошибка не является дифференцируемой по $w$ функцией, оптимизировать ее напрямую методом градиентного спуска не удастся. Для этого используются [субградиентные](https://ru.wikipedia.org/wiki/Субдифференциал) (что в почти не меняет процедуры спуска, только вместо градиента берется один из субградиентов) или другие методы."
      ]
    },
    {
      "cell_type": "markdown",
      "metadata": {
        "id": "aMkNLdXE28lS"
      },
      "source": [
        "### Huber Loss\n",
        "Иногда используют \"гибрид\" MAE и MSE, который, как и MAE, устойчив к шумовым объектам, и как и MSE, мало штрафует малые отклонения от фактического значения целевого признака - Huber Loss:\n",
        "$$L_i(y_i, a(x_i)) = \\phi_\\varepsilon(a(x_i) - y_i)$$\n",
        "$$\\phi_\\varepsilon(z) = \\begin{cases} \\frac 1 2 z^2, - \\varepsilon < z < \\varepsilon, \\\\\\varepsilon (|z| - \\frac 1 2 \\varepsilon), иначе \\\\ \\end{cases}$$\n",
        "\n",
        "Можно проверить, что у этой функции существует непрерывная первая проиводная во всех точках.\n",
        "\n",
        "Оптимизация Huber Loss реализована в sklearn."
      ]
    },
    {
      "cell_type": "markdown",
      "metadata": {
        "id": "h5_lQyA1Hz2l"
      },
      "source": [
        "**Задание:** реализуйте функцию потерь Хьюбера"
      ]
    },
    {
      "cell_type": "code",
      "execution_count": null,
      "metadata": {
        "colab": {
          "base_uri": "https://localhost:8080/"
        },
        "id": "SyTaEVslFGb5",
        "outputId": "da891954-7b2b-4c67-9812-73a8f10b928b"
      },
      "outputs": [
        {
          "output_type": "stream",
          "name": "stdout",
          "text": [
            "The Huber Loss is: 0.10500000000000001\n"
          ]
        }
      ],
      "source": [
        "def Huber(y, y_pred):\n",
        "    # YOUR CODE HERE\n",
        "    eps = 0.1\n",
        "    mse_h = (y - y_pred) ** 2 / 2\n",
        "    mae_h = (np.abs(y - y_pred) - eps / 2) * eps\n",
        "    loss = np.where(np.abs(y - y_pred) < eps, mse_h, mae_h)\n",
        "    return np.mean(loss)\n",
        "\n",
        "\n",
        "huber = Huber(y=a, y_pred=pred)\n",
        "print(\"The Huber Loss is:\", huber)"
      ]
    },
    {
      "cell_type": "markdown",
      "metadata": {
        "id": "00WIecdEGqE7"
      },
      "source": [
        "### Mean Squared Logarifmic Erorr (MSLE)\n",
        "\n",
        "Данная функция потерь применяется в случаях, когда лучше получать заниженные прогнозы, нежели завышенные.\n",
        "\n",
        "Важное примечание: из-за присутствия логарифма в формуле **целевая переменная должна быть неотрицательной!**. Единицу добавляем, чтобы случайно не получить логарифм нуля.\n",
        "\n",
        "$$L_i(a(x_i), Y_i) = (\\log(a(x_i)+1) - \\log(y_i+1))^2$$"
      ]
    },
    {
      "cell_type": "markdown",
      "metadata": {
        "id": "uDbvxTRyHyRB"
      },
      "source": [
        "**Задание:** реализуйте MSLE"
      ]
    },
    {
      "cell_type": "code",
      "execution_count": null,
      "metadata": {
        "id": "nzpzqKvLINLo",
        "colab": {
          "base_uri": "https://localhost:8080/"
        },
        "outputId": "08a1ca2b-4ebd-436a-d42f-50179ab860eb"
      },
      "outputs": [
        {
          "output_type": "stream",
          "name": "stdout",
          "text": [
            "The Mean Squared Logarifmic Error is: 0.005808110727039668\n"
          ]
        }
      ],
      "source": [
        "def MSLE(y, y_pred):\n",
        "    return np.mean((np.log(y_pred + 1) - np.log(y + 1)) ** 2)\n",
        "\n",
        "msle = MSLE(y=a, y_pred=pred)\n",
        "print(\"The Mean Squared Logarifmic Error is:\", msle)"
      ]
    },
    {
      "cell_type": "markdown",
      "metadata": {
        "id": "u5Yy3Ze228lV"
      },
      "source": [
        "### Quantile Loss"
      ]
    },
    {
      "cell_type": "markdown",
      "metadata": {
        "id": "5vBaAgJJ28lW"
      },
      "source": [
        "В некоторых задачах штраф за ошибку зависит не только от величины абсолютного отклонения от фактического значения, но и от знака этого отклонения. Например, лучше предсказать спрос больше, чем будет по факту, чем меньше, потому что во втором случае будет потеряна прибыль. В этом случае используется квантильная регрессия со следующей функцией потерь:\n",
        "$$L_i(y_i, a(x_i)) = \\rho_\\tau(y_i - a(x_i)),$$\n",
        "$$\\rho_\\tau(z) = \\begin{cases} \\tau z, \\quad z > 0, \\\\ (\\tau - 1) z, \\quad z \\leqslant 0 \\end{cases}$$\n",
        "Параметр $\\tau \\in (0, 1)$ влияет на то, насколько различаются штрафы за положительную и отрицательную разницу.\n",
        "\n",
        "Изобразим график квантильной функции потерь вместе с некоторыми другими рассмотренными:"
      ]
    },
    {
      "cell_type": "code",
      "execution_count": null,
      "metadata": {
        "colab": {
          "base_uri": "https://localhost:8080/",
          "height": 283
        },
        "id": "LZvF9yTL28lW",
        "outputId": "ad64d093-69f7-4a5c-8ba1-f7235cfcd2f3"
      },
      "outputs": [
        {
          "output_type": "display_data",
          "data": {
            "text/plain": [
              "<Figure size 432x288 with 1 Axes>"
            ],
            "image/png": "[encoded data removed]"
          },
          "metadata": {
            "needs_background": "light"
          }
        }
      ],
      "source": [
        "grid = np.linspace(-3, 3, 100)\n",
        "quantile_tau = 0.2\n",
        "mse_loss = grid**2\n",
        "rmse_loss = np.sqrt(mse_loss)\n",
        "mae_loss = np.abs(grid)\n",
        "huber_loss = (\n",
        "    0.5 * mse_loss * (grid >= -1) * (grid <= 1)\n",
        "    + (mae_loss - 0.5) * (grid < -1)\n",
        "    + (mae_loss - 0.5) * (grid > 1)\n",
        ")\n",
        "quantile_loss = quantile_tau * grid * (grid > 0) + (quantile_tau - 1) * grid * (\n",
        "    grid <= 0\n",
        ")\n",
        "plt.plot(grid, mae_loss, label=\"Absolute Loss\")\n",
        "plt.plot(grid, mse_loss, label=\"Quadratic Loss\")\n",
        "plt.plot(grid, rmse_loss, label=\"Root Quadratic Loss\")\n",
        "plt.plot(grid, huber_loss, label=\"Huber Loss\")\n",
        "plt.plot(grid, quantile_loss, label=\"Quantile Loss\")\n",
        "plt.xlabel(\"$y_i - a(x_i)$\")\n",
        "plt.ylabel(\"$L(y_i, a(x_i))$\")\n",
        "plt.legend()\n",
        "plt.show()"
      ]
    },
    {
      "cell_type": "markdown",
      "metadata": {
        "id": "LKsQQ-I728lY"
      },
      "source": [
        "__Задача.__ Укажите параметр $\\tau$, при котором обучение квантильной регрессии равносильно оптимизации MAE."
      ]
    },
    {
      "cell_type": "markdown",
      "metadata": {
        "id": "r0dnqaQa28lZ"
      },
      "source": [
        "Проследим наклон прямой в нашей одномерной задаче регрессии при изменении $\\tau$:"
      ]
    },
    {
      "cell_type": "code",
      "execution_count": null,
      "metadata": {
        "colab": {
          "base_uri": "https://localhost:8080/",
          "height": 633
        },
        "id": "rq4LwwR728lZ",
        "outputId": "4f68ee5c-0186-45f3-c96f-be7ea70c1d5b"
      },
      "outputs": [
        {
          "output_type": "error",
          "ename": "ValueError",
          "evalue": "ignored",
          "traceback": [
            "\u001b[0;31m---------------------------------------------------------------------------\u001b[0m",
            "\u001b[0;31mValueError\u001b[0m                                Traceback (most recent call last)",
            "\u001b[0;32m<ipython-input-43-075c72a4dea3>\u001b[0m in \u001b[0;36m<module>\u001b[0;34m\u001b[0m\n\u001b[0;32m----> 1\u001b[0;31m \u001b[0mplt\u001b[0m\u001b[0;34m.\u001b[0m\u001b[0mscatter\u001b[0m\u001b[0;34m(\u001b[0m\u001b[0mX\u001b[0m\u001b[0;34m[\u001b[0m\u001b[0;36m7\u001b[0m\u001b[0;34m]\u001b[0m\u001b[0;34m,\u001b[0m \u001b[0my\u001b[0m\u001b[0;34m)\u001b[0m\u001b[0;34m\u001b[0m\u001b[0;34m\u001b[0m\u001b[0m\n\u001b[0m\u001b[1;32m      2\u001b[0m \u001b[0;34m\u001b[0m\u001b[0m\n\u001b[1;32m      3\u001b[0m \u001b[0mgrid\u001b[0m \u001b[0;34m=\u001b[0m \u001b[0mnp\u001b[0m\u001b[0;34m.\u001b[0m\u001b[0mlinspace\u001b[0m\u001b[0;34m(\u001b[0m\u001b[0;36m0\u001b[0m\u001b[0;34m,\u001b[0m \u001b[0;36m2\u001b[0m\u001b[0;34m,\u001b[0m \u001b[0;36m100\u001b[0m\u001b[0;34m)\u001b[0m\u001b[0;34m\u001b[0m\u001b[0;34m\u001b[0m\u001b[0m\n\u001b[1;32m      4\u001b[0m \u001b[0mdat\u001b[0m \u001b[0;34m=\u001b[0m \u001b[0mpd\u001b[0m\u001b[0;34m.\u001b[0m\u001b[0mDataFrame\u001b[0m\u001b[0;34m(\u001b[0m\u001b[0;34m{\u001b[0m\u001b[0;34m\"x\"\u001b[0m\u001b[0;34m:\u001b[0m \u001b[0mX\u001b[0m\u001b[0;34m[\u001b[0m\u001b[0;36m7\u001b[0m\u001b[0;34m]\u001b[0m\u001b[0;34m,\u001b[0m \u001b[0;34m\"y\"\u001b[0m\u001b[0;34m:\u001b[0m \u001b[0my\u001b[0m\u001b[0;34m}\u001b[0m\u001b[0;34m)\u001b[0m\u001b[0;34m\u001b[0m\u001b[0;34m\u001b[0m\u001b[0m\n\u001b[1;32m      5\u001b[0m \u001b[0mmod\u001b[0m \u001b[0;34m=\u001b[0m \u001b[0msmf\u001b[0m\u001b[0;34m.\u001b[0m\u001b[0mquantreg\u001b[0m\u001b[0;34m(\u001b[0m\u001b[0;34m\"y ~ x\"\u001b[0m\u001b[0;34m,\u001b[0m \u001b[0mdat\u001b[0m\u001b[0;34m)\u001b[0m\u001b[0;34m\u001b[0m\u001b[0;34m\u001b[0m\u001b[0m\n",
            "\u001b[0;32m/usr/local/lib/python3.9/dist-packages/matplotlib/pyplot.py\u001b[0m in \u001b[0;36mscatter\u001b[0;34m(x, y, s, c, marker, cmap, norm, vmin, vmax, alpha, linewidths, edgecolors, plotnonfinite, data, **kwargs)\u001b[0m\n\u001b[1;32m   2860\u001b[0m         \u001b[0mvmin\u001b[0m\u001b[0;34m=\u001b[0m\u001b[0;32mNone\u001b[0m\u001b[0;34m,\u001b[0m \u001b[0mvmax\u001b[0m\u001b[0;34m=\u001b[0m\u001b[0;32mNone\u001b[0m\u001b[0;34m,\u001b[0m \u001b[0malpha\u001b[0m\u001b[0;34m=\u001b[0m\u001b[0;32mNone\u001b[0m\u001b[0;34m,\u001b[0m \u001b[0mlinewidths\u001b[0m\u001b[0;34m=\u001b[0m\u001b[0;32mNone\u001b[0m\u001b[0;34m,\u001b[0m \u001b[0;34m*\u001b[0m\u001b[0;34m,\u001b[0m\u001b[0;34m\u001b[0m\u001b[0;34m\u001b[0m\u001b[0m\n\u001b[1;32m   2861\u001b[0m         edgecolors=None, plotnonfinite=False, data=None, **kwargs):\n\u001b[0;32m-> 2862\u001b[0;31m     __ret = gca().scatter(\n\u001b[0m\u001b[1;32m   2863\u001b[0m         \u001b[0mx\u001b[0m\u001b[0;34m,\u001b[0m \u001b[0my\u001b[0m\u001b[0;34m,\u001b[0m \u001b[0ms\u001b[0m\u001b[0;34m=\u001b[0m\u001b[0ms\u001b[0m\u001b[0;34m,\u001b[0m \u001b[0mc\u001b[0m\u001b[0;34m=\u001b[0m\u001b[0mc\u001b[0m\u001b[0;34m,\u001b[0m \u001b[0mmarker\u001b[0m\u001b[0;34m=\u001b[0m\u001b[0mmarker\u001b[0m\u001b[0;34m,\u001b[0m \u001b[0mcmap\u001b[0m\u001b[0;34m=\u001b[0m\u001b[0mcmap\u001b[0m\u001b[0;34m,\u001b[0m \u001b[0mnorm\u001b[0m\u001b[0;34m=\u001b[0m\u001b[0mnorm\u001b[0m\u001b[0;34m,\u001b[0m\u001b[0;34m\u001b[0m\u001b[0;34m\u001b[0m\u001b[0m\n\u001b[1;32m   2864\u001b[0m         \u001b[0mvmin\u001b[0m\u001b[0;34m=\u001b[0m\u001b[0mvmin\u001b[0m\u001b[0;34m,\u001b[0m \u001b[0mvmax\u001b[0m\u001b[0;34m=\u001b[0m\u001b[0mvmax\u001b[0m\u001b[0;34m,\u001b[0m \u001b[0malpha\u001b[0m\u001b[0;34m=\u001b[0m\u001b[0malpha\u001b[0m\u001b[0;34m,\u001b[0m \u001b[0mlinewidths\u001b[0m\u001b[0;34m=\u001b[0m\u001b[0mlinewidths\u001b[0m\u001b[0;34m,\u001b[0m\u001b[0;34m\u001b[0m\u001b[0;34m\u001b[0m\u001b[0m\n",
            "\u001b[0;32m/usr/local/lib/python3.9/dist-packages/matplotlib/__init__.py\u001b[0m in \u001b[0;36minner\u001b[0;34m(ax, data, *args, **kwargs)\u001b[0m\n\u001b[1;32m   1440\u001b[0m     \u001b[0;32mdef\u001b[0m \u001b[0minner\u001b[0m\u001b[0;34m(\u001b[0m\u001b[0max\u001b[0m\u001b[0;34m,\u001b[0m \u001b[0;34m*\u001b[0m\u001b[0margs\u001b[0m\u001b[0;34m,\u001b[0m \u001b[0mdata\u001b[0m\u001b[0;34m=\u001b[0m\u001b[0;32mNone\u001b[0m\u001b[0;34m,\u001b[0m \u001b[0;34m**\u001b[0m\u001b[0mkwargs\u001b[0m\u001b[0;34m)\u001b[0m\u001b[0;34m:\u001b[0m\u001b[0;34m\u001b[0m\u001b[0;34m\u001b[0m\u001b[0m\n\u001b[1;32m   1441\u001b[0m         \u001b[0;32mif\u001b[0m \u001b[0mdata\u001b[0m \u001b[0;32mis\u001b[0m \u001b[0;32mNone\u001b[0m\u001b[0;34m:\u001b[0m\u001b[0;34m\u001b[0m\u001b[0;34m\u001b[0m\u001b[0m\n\u001b[0;32m-> 1442\u001b[0;31m             \u001b[0;32mreturn\u001b[0m \u001b[0mfunc\u001b[0m\u001b[0;34m(\u001b[0m\u001b[0max\u001b[0m\u001b[0;34m,\u001b[0m \u001b[0;34m*\u001b[0m\u001b[0mmap\u001b[0m\u001b[0;34m(\u001b[0m\u001b[0msanitize_sequence\u001b[0m\u001b[0;34m,\u001b[0m \u001b[0margs\u001b[0m\u001b[0;34m)\u001b[0m\u001b[0;34m,\u001b[0m \u001b[0;34m**\u001b[0m\u001b[0mkwargs\u001b[0m\u001b[0;34m)\u001b[0m\u001b[0;34m\u001b[0m\u001b[0;34m\u001b[0m\u001b[0m\n\u001b[0m\u001b[1;32m   1443\u001b[0m \u001b[0;34m\u001b[0m\u001b[0m\n\u001b[1;32m   1444\u001b[0m         \u001b[0mbound\u001b[0m \u001b[0;34m=\u001b[0m \u001b[0mnew_sig\u001b[0m\u001b[0;34m.\u001b[0m\u001b[0mbind\u001b[0m\u001b[0;34m(\u001b[0m\u001b[0max\u001b[0m\u001b[0;34m,\u001b[0m \u001b[0;34m*\u001b[0m\u001b[0margs\u001b[0m\u001b[0;34m,\u001b[0m \u001b[0;34m**\u001b[0m\u001b[0mkwargs\u001b[0m\u001b[0;34m)\u001b[0m\u001b[0;34m\u001b[0m\u001b[0;34m\u001b[0m\u001b[0m\n",
            "\u001b[0;32m/usr/local/lib/python3.9/dist-packages/matplotlib/axes/_axes.py\u001b[0m in \u001b[0;36mscatter\u001b[0;34m(self, x, y, s, c, marker, cmap, norm, vmin, vmax, alpha, linewidths, edgecolors, plotnonfinite, **kwargs)\u001b[0m\n\u001b[1;32m   4582\u001b[0m         \u001b[0my\u001b[0m \u001b[0;34m=\u001b[0m \u001b[0mnp\u001b[0m\u001b[0;34m.\u001b[0m\u001b[0mma\u001b[0m\u001b[0;34m.\u001b[0m\u001b[0mravel\u001b[0m\u001b[0;34m(\u001b[0m\u001b[0my\u001b[0m\u001b[0;34m)\u001b[0m\u001b[0;34m\u001b[0m\u001b[0;34m\u001b[0m\u001b[0m\n\u001b[1;32m   4583\u001b[0m         \u001b[0;32mif\u001b[0m \u001b[0mx\u001b[0m\u001b[0;34m.\u001b[0m\u001b[0msize\u001b[0m \u001b[0;34m!=\u001b[0m \u001b[0my\u001b[0m\u001b[0;34m.\u001b[0m\u001b[0msize\u001b[0m\u001b[0;34m:\u001b[0m\u001b[0;34m\u001b[0m\u001b[0;34m\u001b[0m\u001b[0m\n\u001b[0;32m-> 4584\u001b[0;31m             \u001b[0;32mraise\u001b[0m \u001b[0mValueError\u001b[0m\u001b[0;34m(\u001b[0m\u001b[0;34m\"x and y must be the same size\"\u001b[0m\u001b[0;34m)\u001b[0m\u001b[0;34m\u001b[0m\u001b[0;34m\u001b[0m\u001b[0m\n\u001b[0m\u001b[1;32m   4585\u001b[0m \u001b[0;34m\u001b[0m\u001b[0m\n\u001b[1;32m   4586\u001b[0m         \u001b[0;32mif\u001b[0m \u001b[0ms\u001b[0m \u001b[0;32mis\u001b[0m \u001b[0;32mNone\u001b[0m\u001b[0;34m:\u001b[0m\u001b[0;34m\u001b[0m\u001b[0;34m\u001b[0m\u001b[0m\n",
            "\u001b[0;31mValueError\u001b[0m: x and y must be the same size"
          ]
        },
        {
          "output_type": "display_data",
          "data": {
            "text/plain": [
              "<Figure size 432x288 with 1 Axes>"
            ],
            "image/png": "[encoded data removed]"
          },
          "metadata": {
            "needs_background": "light"
          }
        }
      ],
      "source": [
        "plt.scatter(X[7], y)\n",
        "\n",
        "grid = np.linspace(0, 2, 100)\n",
        "dat = pd.DataFrame({\"x\": X[7], \"y\": y})\n",
        "mod = smf.quantreg(\"y ~ x\", dat)\n",
        "\n",
        "for q in np.arange(0.1, 1, 0.1):\n",
        "    res = mod.fit(q=q)\n",
        "    plt.plot(\n",
        "        grid,\n",
        "        grid * res.params[\"x\"] + res.params[\"Intercept\"],\n",
        "        linewidth=0.5,\n",
        "        label=\"q = \" + str(q),\n",
        "    )\n",
        "\n",
        "plt.legend(loc=(1.1, 0.1))\n",
        "plt.xlabel(\"x\")\n",
        "plt.ylabel(\"y\")"
      ]
    },
    {
      "cell_type": "markdown",
      "metadata": {
        "id": "aefAEVx7OiAR"
      },
      "source": [
        "# Practice"
      ]
    },
    {
      "cell_type": "markdown",
      "metadata": {
        "id": "K2jmXcciOl-K"
      },
      "source": [
        "Мы поработаем с данными о сообществах в США. Описание датасета:\n",
        "\n",
        "http://archive.ics.uci.edu/ml/datasets/communities+and+crime\n",
        "\n",
        "Датасет на кэггле (в формате .csv):\n",
        "\n",
        "https://www.kaggle.com/kkanda/communities%20and%20crime%20unnormalized%20data%20set\n",
        "\n",
        "Будем предсказывать количество насильственных преступлений относительно численности населения."
      ]
    },
    {
      "cell_type": "code",
      "execution_count": null,
      "metadata": {
        "id": "f3lmXNVFOx0G"
      },
      "outputs": [],
      "source": [
        "import warnings\n",
        "\n",
        "from sklearn.linear_model import Lasso, LinearRegression, Ridge\n",
        "from sklearn.metrics import mean_squared_error\n",
        "from sklearn.model_selection import GridSearchCV, train_test_split\n",
        "from sklearn.preprocessing import MinMaxScaler\n",
        "\n",
        "warnings.filterwarnings(\"ignore\")"
      ]
    },
    {
      "cell_type": "code",
      "execution_count": null,
      "metadata": {
        "id": "PRft8CJyO1z8",
        "colab": {
          "base_uri": "https://localhost:8080/",
          "height": 381
        },
        "outputId": "ee9fd499-93be-48ef-e3ce-b0e2fb450c68"
      },
      "outputs": [
        {
          "output_type": "error",
          "ename": "FileNotFoundError",
          "evalue": "ignored",
          "traceback": [
            "\u001b[0;31m---------------------------------------------------------------------------\u001b[0m",
            "\u001b[0;31mFileNotFoundError\u001b[0m                         Traceback (most recent call last)",
            "\u001b[0;32m<ipython-input-46-74fb9dc9c49d>\u001b[0m in \u001b[0;36m<module>\u001b[0;34m\u001b[0m\n\u001b[0;32m----> 1\u001b[0;31m \u001b[0mdata\u001b[0m \u001b[0;34m=\u001b[0m \u001b[0mpd\u001b[0m\u001b[0;34m.\u001b[0m\u001b[0mread_csv\u001b[0m\u001b[0;34m(\u001b[0m\u001b[0;34m\"crimedata.csv\"\u001b[0m\u001b[0;34m,\u001b[0m \u001b[0mna_values\u001b[0m\u001b[0;34m=\u001b[0m\u001b[0;34m[\u001b[0m\u001b[0;34m\"?\"\u001b[0m\u001b[0;34m]\u001b[0m\u001b[0;34m)\u001b[0m\u001b[0;34m\u001b[0m\u001b[0;34m\u001b[0m\u001b[0m\n\u001b[0m\u001b[1;32m      2\u001b[0m \u001b[0;34m\u001b[0m\u001b[0m\n\u001b[1;32m      3\u001b[0m \u001b[0;31m# оставим лишь нужные колонки\u001b[0m\u001b[0;34m\u001b[0m\u001b[0;34m\u001b[0m\u001b[0m\n\u001b[1;32m      4\u001b[0m \u001b[0mrequiredColumns\u001b[0m \u001b[0;34m=\u001b[0m \u001b[0;34m[\u001b[0m\u001b[0;36m5\u001b[0m\u001b[0;34m,\u001b[0m \u001b[0;36m6\u001b[0m\u001b[0;34m]\u001b[0m \u001b[0;34m+\u001b[0m \u001b[0mlist\u001b[0m\u001b[0;34m(\u001b[0m\u001b[0mrange\u001b[0m\u001b[0;34m(\u001b[0m\u001b[0;36m11\u001b[0m\u001b[0;34m,\u001b[0m \u001b[0;36m26\u001b[0m\u001b[0;34m)\u001b[0m\u001b[0;34m)\u001b[0m \u001b[0;34m+\u001b[0m \u001b[0mlist\u001b[0m\u001b[0;34m(\u001b[0m\u001b[0mrange\u001b[0m\u001b[0;34m(\u001b[0m\u001b[0;36m32\u001b[0m\u001b[0;34m,\u001b[0m \u001b[0;36m103\u001b[0m\u001b[0;34m)\u001b[0m\u001b[0;34m)\u001b[0m \u001b[0;34m+\u001b[0m \u001b[0;34m[\u001b[0m\u001b[0;36m145\u001b[0m\u001b[0;34m]\u001b[0m\u001b[0;34m\u001b[0m\u001b[0;34m\u001b[0m\u001b[0m\n\u001b[1;32m      5\u001b[0m \u001b[0mdata\u001b[0m \u001b[0;34m=\u001b[0m \u001b[0mdata\u001b[0m\u001b[0;34m[\u001b[0m\u001b[0mdata\u001b[0m\u001b[0;34m.\u001b[0m\u001b[0mcolumns\u001b[0m\u001b[0;34m[\u001b[0m\u001b[0mrequiredColumns\u001b[0m\u001b[0;34m]\u001b[0m\u001b[0;34m]\u001b[0m\u001b[0;34m\u001b[0m\u001b[0;34m\u001b[0m\u001b[0m\n",
            "\u001b[0;32m/usr/local/lib/python3.9/dist-packages/pandas/util/_decorators.py\u001b[0m in \u001b[0;36mwrapper\u001b[0;34m(*args, **kwargs)\u001b[0m\n\u001b[1;32m    309\u001b[0m                     \u001b[0mstacklevel\u001b[0m\u001b[0;34m=\u001b[0m\u001b[0mstacklevel\u001b[0m\u001b[0;34m,\u001b[0m\u001b[0;34m\u001b[0m\u001b[0;34m\u001b[0m\u001b[0m\n\u001b[1;32m    310\u001b[0m                 )\n\u001b[0;32m--> 311\u001b[0;31m             \u001b[0;32mreturn\u001b[0m \u001b[0mfunc\u001b[0m\u001b[0;34m(\u001b[0m\u001b[0;34m*\u001b[0m\u001b[0margs\u001b[0m\u001b[0;34m,\u001b[0m \u001b[0;34m**\u001b[0m\u001b[0mkwargs\u001b[0m\u001b[0;34m)\u001b[0m\u001b[0;34m\u001b[0m\u001b[0;34m\u001b[0m\u001b[0m\n\u001b[0m\u001b[1;32m    312\u001b[0m \u001b[0;34m\u001b[0m\u001b[0m\n\u001b[1;32m    313\u001b[0m         \u001b[0;32mreturn\u001b[0m \u001b[0mwrapper\u001b[0m\u001b[0;34m\u001b[0m\u001b[0;34m\u001b[0m\u001b[0m\n",
            "\u001b[0;32m/usr/local/lib/python3.9/dist-packages/pandas/io/parsers/readers.py\u001b[0m in \u001b[0;36mread_csv\u001b[0;34m(filepath_or_buffer, sep, delimiter, header, names, index_col, usecols, squeeze, prefix, mangle_dupe_cols, dtype, engine, converters, true_values, false_values, skipinitialspace, skiprows, skipfooter, nrows, na_values, keep_default_na, na_filter, verbose, skip_blank_lines, parse_dates, infer_datetime_format, keep_date_col, date_parser, dayfirst, cache_dates, iterator, chunksize, compression, thousands, decimal, lineterminator, quotechar, quoting, doublequote, escapechar, comment, encoding, encoding_errors, dialect, error_bad_lines, warn_bad_lines, on_bad_lines, delim_whitespace, low_memory, memory_map, float_precision, storage_options)\u001b[0m\n\u001b[1;32m    676\u001b[0m     \u001b[0mkwds\u001b[0m\u001b[0;34m.\u001b[0m\u001b[0mupdate\u001b[0m\u001b[0;34m(\u001b[0m\u001b[0mkwds_defaults\u001b[0m\u001b[0;34m)\u001b[0m\u001b[0;34m\u001b[0m\u001b[0;34m\u001b[0m\u001b[0m\n\u001b[1;32m    677\u001b[0m \u001b[0;34m\u001b[0m\u001b[0m\n\u001b[0;32m--> 678\u001b[0;31m     \u001b[0;32mreturn\u001b[0m \u001b[0m_read\u001b[0m\u001b[0;34m(\u001b[0m\u001b[0mfilepath_or_buffer\u001b[0m\u001b[0;34m,\u001b[0m \u001b[0mkwds\u001b[0m\u001b[0;34m)\u001b[0m\u001b[0;34m\u001b[0m\u001b[0;34m\u001b[0m\u001b[0m\n\u001b[0m\u001b[1;32m    679\u001b[0m \u001b[0;34m\u001b[0m\u001b[0m\n\u001b[1;32m    680\u001b[0m \u001b[0;34m\u001b[0m\u001b[0m\n",
            "\u001b[0;32m/usr/local/lib/python3.9/dist-packages/pandas/io/parsers/readers.py\u001b[0m in \u001b[0;36m_read\u001b[0;34m(filepath_or_buffer, kwds)\u001b[0m\n\u001b[1;32m    573\u001b[0m \u001b[0;34m\u001b[0m\u001b[0m\n\u001b[1;32m    574\u001b[0m     \u001b[0;31m# Create the parser.\u001b[0m\u001b[0;34m\u001b[0m\u001b[0;34m\u001b[0m\u001b[0m\n\u001b[0;32m--> 575\u001b[0;31m     \u001b[0mparser\u001b[0m \u001b[0;34m=\u001b[0m \u001b[0mTextFileReader\u001b[0m\u001b[0;34m(\u001b[0m\u001b[0mfilepath_or_buffer\u001b[0m\u001b[0;34m,\u001b[0m \u001b[0;34m**\u001b[0m\u001b[0mkwds\u001b[0m\u001b[0;34m)\u001b[0m\u001b[0;34m\u001b[0m\u001b[0;34m\u001b[0m\u001b[0m\n\u001b[0m\u001b[1;32m    576\u001b[0m \u001b[0;34m\u001b[0m\u001b[0m\n\u001b[1;32m    577\u001b[0m     \u001b[0;32mif\u001b[0m \u001b[0mchunksize\u001b[0m \u001b[0;32mor\u001b[0m \u001b[0miterator\u001b[0m\u001b[0;34m:\u001b[0m\u001b[0;34m\u001b[0m\u001b[0;34m\u001b[0m\u001b[0m\n",
            "\u001b[0;32m/usr/local/lib/python3.9/dist-packages/pandas/io/parsers/readers.py\u001b[0m in \u001b[0;36m__init__\u001b[0;34m(self, f, engine, **kwds)\u001b[0m\n\u001b[1;32m    930\u001b[0m \u001b[0;34m\u001b[0m\u001b[0m\n\u001b[1;32m    931\u001b[0m         \u001b[0mself\u001b[0m\u001b[0;34m.\u001b[0m\u001b[0mhandles\u001b[0m\u001b[0;34m:\u001b[0m \u001b[0mIOHandles\u001b[0m \u001b[0;34m|\u001b[0m \u001b[0;32mNone\u001b[0m \u001b[0;34m=\u001b[0m \u001b[0;32mNone\u001b[0m\u001b[0;34m\u001b[0m\u001b[0;34m\u001b[0m\u001b[0m\n\u001b[0;32m--> 932\u001b[0;31m         \u001b[0mself\u001b[0m\u001b[0;34m.\u001b[0m\u001b[0m_engine\u001b[0m \u001b[0;34m=\u001b[0m \u001b[0mself\u001b[0m\u001b[0;34m.\u001b[0m\u001b[0m_make_engine\u001b[0m\u001b[0;34m(\u001b[0m\u001b[0mf\u001b[0m\u001b[0;34m,\u001b[0m \u001b[0mself\u001b[0m\u001b[0;34m.\u001b[0m\u001b[0mengine\u001b[0m\u001b[0;34m)\u001b[0m\u001b[0;34m\u001b[0m\u001b[0;34m\u001b[0m\u001b[0m\n\u001b[0m\u001b[1;32m    933\u001b[0m \u001b[0;34m\u001b[0m\u001b[0m\n\u001b[1;32m    934\u001b[0m     \u001b[0;32mdef\u001b[0m \u001b[0mclose\u001b[0m\u001b[0;34m(\u001b[0m\u001b[0mself\u001b[0m\u001b[0;34m)\u001b[0m\u001b[0;34m:\u001b[0m\u001b[0;34m\u001b[0m\u001b[0;34m\u001b[0m\u001b[0m\n",
            "\u001b[0;32m/usr/local/lib/python3.9/dist-packages/pandas/io/parsers/readers.py\u001b[0m in \u001b[0;36m_make_engine\u001b[0;34m(self, f, engine)\u001b[0m\n\u001b[1;32m   1214\u001b[0m             \u001b[0;31m# \"Union[str, PathLike[str], ReadCsvBuffer[bytes], ReadCsvBuffer[str]]\"\u001b[0m\u001b[0;34m\u001b[0m\u001b[0;34m\u001b[0m\u001b[0m\n\u001b[1;32m   1215\u001b[0m             \u001b[0;31m# , \"str\", \"bool\", \"Any\", \"Any\", \"Any\", \"Any\", \"Any\"\u001b[0m\u001b[0;34m\u001b[0m\u001b[0;34m\u001b[0m\u001b[0m\n\u001b[0;32m-> 1216\u001b[0;31m             self.handles = get_handle(  # type: ignore[call-overload]\n\u001b[0m\u001b[1;32m   1217\u001b[0m                 \u001b[0mf\u001b[0m\u001b[0;34m,\u001b[0m\u001b[0;34m\u001b[0m\u001b[0;34m\u001b[0m\u001b[0m\n\u001b[1;32m   1218\u001b[0m                 \u001b[0mmode\u001b[0m\u001b[0;34m,\u001b[0m\u001b[0;34m\u001b[0m\u001b[0;34m\u001b[0m\u001b[0m\n",
            "\u001b[0;32m/usr/local/lib/python3.9/dist-packages/pandas/io/common.py\u001b[0m in \u001b[0;36mget_handle\u001b[0;34m(path_or_buf, mode, encoding, compression, memory_map, is_text, errors, storage_options)\u001b[0m\n\u001b[1;32m    784\u001b[0m         \u001b[0;32mif\u001b[0m \u001b[0mioargs\u001b[0m\u001b[0;34m.\u001b[0m\u001b[0mencoding\u001b[0m \u001b[0;32mand\u001b[0m \u001b[0;34m\"b\"\u001b[0m \u001b[0;32mnot\u001b[0m \u001b[0;32min\u001b[0m \u001b[0mioargs\u001b[0m\u001b[0;34m.\u001b[0m\u001b[0mmode\u001b[0m\u001b[0;34m:\u001b[0m\u001b[0;34m\u001b[0m\u001b[0;34m\u001b[0m\u001b[0m\n\u001b[1;32m    785\u001b[0m             \u001b[0;31m# Encoding\u001b[0m\u001b[0;34m\u001b[0m\u001b[0;34m\u001b[0m\u001b[0m\n\u001b[0;32m--> 786\u001b[0;31m             handle = open(\n\u001b[0m\u001b[1;32m    787\u001b[0m                 \u001b[0mhandle\u001b[0m\u001b[0;34m,\u001b[0m\u001b[0;34m\u001b[0m\u001b[0;34m\u001b[0m\u001b[0m\n\u001b[1;32m    788\u001b[0m                 \u001b[0mioargs\u001b[0m\u001b[0;34m.\u001b[0m\u001b[0mmode\u001b[0m\u001b[0;34m,\u001b[0m\u001b[0;34m\u001b[0m\u001b[0;34m\u001b[0m\u001b[0m\n",
            "\u001b[0;31mFileNotFoundError\u001b[0m: [Errno 2] No such file or directory: 'crimedata.csv'"
          ]
        }
      ],
      "source": [
        "data = pd.read_csv(\"crimedata.csv\", na_values=[\"?\"])\n",
        "\n",
        "# оставим лишь нужные колонки\n",
        "requiredColumns = [5, 6] + list(range(11, 26)) + list(range(32, 103)) + [145]\n",
        "data = data[data.columns[requiredColumns]]\n",
        "\n",
        "# некоторые значения целевой переменной пропущены\n",
        "X = data.loc[data[\"ViolentCrimesPerPop\"].notnull(), :].drop(\n",
        "    \"ViolentCrimesPerPop\", axis=1\n",
        ")\n",
        "y = data[\"ViolentCrimesPerPop\"][X.index]\n",
        "\n",
        "X_train, X_test, y_train, y_test = train_test_split(X, y, random_state=0)"
      ]
    },
    {
      "cell_type": "markdown",
      "metadata": {
        "id": "JCxXAdVtOiw4"
      },
      "source": [
        "### 1 Baseline"
      ]
    },
    {
      "cell_type": "markdown",
      "metadata": {
        "id": "tw3DZ8zzPRuB"
      },
      "source": [
        "Обучим линейную регрессию и выведем качество по метрике MSE на обучающей и тестовой выборке."
      ]
    },
    {
      "cell_type": "code",
      "execution_count": null,
      "metadata": {
        "id": "ntYfZTzkQRAC",
        "colab": {
          "base_uri": "https://localhost:8080/",
          "height": 235
        },
        "outputId": "8c65d73d-28b9-4377-b29f-c17efcf9cb88"
      },
      "outputs": [
        {
          "output_type": "error",
          "ename": "NameError",
          "evalue": "ignored",
          "traceback": [
            "\u001b[0;31m---------------------------------------------------------------------------\u001b[0m",
            "\u001b[0;31mNameError\u001b[0m                                 Traceback (most recent call last)",
            "\u001b[0;32m<ipython-input-52-6cbc6cb8118e>\u001b[0m in \u001b[0;36m<module>\u001b[0;34m\u001b[0m\n\u001b[0;32m----> 1\u001b[0;31m \u001b[0mlr\u001b[0m \u001b[0;34m=\u001b[0m \u001b[0mLinearRegression\u001b[0m\u001b[0;34m(\u001b[0m\u001b[0;34m)\u001b[0m\u001b[0;34m.\u001b[0m\u001b[0mfit\u001b[0m\u001b[0;34m(\u001b[0m\u001b[0mX_train\u001b[0m\u001b[0;34m,\u001b[0m \u001b[0my_train\u001b[0m\u001b[0;34m)\u001b[0m\u001b[0;34m\u001b[0m\u001b[0;34m\u001b[0m\u001b[0m\n\u001b[0m\u001b[1;32m      2\u001b[0m \u001b[0mprint\u001b[0m\u001b[0;34m(\u001b[0m\u001b[0;34m\"Train: {}\"\u001b[0m\u001b[0;34m.\u001b[0m\u001b[0mformat\u001b[0m\u001b[0;34m(\u001b[0m\u001b[0mmean_squared_error\u001b[0m\u001b[0;34m(\u001b[0m\u001b[0my_train\u001b[0m\u001b[0;34m,\u001b[0m \u001b[0mlr\u001b[0m\u001b[0;34m.\u001b[0m\u001b[0mpredict\u001b[0m\u001b[0;34m(\u001b[0m\u001b[0mX_train\u001b[0m\u001b[0;34m)\u001b[0m\u001b[0;34m)\u001b[0m\u001b[0;34m)\u001b[0m\u001b[0;34m)\u001b[0m\u001b[0;34m\u001b[0m\u001b[0;34m\u001b[0m\u001b[0m\n\u001b[1;32m      3\u001b[0m \u001b[0mprint\u001b[0m\u001b[0;34m(\u001b[0m\u001b[0;34m\"Test: {}\"\u001b[0m\u001b[0;34m.\u001b[0m\u001b[0mformat\u001b[0m\u001b[0;34m(\u001b[0m\u001b[0mmean_squared_error\u001b[0m\u001b[0;34m(\u001b[0m\u001b[0my_test\u001b[0m\u001b[0;34m,\u001b[0m \u001b[0mlr\u001b[0m\u001b[0;34m.\u001b[0m\u001b[0mpredict\u001b[0m\u001b[0;34m(\u001b[0m\u001b[0mX_test\u001b[0m\u001b[0;34m)\u001b[0m\u001b[0;34m)\u001b[0m\u001b[0;34m)\u001b[0m\u001b[0;34m)\u001b[0m\u001b[0;34m\u001b[0m\u001b[0;34m\u001b[0m\u001b[0m\n\u001b[1;32m      4\u001b[0m \u001b[0;34m\u001b[0m\u001b[0m\n\u001b[1;32m      5\u001b[0m \u001b[0;31m# Выведите ниже качество на обучении и тесте, рассчитаное с использованием функции MSE(), написанной вами ранее\u001b[0m\u001b[0;34m\u001b[0m\u001b[0;34m\u001b[0m\u001b[0m\n",
            "\u001b[0;31mNameError\u001b[0m: name 'X_train' is not defined"
          ]
        }
      ],
      "source": [
        "lr = LinearRegression().fit(X_train, y_train)\n",
        "print(\"Train: {}\".format(mean_squared_error(y_train, lr.predict(X_train))))\n",
        "print(\"Test: {}\".format(mean_squared_error(y_test, lr.predict(X_test))))\n",
        "\n",
        "# Выведите ниже качество на обучении и тесте, рассчитаное с использованием функции MSE(), написанной вами ранее\n",
        "# Сравните результаты"
      ]
    },
    {
      "cell_type": "markdown",
      "metadata": {
        "id": "Jd44Omp9TtcU"
      },
      "source": [
        "Популярным решением для регрессионных моделей является **регуляризация**.\n",
        "\n",
        "Во время оптимизации линейной регрессии, веса при переменных могут получится большими в абсолютных значениях. Это не очень хорошо, поскольку классификатор будет чувствителен к крайне маленьким изменениям в признаках объекта, а значит, переобучен.\n",
        "\n",
        "Для решения проблемы к функционалу ошибки добавляют так называемсый регуляризатор, который \"штрафует\" модель за слишком большую норму вектора весов:\n",
        "\n",
        "\n",
        "$$Q\\alpha(w) = Q(w) + \\alpha R(w)$$ \n",
        "\n",
        "где $R(w)$ - регуляризатор\n",
        "\n",
        "Наиболее распространенными являются L1 и L2 регуляризаторы\n",
        "$$L1: R(w) = ||w||_1 = \\sum^d_i |w_i|$$\n",
        "\n",
        "$$L2: R(w) = ||w||_2 = \\sum^d_i w_i^2$$\n",
        "\n",
        "Давайте применим каждый из них к нашей задаче и посмотрим на изменение в результатах.\n"
      ]
    },
    {
      "cell_type": "markdown",
      "metadata": {
        "id": "q-Lpzpe0QcJF"
      },
      "source": [
        "В качестве метода регуляризации используем Ridge ($L_2$-регуляризация)."
      ]
    },
    {
      "cell_type": "code",
      "execution_count": null,
      "metadata": {
        "id": "RT8QZldbPqFr"
      },
      "outputs": [],
      "source": [
        "ridge = Ridge(5.0).fit(X_train, y_train)\n",
        "print(\"Train: {}\".format(mean_squared_error(y_train, ridge.predict(X_train))))\n",
        "print(\"Test: {}\".format(mean_squared_error(y_test, ridge.predict(X_test))))"
      ]
    },
    {
      "cell_type": "markdown",
      "metadata": {
        "id": "tzcwQ0T5QkRJ"
      },
      "source": [
        "### 2 Scaling"
      ]
    },
    {
      "cell_type": "markdown",
      "metadata": {
        "id": "ZjOT_WBfQnWX"
      },
      "source": [
        "Попробуем MinMaxScaler."
      ]
    },
    {
      "cell_type": "code",
      "execution_count": null,
      "metadata": {
        "id": "zedtNiBBQhOl"
      },
      "outputs": [],
      "source": [
        "sc = MinMaxScaler()\n",
        "X_train_scaled = pd.DataFrame(data=sc.fit_transform(X_train), columns=X_train.columns)\n",
        "X_test_scaled = pd.DataFrame(data=sc.transform(X_test), columns=X_test.columns)"
      ]
    },
    {
      "cell_type": "markdown",
      "metadata": {
        "id": "qrldySniQ6jR"
      },
      "source": [
        "**Задание:** Напишите код обучения линейной регресии на масштабированных признаках и выведите ошибку на обучающей и валидационной выборке"
      ]
    },
    {
      "cell_type": "code",
      "execution_count": null,
      "metadata": {
        "id": "PyoESXkkRQA1"
      },
      "outputs": [],
      "source": [
        "lr_scaled = LinearRegression().fit(X_train_scaled, y_train)\n",
        "print(\"Train: {}\".format(mean_squared_error(y_train, lr_scaled.predict(X_train_scaled))))\n",
        "print(\"Test: {}\".format(mean_squared_error(y_test, lr_scaled.predict(X_test_scaled))))"
      ]
    },
    {
      "cell_type": "markdown",
      "metadata": {
        "id": "HkbwYrUdRSYR"
      },
      "source": [
        "**Задание:** проделайте аналогичную работу, добавив Ridge регуляризацию"
      ]
    },
    {
      "cell_type": "code",
      "execution_count": null,
      "metadata": {
        "id": "YDELVx5FRh1F"
      },
      "outputs": [],
      "source": [
        "ridge_scaled = Ridge(5.0).fit(X_train_scaled, y_train)\n",
        "print(\"Train: {}\".format(mean_squared_error(y_train, ridge_scaled.predict(X_train_scaled))))\n",
        "print(\"Test: {}\".format(mean_squared_error(y_test, ridge_scaled.predict(X_test_scaled))))"
      ]
    },
    {
      "cell_type": "markdown",
      "metadata": {
        "id": "mK7GsUVORnbG"
      },
      "source": [
        "### 3. High/low variance"
      ]
    },
    {
      "cell_type": "markdown",
      "metadata": {
        "id": "h1Obs0jBRpsw"
      },
      "source": [
        "Полезны ли признаки, имеющие высокую дисперсию? А низкую?"
      ]
    },
    {
      "cell_type": "code",
      "execution_count": null,
      "metadata": {
        "id": "sDlYyvBsRnwb"
      },
      "outputs": [],
      "source": [
        "features_variance = X_train_scaled.var().sort_values(ascending=False)\n",
        "features_variance.head()"
      ]
    },
    {
      "cell_type": "markdown",
      "metadata": {
        "id": "qW04UvAbRyhG"
      },
      "source": [
        "Попробуем удалить признаки с самой низкой дисперсией и посмотреть, как изменится качество. В sklearn есть специальный инструмент для такого наивного отбора признаков. Стоит ли нормализовать перед этим признаки?"
      ]
    },
    {
      "cell_type": "code",
      "execution_count": null,
      "metadata": {
        "id": "y6Fz3SMkOM0s"
      },
      "outputs": [],
      "source": [
        "from sklearn.feature_selection import VarianceThreshold"
      ]
    },
    {
      "cell_type": "code",
      "source": [
        "X_train.shape"
      ],
      "metadata": {
        "id": "ajkeZSE-bVqJ",
        "colab": {
          "base_uri": "https://localhost:8080/",
          "height": 166
        },
        "outputId": "dd92dacf-1bf9-4450-dbab-dedab2faa80e"
      },
      "execution_count": null,
      "outputs": [
        {
          "output_type": "error",
          "ename": "NameError",
          "evalue": "ignored",
          "traceback": [
            "\u001b[0;31m---------------------------------------------------------------------------\u001b[0m",
            "\u001b[0;31mNameError\u001b[0m                                 Traceback (most recent call last)",
            "\u001b[0;32m<ipython-input-48-d2ba684acd0f>\u001b[0m in \u001b[0;36m<module>\u001b[0;34m\u001b[0m\n\u001b[0;32m----> 1\u001b[0;31m \u001b[0mX_train\u001b[0m\u001b[0;34m.\u001b[0m\u001b[0mshape\u001b[0m\u001b[0;34m\u001b[0m\u001b[0;34m\u001b[0m\u001b[0m\n\u001b[0m",
            "\u001b[0;31mNameError\u001b[0m: name 'X_train' is not defined"
          ]
        }
      ]
    },
    {
      "cell_type": "code",
      "execution_count": null,
      "metadata": {
        "id": "StGlZfbeRsec",
        "colab": {
          "base_uri": "https://localhost:8080/",
          "height": 235
        },
        "outputId": "ef991c65-0eb2-4123-c991-8c53d371588e"
      },
      "outputs": [
        {
          "output_type": "error",
          "ename": "NameError",
          "evalue": "ignored",
          "traceback": [
            "\u001b[0;31m---------------------------------------------------------------------------\u001b[0m",
            "\u001b[0;31mNameError\u001b[0m                                 Traceback (most recent call last)",
            "\u001b[0;32m<ipython-input-49-ebfcc43f9bf6>\u001b[0m in \u001b[0;36m<module>\u001b[0;34m\u001b[0m\n\u001b[1;32m      3\u001b[0m \u001b[0;34m\u001b[0m\u001b[0m\n\u001b[1;32m      4\u001b[0m X_train_var = pd.DataFrame(\n\u001b[0;32m----> 5\u001b[0;31m     \u001b[0mdata\u001b[0m\u001b[0;34m=\u001b[0m\u001b[0mvs_transformer\u001b[0m\u001b[0;34m.\u001b[0m\u001b[0mfit_transform\u001b[0m\u001b[0;34m(\u001b[0m\u001b[0mX_train_scaled\u001b[0m\u001b[0;34m)\u001b[0m\u001b[0;34m,\u001b[0m\u001b[0;34m\u001b[0m\u001b[0;34m\u001b[0m\u001b[0m\n\u001b[0m\u001b[1;32m      6\u001b[0m     \u001b[0mcolumns\u001b[0m\u001b[0;34m=\u001b[0m\u001b[0mX_train_scaled\u001b[0m\u001b[0;34m.\u001b[0m\u001b[0mcolumns\u001b[0m\u001b[0;34m[\u001b[0m\u001b[0mvs_transformer\u001b[0m\u001b[0;34m.\u001b[0m\u001b[0mget_support\u001b[0m\u001b[0;34m(\u001b[0m\u001b[0;34m)\u001b[0m\u001b[0;34m]\u001b[0m\u001b[0;34m,\u001b[0m\u001b[0;34m\u001b[0m\u001b[0;34m\u001b[0m\u001b[0m\n\u001b[1;32m      7\u001b[0m )\n",
            "\u001b[0;31mNameError\u001b[0m: name 'X_train_scaled' is not defined"
          ]
        }
      ],
      "source": [
        "# можно убрать все признаки, дисперсия которых меньше заданного значения\n",
        "vs_transformer = VarianceThreshold(0.01)\n",
        "\n",
        "X_train_var = pd.DataFrame(\n",
        "    data=vs_transformer.fit_transform(X_train_scaled),\n",
        "    columns=X_train_scaled.columns[vs_transformer.get_support()],\n",
        ")\n",
        "X_test_var = pd.DataFrame(\n",
        "    data=vs_transformer.transform(X_test_scaled),\n",
        "    columns=X_test_scaled.columns[vs_transformer.get_support()],\n",
        ")\n",
        "\n",
        "X_train_var.shape"
      ]
    },
    {
      "cell_type": "code",
      "execution_count": null,
      "metadata": {
        "id": "z60-yCrwR2rG"
      },
      "outputs": [],
      "source": [
        "lr = LinearRegression().fit(X_train_var, y_train)\n",
        "print(\"Train: {}\".format(mean_squared_error(y_train, lr.predict(X_train_var))))\n",
        "print(\"Test: {}\".format(mean_squared_error(y_test, lr.predict(X_test_var))))"
      ]
    },
    {
      "cell_type": "code",
      "execution_count": null,
      "metadata": {
        "id": "LXlTH65eR5hs",
        "colab": {
          "base_uri": "https://localhost:8080/",
          "height": 201
        },
        "outputId": "70ddd62c-24c2-4a7d-fdcb-82d6c6cb3071"
      },
      "outputs": [
        {
          "output_type": "error",
          "ename": "NameError",
          "evalue": "ignored",
          "traceback": [
            "\u001b[0;31m---------------------------------------------------------------------------\u001b[0m",
            "\u001b[0;31mNameError\u001b[0m                                 Traceback (most recent call last)",
            "\u001b[0;32m<ipython-input-50-9e5e5e0fb7c6>\u001b[0m in \u001b[0;36m<module>\u001b[0;34m\u001b[0m\n\u001b[0;32m----> 1\u001b[0;31m \u001b[0mridge\u001b[0m \u001b[0;34m=\u001b[0m \u001b[0mRidge\u001b[0m\u001b[0;34m(\u001b[0m\u001b[0;36m5.0\u001b[0m\u001b[0;34m)\u001b[0m\u001b[0;34m.\u001b[0m\u001b[0mfit\u001b[0m\u001b[0;34m(\u001b[0m\u001b[0mX_train_var\u001b[0m\u001b[0;34m,\u001b[0m \u001b[0my_train\u001b[0m\u001b[0;34m)\u001b[0m\u001b[0;34m\u001b[0m\u001b[0;34m\u001b[0m\u001b[0m\n\u001b[0m\u001b[1;32m      2\u001b[0m \u001b[0mprint\u001b[0m\u001b[0;34m(\u001b[0m\u001b[0;34m\"Train: {}\"\u001b[0m\u001b[0;34m.\u001b[0m\u001b[0mformat\u001b[0m\u001b[0;34m(\u001b[0m\u001b[0mmean_squared_error\u001b[0m\u001b[0;34m(\u001b[0m\u001b[0my_train\u001b[0m\u001b[0;34m,\u001b[0m \u001b[0mridge\u001b[0m\u001b[0;34m.\u001b[0m\u001b[0mpredict\u001b[0m\u001b[0;34m(\u001b[0m\u001b[0mX_train_var\u001b[0m\u001b[0;34m)\u001b[0m\u001b[0;34m)\u001b[0m\u001b[0;34m)\u001b[0m\u001b[0;34m)\u001b[0m\u001b[0;34m\u001b[0m\u001b[0;34m\u001b[0m\u001b[0m\n\u001b[1;32m      3\u001b[0m \u001b[0mprint\u001b[0m\u001b[0;34m(\u001b[0m\u001b[0;34m\"Test: {}\"\u001b[0m\u001b[0;34m.\u001b[0m\u001b[0mformat\u001b[0m\u001b[0;34m(\u001b[0m\u001b[0mmean_squared_error\u001b[0m\u001b[0;34m(\u001b[0m\u001b[0my_test\u001b[0m\u001b[0;34m,\u001b[0m \u001b[0mridge\u001b[0m\u001b[0;34m.\u001b[0m\u001b[0mpredict\u001b[0m\u001b[0;34m(\u001b[0m\u001b[0mX_test_var\u001b[0m\u001b[0;34m)\u001b[0m\u001b[0;34m)\u001b[0m\u001b[0;34m)\u001b[0m\u001b[0;34m)\u001b[0m\u001b[0;34m\u001b[0m\u001b[0;34m\u001b[0m\u001b[0m\n",
            "\u001b[0;31mNameError\u001b[0m: name 'X_train_var' is not defined"
          ]
        }
      ],
      "source": [
        "ridge = Ridge(5.0).fit(X_train_var, y_train)\n",
        "print(\"Train: {}\".format(mean_squared_error(y_train, ridge.predict(X_train_var))))\n",
        "print(\"Test: {}\".format(mean_squared_error(y_test, ridge.predict(X_test_var))))"
      ]
    },
    {
      "cell_type": "markdown",
      "metadata": {
        "id": "X-tIhMytR9KO"
      },
      "source": [
        "### 4 Correlation"
      ]
    },
    {
      "cell_type": "markdown",
      "metadata": {
        "id": "FmyRffiqR9lz"
      },
      "source": [
        "Можно выбрать k признаков, которые дают наиболее высокие значения корреляции с целевой переменной."
      ]
    },
    {
      "cell_type": "code",
      "execution_count": null,
      "metadata": {
        "id": "C60svBUoOM0t"
      },
      "outputs": [],
      "source": [
        "from sklearn.feature_selection import SelectKBest, f_regression"
      ]
    },
    {
      "cell_type": "code",
      "execution_count": null,
      "metadata": {
        "id": "dxgWrpvVR7_H"
      },
      "outputs": [],
      "source": [
        "# Выбираем 15 лучших признаков\n",
        "sb = SelectKBest(f_regression, k=15)\n",
        "\n",
        "X_train_kbest = pd.DataFrame(\n",
        "    data=sb.fit_transform(X_train_var, y_train),\n",
        "    columns=X_train_var.columns[sb.get_support()],\n",
        ")\n",
        "X_test_kbest = pd.DataFrame(\n",
        "    data=sb.transform(X_test_var), columns=X_test_var.columns[sb.get_support()]\n",
        ")"
      ]
    },
    {
      "cell_type": "code",
      "execution_count": null,
      "metadata": {
        "id": "05_0s6Y0SPYp"
      },
      "outputs": [],
      "source": [
        "lr = LinearRegression().fit(X_train_kbest, y_train)\n",
        "print(\"Train: {}\".format(mean_squared_error(y_train, lr.predict(X_train_kbest))))\n",
        "print(\"Test: {}\".format(mean_squared_error(y_test, lr.predict(X_test_kbest))))"
      ]
    },
    {
      "cell_type": "code",
      "execution_count": null,
      "metadata": {
        "id": "brBAuwBHSSXA"
      },
      "outputs": [],
      "source": [
        "ridge = Ridge(5.0).fit(X_train_kbest, y_train)\n",
        "print(\"Train: {}\".format(mean_squared_error(y_train, ridge.predict(X_train_kbest))))\n",
        "print(\"Test: {}\".format(mean_squared_error(y_test, ridge.predict(X_test_kbest))))"
      ]
    },
    {
      "cell_type": "markdown",
      "metadata": {
        "id": "R1oWr6MASWck"
      },
      "source": [
        "А можно выбрать самые значимые признаки с точки зрения регрессии с $L_1$-регуляризацией."
      ]
    },
    {
      "cell_type": "code",
      "execution_count": null,
      "metadata": {
        "id": "axH11No9OM0u"
      },
      "outputs": [],
      "source": [
        "from sklearn.feature_selection import SelectFromModel"
      ]
    },
    {
      "cell_type": "code",
      "execution_count": null,
      "metadata": {
        "id": "7R7rsWRvSVFA"
      },
      "outputs": [],
      "source": [
        "lasso = Lasso(5.0)\n",
        "l1_select = SelectFromModel(lasso)\n",
        "\n",
        "X_train_l1 = pd.DataFrame(\n",
        "    data=l1_select.fit_transform(X_train_var, y_train),\n",
        "    columns=X_train_var.columns[l1_select.get_support()],\n",
        ")\n",
        "X_test_l1 = pd.DataFrame(\n",
        "    data=l1_select.transform(X_test_var),\n",
        "    columns=X_test_var.columns[l1_select.get_support()],\n",
        ")\n",
        "\n",
        "X_train_l1.shape"
      ]
    },
    {
      "cell_type": "code",
      "execution_count": null,
      "metadata": {
        "id": "0VO2rVJfSikj"
      },
      "outputs": [],
      "source": [
        "lr = LinearRegression().fit(X_train_l1, y_train)\n",
        "print(\"Train: {}\".format(mean_squared_error(y_train, lr.predict(X_train_l1))))\n",
        "print(\"Test: {}\".format(mean_squared_error(y_test, lr.predict(X_test_l1))))\n",
        "\n",
        "ridge = Ridge(5.0).fit(X_train_l1, y_train)\n",
        "print(\"Train: {}\".format(mean_squared_error(y_train, ridge.predict(X_train_l1))))\n",
        "print(\"Test: {}\".format(mean_squared_error(y_test, ridge.predict(X_test_l1))))"
      ]
    },
    {
      "cell_type": "markdown",
      "metadata": {
        "id": "XlvrsWnsSqJ2"
      },
      "source": [
        "### 5 Pipeline"
      ]
    },
    {
      "cell_type": "markdown",
      "metadata": {
        "id": "vD3_WwmwSspu"
      },
      "source": [
        "А можно сделать все вышеописанное сразу:"
      ]
    },
    {
      "cell_type": "code",
      "execution_count": null,
      "metadata": {
        "id": "g6SHSnsUSpJU"
      },
      "outputs": [],
      "source": [
        "from sklearn.pipeline import Pipeline\n",
        "\n",
        "pipe = Pipeline(\n",
        "    steps=[\n",
        "        (\"scaler\", MinMaxScaler()),\n",
        "        (\"variance\", VarianceThreshold(0.01)),\n",
        "        (\"selection\", SelectFromModel(Lasso(5.0))),\n",
        "        (\"regressor\", Ridge(5.0)),\n",
        "    ]\n",
        ")\n",
        "\n",
        "pipe.fit(X_train, y_train)\n",
        "\n",
        "pipe.named_steps"
      ]
    },
    {
      "cell_type": "code",
      "execution_count": null,
      "metadata": {
        "id": "R84AM0WISw1i"
      },
      "outputs": [],
      "source": [
        "print(\"Train: {}\".format(mean_squared_error(y_train, pipe.predict(X_train))))\n",
        "print(\"Test: {}\".format(mean_squared_error(y_test, pipe.predict(X_test))))"
      ]
    },
    {
      "cell_type": "markdown",
      "metadata": {
        "id": "tN1m9tlWS2zh"
      },
      "source": [
        "Можно также настраивать параметры с помощью `GridSearch`:"
      ]
    },
    {
      "cell_type": "code",
      "execution_count": null,
      "metadata": {
        "id": "3fqn1f7qS2Kt"
      },
      "outputs": [],
      "source": [
        "pipe.get_params()"
      ]
    },
    {
      "cell_type": "code",
      "execution_count": null,
      "metadata": {
        "id": "4m5LRWZgS_3e"
      },
      "outputs": [],
      "source": [
        "param_grid = {\n",
        "    \"variance__threshold\": [0.005, 0.0075, 0.009, 0.01, 0.011, 0.012],\n",
        "    \"selection__estimator__alpha\": [0.1, 0.5, 1.0, 1.5, 2.0, 5.0, 10.0],\n",
        "    \"regressor__alpha\": [0.1, 0.5, 1.0, 1.5, 2.0, 5.0, 10.0],\n",
        "}\n",
        "grid_search = GridSearchCV(pipe, param_grid, cv=5)\n",
        "\n",
        "grid_search.fit(X_train, y_train)"
      ]
    },
    {
      "cell_type": "code",
      "execution_count": null,
      "metadata": {
        "id": "G98XFUynTGJV"
      },
      "outputs": [],
      "source": [
        "pipe_best = grid_search.best_estimator_\n",
        "pipe_best.named_steps"
      ]
    },
    {
      "cell_type": "code",
      "execution_count": null,
      "metadata": {
        "id": "7Uhgfp_WTJvD"
      },
      "outputs": [],
      "source": [
        "pipe_best.fit(X_train, y_train)\n",
        "print(\"Train: {}\".format(mean_squared_error(y_train, pipe_best.predict(X_train))))\n",
        "print(\"Test: {}\".format(mean_squared_error(y_test, pipe_best.predict(X_test))))"
      ]
    },
    {
      "cell_type": "markdown",
      "source": [
        "Разбираемся с размерами графиков в Seaborn (вопрос от аудитории)"
      ],
      "metadata": {
        "id": "eU3Hay6Eurfk"
      }
    },
    {
      "cell_type": "code",
      "source": [
        "import seaborn as sns"
      ],
      "metadata": {
        "id": "CcXexGUpfavC"
      },
      "execution_count": null,
      "outputs": []
    },
    {
      "cell_type": "code",
      "source": [
        "import random\n",
        "#Используем случайные данные\n",
        "x = [random.randrange(100) for i in range(100)]\n",
        "y = [random.randrange(100) for i in range(100)]\n",
        "\n",
        "#Здесь задаем в теме размеры 3*3, график получится маленьким и квадратным\n",
        "sns.set_theme(rc={\"figure.figsize\":( 3, 3 )})\n",
        "#Создаем график\n",
        "sns.histplot([x, y])\n",
        "#Задаем другие размеры для графиков (по горизонтали длинный, но довольно короткий по вертикали),\n",
        "#Уже созданные графики (sns.histplot) не поменялись\n",
        "sns.set_theme(rc={\"figure.figsize\":( 12, 2 )})\n",
        "\n",
        "#График выводится квадратный\n",
        "plt.show()"
      ],
      "metadata": {
        "id": "g2uqhYrhfcxN"
      },
      "execution_count": null,
      "outputs": []
    },
    {
      "cell_type": "code",
      "source": [
        "#Этот график уже создан с последними параметрами, он вытянутый\n",
        "sns.lineplot(x, y)"
      ],
      "metadata": {
        "id": "4I7-yyXHtr18"
      },
      "execution_count": null,
      "outputs": []
    },
    {
      "cell_type": "code",
      "source": [
        "sns.barplot(x, y)\n",
        "#Получаем текущий график (figure)\n",
        "fig = plt.gcf()\n",
        "#выставляем размер в дюймах\n",
        "fig.set_size_inches(10,1)"
      ],
      "metadata": {
        "id": "zyjUp0Skwunc"
      },
      "execution_count": null,
      "outputs": []
    },
    {
      "cell_type": "code",
      "source": [
        "#Или просто через matplotlib.pyplot создать figure\n",
        "plt.figure(figsize=(1, 8))\n",
        "sns.scatterplot(x,y)\n",
        "plt.show()"
      ],
      "metadata": {
        "id": "FVWNGyZYxY9q"
      },
      "execution_count": null,
      "outputs": []
    },
    {
      "cell_type": "code",
      "source": [
        "#Собачка\n",
        "sns.dogplot()"
      ],
      "metadata": {
        "id": "tOaTmkVRyXDd"
      },
      "execution_count": null,
      "outputs": []
    },
    {
      "cell_type": "markdown",
      "metadata": {
        "id": "T0ir6jSdUGfc"
      },
      "source": [
        "### Источники\n",
        "[Лекции Евгения Соколова в рамках курса МО-1](https://github.com/esokolov/ml-course-hse/blob/master/2019-fall/lecture-notes/)\n",
        "\n",
        "[Семинар Евгения Ковалева в рамках данного курса в 2019 году](https://github.com/KovalevEvgeny/minor2019-iad2/blob/master/sem05_linreg/sem05_linear_regression.ipynb)\n",
        "\n",
        "[Семинар Евгения Ковалева в рамках данного курса в 2020 году](https://github.com/KovalevEvgeny/minor2020-iad4/blob/master/sem06_linreg/sem06_linreg.ipynb)\n",
        "\n",
        "[Семинар Евгения Ковалева, посвященный отбору признаков и регуляризации (2020)](https://github.com/KovalevEvgeny/minor2019-iad2/tree/master/sem06_feature_selection_regularization)"
      ]
    },
    {
      "cell_type": "code",
      "source": [],
      "metadata": {
        "id": "z7eSFvbNjJwK"
      },
      "execution_count": null,
      "outputs": []
    }
  ],
  "metadata": {
    "anaconda-cloud": {},
    "colab": {
      "provenance": []
    },
    "kernelspec": {
      "display_name": "Python 3",
      "language": "python",
      "name": "python3"
    },
    "language_info": {
      "codemirror_mode": {
        "name": "ipython",
        "version": 3
      },
      "file_extension": ".py",
      "mimetype": "text/x-python",
      "name": "python",
      "nbconvert_exporter": "python",
      "pygments_lexer": "ipython3",
      "version": "3.8.8"
    }
  },
  "nbformat": 4,
  "nbformat_minor": 0
}