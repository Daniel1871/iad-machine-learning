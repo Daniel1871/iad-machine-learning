{
  "nbformat": 4,
  "nbformat_minor": 0,
  "metadata": {
    "colab": {
      "provenance": []
    },
    "kernelspec": {
      "name": "python3",
      "display_name": "Python 3"
    }
  },
  "cells": [
    {
      "cell_type": "markdown",
      "metadata": {
        "id": "2k7-XuXTIV8y"
      },
      "source": [
        "# Отбор признаков\n",
        "\n"
      ]
    },
    {
      "cell_type": "code",
      "metadata": {
        "id": "tFWWakiEv21H"
      },
      "source": [
        "import pandas as pd\n",
        "import numpy as np\n",
        "import gc\n",
        "import matplotlib.pyplot as plt\n",
        "import seaborn as sns\n",
        "import warnings\n",
        "warnings.filterwarnings(\"ignore\")\n"
      ],
      "execution_count": 1,
      "outputs": []
    },
    {
      "cell_type": "markdown",
      "source": [
        "## Данные"
      ],
      "metadata": {
        "id": "G-obq10y8KNJ"
      }
    },
    {
      "cell_type": "markdown",
      "metadata": {
        "id": "IXGzQTIpMLc0"
      },
      "source": [
        "Мы будем работать с данными из соревнования Home Credit Default Risk в котором требовалось предсказать вернет ли клиент кредит\n",
        "\n",
        "https://www.kaggle.com/c/home-credit-default-risk"
      ]
    },
    {
      "cell_type": "markdown",
      "metadata": {
        "id": "tfnM0P43Be7e"
      },
      "source": [
        "Загрузим данные и посмотрим на них"
      ]
    },
    {
      "cell_type": "code",
      "metadata": {
        "id": "OVBazambv5RP",
        "colab": {
          "base_uri": "https://localhost:8080/"
        },
        "outputId": "d23f1d11-1e1a-4d38-b729-e66dea0ddbe3"
      },
      "source": [
        "application_train = pd.read_csv('application_train.csv')\n",
        "application_train.shape"
      ],
      "execution_count": 2,
      "outputs": [
        {
          "output_type": "execute_result",
          "data": {
            "text/plain": [
              "(307511, 122)"
            ]
          },
          "metadata": {},
          "execution_count": 2
        }
      ]
    },
    {
      "cell_type": "code",
      "source": [
        "application_train.sample(5)"
      ],
      "metadata": {
        "colab": {
          "base_uri": "https://localhost:8080/",
          "height": 334
        },
        "id": "zQqDKTHunBzX",
        "outputId": "9f3c7df1-31d2-4996-c05e-a2ccc5ecf7a9"
      },
      "execution_count": 3,
      "outputs": [
        {
          "output_type": "execute_result",
          "data": {
            "text/plain": [
              "                                               SK_ID_CURR  TARGET  \\\n",
              "189693  319945,1,Cash loans,M,N,Y,0,112500.0,521280.0,...     NaN   \n",
              "237238                                             374784     0.0   \n",
              "27793   132312,0,Cash loans,F,Y,Y,1,180000.0,980005.5,...     NaN   \n",
              "121667                                             241059     0.0   \n",
              "211289                                             344848     0.0   \n",
              "\n",
              "       NAME_CONTRACT_TYPE CODE_GENDER FLAG_OWN_CAR FLAG_OWN_REALTY  \\\n",
              "189693                NaN         NaN          NaN             NaN   \n",
              "237238         Cash loans           F            Y               Y   \n",
              "27793                 NaN         NaN          NaN             NaN   \n",
              "121667         Cash loans           F            Y               Y   \n",
              "211289         Cash loans           F            N               N   \n",
              "\n",
              "        CNT_CHILDREN  AMT_INCOME_TOTAL  AMT_CREDIT  AMT_ANNUITY  ...  \\\n",
              "189693           NaN               NaN         NaN          NaN  ...   \n",
              "237238           0.0          225000.0    814041.0      23931.0  ...   \n",
              "27793            NaN               NaN         NaN          NaN  ...   \n",
              "121667           1.0          180000.0    144000.0       9333.0  ...   \n",
              "211289           0.0          112500.0    508495.5      35518.5  ...   \n",
              "\n",
              "        FLAG_DOCUMENT_18 FLAG_DOCUMENT_19 FLAG_DOCUMENT_20 FLAG_DOCUMENT_21  \\\n",
              "189693               NaN              NaN              NaN              NaN   \n",
              "237238               0.0              0.0              0.0              0.0   \n",
              "27793                NaN              NaN              NaN              NaN   \n",
              "121667               0.0              0.0              0.0              0.0   \n",
              "211289               0.0              0.0              0.0              0.0   \n",
              "\n",
              "       AMT_REQ_CREDIT_BUREAU_HOUR AMT_REQ_CREDIT_BUREAU_DAY  \\\n",
              "189693                        NaN                       NaN   \n",
              "237238                        0.0                       0.0   \n",
              "27793                         NaN                       NaN   \n",
              "121667                        0.0                       0.0   \n",
              "211289                        0.0                       0.0   \n",
              "\n",
              "        AMT_REQ_CREDIT_BUREAU_WEEK  AMT_REQ_CREDIT_BUREAU_MON  \\\n",
              "189693                         NaN                        NaN   \n",
              "237238                         0.0                        0.0   \n",
              "27793                          NaN                        NaN   \n",
              "121667                         0.0                        0.0   \n",
              "211289                         0.0                        0.0   \n",
              "\n",
              "        AMT_REQ_CREDIT_BUREAU_QRT  AMT_REQ_CREDIT_BUREAU_YEAR  \n",
              "189693                        NaN                         NaN  \n",
              "237238                        0.0                         8.0  \n",
              "27793                         NaN                         NaN  \n",
              "121667                        1.0                         1.0  \n",
              "211289                        0.0                         0.0  \n",
              "\n",
              "[5 rows x 122 columns]"
            ],
            "text/html": [
              "\n",
              "  <div id=\"df-13ae63b8-8b53-4a63-abaf-ce5d878bde69\">\n",
              "    <div class=\"colab-df-container\">\n",
              "      <div>\n",
              "<style scoped>\n",
              "    .dataframe tbody tr th:only-of-type {\n",
              "        vertical-align: middle;\n",
              "    }\n",
              "\n",
              "    .dataframe tbody tr th {\n",
              "        vertical-align: top;\n",
              "    }\n",
              "\n",
              "    .dataframe thead th {\n",
              "        text-align: right;\n",
              "    }\n",
              "</style>\n",
              "<table border=\"1\" class=\"dataframe\">\n",
              "  <thead>\n",
              "    <tr style=\"text-align: right;\">\n",
              "      <th></th>\n",
              "      <th>SK_ID_CURR</th>\n",
              "      <th>TARGET</th>\n",
              "      <th>NAME_CONTRACT_TYPE</th>\n",
              "      <th>CODE_GENDER</th>\n",
              "      <th>FLAG_OWN_CAR</th>\n",
              "      <th>FLAG_OWN_REALTY</th>\n",
              "      <th>CNT_CHILDREN</th>\n",
              "      <th>AMT_INCOME_TOTAL</th>\n",
              "      <th>AMT_CREDIT</th>\n",
              "      <th>AMT_ANNUITY</th>\n",
              "      <th>...</th>\n",
              "      <th>FLAG_DOCUMENT_18</th>\n",
              "      <th>FLAG_DOCUMENT_19</th>\n",
              "      <th>FLAG_DOCUMENT_20</th>\n",
              "      <th>FLAG_DOCUMENT_21</th>\n",
              "      <th>AMT_REQ_CREDIT_BUREAU_HOUR</th>\n",
              "      <th>AMT_REQ_CREDIT_BUREAU_DAY</th>\n",
              "      <th>AMT_REQ_CREDIT_BUREAU_WEEK</th>\n",
              "      <th>AMT_REQ_CREDIT_BUREAU_MON</th>\n",
              "      <th>AMT_REQ_CREDIT_BUREAU_QRT</th>\n",
              "      <th>AMT_REQ_CREDIT_BUREAU_YEAR</th>\n",
              "    </tr>\n",
              "  </thead>\n",
              "  <tbody>\n",
              "    <tr>\n",
              "      <th>189693</th>\n",
              "      <td>319945,1,Cash loans,M,N,Y,0,112500.0,521280.0,...</td>\n",
              "      <td>NaN</td>\n",
              "      <td>NaN</td>\n",
              "      <td>NaN</td>\n",
              "      <td>NaN</td>\n",
              "      <td>NaN</td>\n",
              "      <td>NaN</td>\n",
              "      <td>NaN</td>\n",
              "      <td>NaN</td>\n",
              "      <td>NaN</td>\n",
              "      <td>...</td>\n",
              "      <td>NaN</td>\n",
              "      <td>NaN</td>\n",
              "      <td>NaN</td>\n",
              "      <td>NaN</td>\n",
              "      <td>NaN</td>\n",
              "      <td>NaN</td>\n",
              "      <td>NaN</td>\n",
              "      <td>NaN</td>\n",
              "      <td>NaN</td>\n",
              "      <td>NaN</td>\n",
              "    </tr>\n",
              "    <tr>\n",
              "      <th>237238</th>\n",
              "      <td>374784</td>\n",
              "      <td>0.0</td>\n",
              "      <td>Cash loans</td>\n",
              "      <td>F</td>\n",
              "      <td>Y</td>\n",
              "      <td>Y</td>\n",
              "      <td>0.0</td>\n",
              "      <td>225000.0</td>\n",
              "      <td>814041.0</td>\n",
              "      <td>23931.0</td>\n",
              "      <td>...</td>\n",
              "      <td>0.0</td>\n",
              "      <td>0.0</td>\n",
              "      <td>0.0</td>\n",
              "      <td>0.0</td>\n",
              "      <td>0.0</td>\n",
              "      <td>0.0</td>\n",
              "      <td>0.0</td>\n",
              "      <td>0.0</td>\n",
              "      <td>0.0</td>\n",
              "      <td>8.0</td>\n",
              "    </tr>\n",
              "    <tr>\n",
              "      <th>27793</th>\n",
              "      <td>132312,0,Cash loans,F,Y,Y,1,180000.0,980005.5,...</td>\n",
              "      <td>NaN</td>\n",
              "      <td>NaN</td>\n",
              "      <td>NaN</td>\n",
              "      <td>NaN</td>\n",
              "      <td>NaN</td>\n",
              "      <td>NaN</td>\n",
              "      <td>NaN</td>\n",
              "      <td>NaN</td>\n",
              "      <td>NaN</td>\n",
              "      <td>...</td>\n",
              "      <td>NaN</td>\n",
              "      <td>NaN</td>\n",
              "      <td>NaN</td>\n",
              "      <td>NaN</td>\n",
              "      <td>NaN</td>\n",
              "      <td>NaN</td>\n",
              "      <td>NaN</td>\n",
              "      <td>NaN</td>\n",
              "      <td>NaN</td>\n",
              "      <td>NaN</td>\n",
              "    </tr>\n",
              "    <tr>\n",
              "      <th>121667</th>\n",
              "      <td>241059</td>\n",
              "      <td>0.0</td>\n",
              "      <td>Cash loans</td>\n",
              "      <td>F</td>\n",
              "      <td>Y</td>\n",
              "      <td>Y</td>\n",
              "      <td>1.0</td>\n",
              "      <td>180000.0</td>\n",
              "      <td>144000.0</td>\n",
              "      <td>9333.0</td>\n",
              "      <td>...</td>\n",
              "      <td>0.0</td>\n",
              "      <td>0.0</td>\n",
              "      <td>0.0</td>\n",
              "      <td>0.0</td>\n",
              "      <td>0.0</td>\n",
              "      <td>0.0</td>\n",
              "      <td>0.0</td>\n",
              "      <td>0.0</td>\n",
              "      <td>1.0</td>\n",
              "      <td>1.0</td>\n",
              "    </tr>\n",
              "    <tr>\n",
              "      <th>211289</th>\n",
              "      <td>344848</td>\n",
              "      <td>0.0</td>\n",
              "      <td>Cash loans</td>\n",
              "      <td>F</td>\n",
              "      <td>N</td>\n",
              "      <td>N</td>\n",
              "      <td>0.0</td>\n",
              "      <td>112500.0</td>\n",
              "      <td>508495.5</td>\n",
              "      <td>35518.5</td>\n",
              "      <td>...</td>\n",
              "      <td>0.0</td>\n",
              "      <td>0.0</td>\n",
              "      <td>0.0</td>\n",
              "      <td>0.0</td>\n",
              "      <td>0.0</td>\n",
              "      <td>0.0</td>\n",
              "      <td>0.0</td>\n",
              "      <td>0.0</td>\n",
              "      <td>0.0</td>\n",
              "      <td>0.0</td>\n",
              "    </tr>\n",
              "  </tbody>\n",
              "</table>\n",
              "<p>5 rows × 122 columns</p>\n",
              "</div>\n",
              "      <button class=\"colab-df-convert\" onclick=\"convertToInteractive('df-13ae63b8-8b53-4a63-abaf-ce5d878bde69')\"\n",
              "              title=\"Convert this dataframe to an interactive table.\"\n",
              "              style=\"display:none;\">\n",
              "        \n",
              "  <svg xmlns=\"http://www.w3.org/2000/svg\" height=\"24px\"viewBox=\"0 0 24 24\"\n",
              "       width=\"24px\">\n",
              "    <path d=\"M0 0h24v24H0V0z\" fill=\"none\"/>\n",
              "    <path d=\"M18.56 5.44l.94 2.06.94-2.06 2.06-.94-2.06-.94-.94-2.06-.94 2.06-2.06.94zm-11 1L8.5 8.5l.94-2.06 2.06-.94-2.06-.94L8.5 2.5l-.94 2.06-2.06.94zm10 10l.94 2.06.94-2.06 2.06-.94-2.06-.94-.94-2.06-.94 2.06-2.06.94z\"/><path d=\"M17.41 7.96l-1.37-1.37c-.4-.4-.92-.59-1.43-.59-.52 0-1.04.2-1.43.59L10.3 9.45l-7.72 7.72c-.78.78-.78 2.05 0 2.83L4 21.41c.39.39.9.59 1.41.59.51 0 1.02-.2 1.41-.59l7.78-7.78 2.81-2.81c.8-.78.8-2.07 0-2.86zM5.41 20L4 18.59l7.72-7.72 1.47 1.35L5.41 20z\"/>\n",
              "  </svg>\n",
              "      </button>\n",
              "      \n",
              "  <style>\n",
              "    .colab-df-container {\n",
              "      display:flex;\n",
              "      flex-wrap:wrap;\n",
              "      gap: 12px;\n",
              "    }\n",
              "\n",
              "    .colab-df-convert {\n",
              "      background-color: #E8F0FE;\n",
              "      border: none;\n",
              "      border-radius: 50%;\n",
              "      cursor: pointer;\n",
              "      display: none;\n",
              "      fill: #1967D2;\n",
              "      height: 32px;\n",
              "      padding: 0 0 0 0;\n",
              "      width: 32px;\n",
              "    }\n",
              "\n",
              "    .colab-df-convert:hover {\n",
              "      background-color: #E2EBFA;\n",
              "      box-shadow: 0px 1px 2px rgba(60, 64, 67, 0.3), 0px 1px 3px 1px rgba(60, 64, 67, 0.15);\n",
              "      fill: #174EA6;\n",
              "    }\n",
              "\n",
              "    [theme=dark] .colab-df-convert {\n",
              "      background-color: #3B4455;\n",
              "      fill: #D2E3FC;\n",
              "    }\n",
              "\n",
              "    [theme=dark] .colab-df-convert:hover {\n",
              "      background-color: #434B5C;\n",
              "      box-shadow: 0px 1px 3px 1px rgba(0, 0, 0, 0.15);\n",
              "      filter: drop-shadow(0px 1px 2px rgba(0, 0, 0, 0.3));\n",
              "      fill: #FFFFFF;\n",
              "    }\n",
              "  </style>\n",
              "\n",
              "      <script>\n",
              "        const buttonEl =\n",
              "          document.querySelector('#df-13ae63b8-8b53-4a63-abaf-ce5d878bde69 button.colab-df-convert');\n",
              "        buttonEl.style.display =\n",
              "          google.colab.kernel.accessAllowed ? 'block' : 'none';\n",
              "\n",
              "        async function convertToInteractive(key) {\n",
              "          const element = document.querySelector('#df-13ae63b8-8b53-4a63-abaf-ce5d878bde69');\n",
              "          const dataTable =\n",
              "            await google.colab.kernel.invokeFunction('convertToInteractive',\n",
              "                                                     [key], {});\n",
              "          if (!dataTable) return;\n",
              "\n",
              "          const docLinkHtml = 'Like what you see? Visit the ' +\n",
              "            '<a target=\"_blank\" href=https://colab.research.google.com/notebooks/data_table.ipynb>data table notebook</a>'\n",
              "            + ' to learn more about interactive tables.';\n",
              "          element.innerHTML = '';\n",
              "          dataTable['output_type'] = 'display_data';\n",
              "          await google.colab.output.renderOutput(dataTable, element);\n",
              "          const docLink = document.createElement('div');\n",
              "          docLink.innerHTML = docLinkHtml;\n",
              "          element.appendChild(docLink);\n",
              "        }\n",
              "      </script>\n",
              "    </div>\n",
              "  </div>\n",
              "  "
            ]
          },
          "metadata": {},
          "execution_count": 3
        }
      ]
    },
    {
      "cell_type": "code",
      "metadata": {
        "id": "uEZW-3eaBEpC",
        "outputId": "33822592-cc8a-4ed9-be22-eb9bc4987426",
        "colab": {
          "base_uri": "https://localhost:8080/"
        }
      },
      "source": [
        "application_train.TARGET.value_counts() # число уникальных строк"
      ],
      "execution_count": 4,
      "outputs": [
        {
          "output_type": "execute_result",
          "data": {
            "text/plain": [
              "0.0    214121\n",
              "1.0     19278\n",
              "Name: TARGET, dtype: int64"
            ]
          },
          "metadata": {},
          "execution_count": 4
        }
      ]
    },
    {
      "cell_type": "markdown",
      "metadata": {
        "id": "TpVR8ZZwN8_S"
      },
      "source": [
        "Для удобства далее будем рассматриватьлишь 10% данных.\n"
      ]
    },
    {
      "cell_type": "code",
      "source": [
        "from sklearn.model_selection import train_test_split\n",
        "\n",
        "application, _ = train_test_split(application_train,\n",
        "                                  train_size=0.1,\n",
        "                                  random_state=27,\n",
        "                                  stratify=application_train.TARGET #Для сохранения баланса классов (относительно target)\n",
        "                                  )\n",
        "application = application.sort_values('SK_ID_CURR').reset_index(drop=True)\n",
        "application.TARGET.value_counts()"
      ],
      "metadata": {
        "colab": {
          "base_uri": "https://localhost:8080/",
          "height": 381
        },
        "id": "9ry5xcDoni7u",
        "outputId": "0fa87c22-4d9e-407a-d9fe-20ab429dffe7"
      },
      "execution_count": 7,
      "outputs": [
        {
          "output_type": "error",
          "ename": "ValueError",
          "evalue": "ignored",
          "traceback": [
            "\u001b[0;31m---------------------------------------------------------------------------\u001b[0m",
            "\u001b[0;31mValueError\u001b[0m                                Traceback (most recent call last)",
            "\u001b[0;32m<ipython-input-7-23b2515f9c7a>\u001b[0m in \u001b[0;36m<cell line: 3>\u001b[0;34m()\u001b[0m\n\u001b[1;32m      1\u001b[0m \u001b[0;32mfrom\u001b[0m \u001b[0msklearn\u001b[0m\u001b[0;34m.\u001b[0m\u001b[0mmodel_selection\u001b[0m \u001b[0;32mimport\u001b[0m \u001b[0mtrain_test_split\u001b[0m\u001b[0;34m\u001b[0m\u001b[0;34m\u001b[0m\u001b[0m\n\u001b[1;32m      2\u001b[0m \u001b[0;34m\u001b[0m\u001b[0m\n\u001b[0;32m----> 3\u001b[0;31m application, _ = train_test_split(application_train,\n\u001b[0m\u001b[1;32m      4\u001b[0m                                   \u001b[0mtrain_size\u001b[0m\u001b[0;34m=\u001b[0m\u001b[0;36m0.1\u001b[0m\u001b[0;34m,\u001b[0m\u001b[0;34m\u001b[0m\u001b[0;34m\u001b[0m\u001b[0m\n\u001b[1;32m      5\u001b[0m                                   \u001b[0mrandom_state\u001b[0m\u001b[0;34m=\u001b[0m\u001b[0;36m27\u001b[0m\u001b[0;34m,\u001b[0m\u001b[0;34m\u001b[0m\u001b[0;34m\u001b[0m\u001b[0m\n",
            "\u001b[0;32m/usr/local/lib/python3.10/dist-packages/sklearn/model_selection/_split.py\u001b[0m in \u001b[0;36mtrain_test_split\u001b[0;34m(test_size, train_size, random_state, shuffle, stratify, *arrays)\u001b[0m\n\u001b[1;32m   2581\u001b[0m         \u001b[0mcv\u001b[0m \u001b[0;34m=\u001b[0m \u001b[0mCVClass\u001b[0m\u001b[0;34m(\u001b[0m\u001b[0mtest_size\u001b[0m\u001b[0;34m=\u001b[0m\u001b[0mn_test\u001b[0m\u001b[0;34m,\u001b[0m \u001b[0mtrain_size\u001b[0m\u001b[0;34m=\u001b[0m\u001b[0mn_train\u001b[0m\u001b[0;34m,\u001b[0m \u001b[0mrandom_state\u001b[0m\u001b[0;34m=\u001b[0m\u001b[0mrandom_state\u001b[0m\u001b[0;34m)\u001b[0m\u001b[0;34m\u001b[0m\u001b[0;34m\u001b[0m\u001b[0m\n\u001b[1;32m   2582\u001b[0m \u001b[0;34m\u001b[0m\u001b[0m\n\u001b[0;32m-> 2583\u001b[0;31m         \u001b[0mtrain\u001b[0m\u001b[0;34m,\u001b[0m \u001b[0mtest\u001b[0m \u001b[0;34m=\u001b[0m \u001b[0mnext\u001b[0m\u001b[0;34m(\u001b[0m\u001b[0mcv\u001b[0m\u001b[0;34m.\u001b[0m\u001b[0msplit\u001b[0m\u001b[0;34m(\u001b[0m\u001b[0mX\u001b[0m\u001b[0;34m=\u001b[0m\u001b[0marrays\u001b[0m\u001b[0;34m[\u001b[0m\u001b[0;36m0\u001b[0m\u001b[0;34m]\u001b[0m\u001b[0;34m,\u001b[0m \u001b[0my\u001b[0m\u001b[0;34m=\u001b[0m\u001b[0mstratify\u001b[0m\u001b[0;34m)\u001b[0m\u001b[0;34m)\u001b[0m\u001b[0;34m\u001b[0m\u001b[0;34m\u001b[0m\u001b[0m\n\u001b[0m\u001b[1;32m   2584\u001b[0m \u001b[0;34m\u001b[0m\u001b[0m\n\u001b[1;32m   2585\u001b[0m     return list(\n",
            "\u001b[0;32m/usr/local/lib/python3.10/dist-packages/sklearn/model_selection/_split.py\u001b[0m in \u001b[0;36msplit\u001b[0;34m(self, X, y, groups)\u001b[0m\n\u001b[1;32m   2158\u001b[0m         \u001b[0mto\u001b[0m \u001b[0man\u001b[0m \u001b[0minteger\u001b[0m\u001b[0;34m.\u001b[0m\u001b[0;34m\u001b[0m\u001b[0;34m\u001b[0m\u001b[0m\n\u001b[1;32m   2159\u001b[0m         \"\"\"\n\u001b[0;32m-> 2160\u001b[0;31m         \u001b[0my\u001b[0m \u001b[0;34m=\u001b[0m \u001b[0mcheck_array\u001b[0m\u001b[0;34m(\u001b[0m\u001b[0my\u001b[0m\u001b[0;34m,\u001b[0m \u001b[0minput_name\u001b[0m\u001b[0;34m=\u001b[0m\u001b[0;34m\"y\"\u001b[0m\u001b[0;34m,\u001b[0m \u001b[0mensure_2d\u001b[0m\u001b[0;34m=\u001b[0m\u001b[0;32mFalse\u001b[0m\u001b[0;34m,\u001b[0m \u001b[0mdtype\u001b[0m\u001b[0;34m=\u001b[0m\u001b[0;32mNone\u001b[0m\u001b[0;34m)\u001b[0m\u001b[0;34m\u001b[0m\u001b[0;34m\u001b[0m\u001b[0m\n\u001b[0m\u001b[1;32m   2161\u001b[0m         \u001b[0;32mreturn\u001b[0m \u001b[0msuper\u001b[0m\u001b[0;34m(\u001b[0m\u001b[0;34m)\u001b[0m\u001b[0;34m.\u001b[0m\u001b[0msplit\u001b[0m\u001b[0;34m(\u001b[0m\u001b[0mX\u001b[0m\u001b[0;34m,\u001b[0m \u001b[0my\u001b[0m\u001b[0;34m,\u001b[0m \u001b[0mgroups\u001b[0m\u001b[0;34m)\u001b[0m\u001b[0;34m\u001b[0m\u001b[0;34m\u001b[0m\u001b[0m\n\u001b[1;32m   2162\u001b[0m \u001b[0;34m\u001b[0m\u001b[0m\n",
            "\u001b[0;32m/usr/local/lib/python3.10/dist-packages/sklearn/utils/validation.py\u001b[0m in \u001b[0;36mcheck_array\u001b[0;34m(array, accept_sparse, accept_large_sparse, dtype, order, copy, force_all_finite, ensure_2d, allow_nd, ensure_min_samples, ensure_min_features, estimator, input_name)\u001b[0m\n\u001b[1;32m    919\u001b[0m \u001b[0;34m\u001b[0m\u001b[0m\n\u001b[1;32m    920\u001b[0m         \u001b[0;32mif\u001b[0m \u001b[0mforce_all_finite\u001b[0m\u001b[0;34m:\u001b[0m\u001b[0;34m\u001b[0m\u001b[0;34m\u001b[0m\u001b[0m\n\u001b[0;32m--> 921\u001b[0;31m             _assert_all_finite(\n\u001b[0m\u001b[1;32m    922\u001b[0m                 \u001b[0marray\u001b[0m\u001b[0;34m,\u001b[0m\u001b[0;34m\u001b[0m\u001b[0;34m\u001b[0m\u001b[0m\n\u001b[1;32m    923\u001b[0m                 \u001b[0minput_name\u001b[0m\u001b[0;34m=\u001b[0m\u001b[0minput_name\u001b[0m\u001b[0;34m,\u001b[0m\u001b[0;34m\u001b[0m\u001b[0;34m\u001b[0m\u001b[0m\n",
            "\u001b[0;32m/usr/local/lib/python3.10/dist-packages/sklearn/utils/validation.py\u001b[0m in \u001b[0;36m_assert_all_finite\u001b[0;34m(X, allow_nan, msg_dtype, estimator_name, input_name)\u001b[0m\n\u001b[1;32m    159\u001b[0m                 \u001b[0;34m\"#estimators-that-handle-nan-values\"\u001b[0m\u001b[0;34m\u001b[0m\u001b[0;34m\u001b[0m\u001b[0m\n\u001b[1;32m    160\u001b[0m             )\n\u001b[0;32m--> 161\u001b[0;31m         \u001b[0;32mraise\u001b[0m \u001b[0mValueError\u001b[0m\u001b[0;34m(\u001b[0m\u001b[0mmsg_err\u001b[0m\u001b[0;34m)\u001b[0m\u001b[0;34m\u001b[0m\u001b[0;34m\u001b[0m\u001b[0m\n\u001b[0m\u001b[1;32m    162\u001b[0m \u001b[0;34m\u001b[0m\u001b[0m\n\u001b[1;32m    163\u001b[0m \u001b[0;34m\u001b[0m\u001b[0m\n",
            "\u001b[0;31mValueError\u001b[0m: Input y contains NaN."
          ]
        }
      ]
    },
    {
      "cell_type": "code",
      "metadata": {
        "id": "k6JBXn8UCjFY"
      },
      "source": [
        "application.head()"
      ],
      "execution_count": null,
      "outputs": []
    },
    {
      "cell_type": "markdown",
      "source": [
        "application_train довольно большая таблица, дальше она нам не нужна, можно ее удалить и собрать мусор"
      ],
      "metadata": {
        "id": "UoxaAv4wr5wj"
      }
    },
    {
      "cell_type": "code",
      "source": [
        "del application_train\n",
        "gc.collect(); #Собираем мусор"
      ],
      "metadata": {
        "id": "3Obua7I9r1OD"
      },
      "execution_count": null,
      "outputs": []
    },
    {
      "cell_type": "markdown",
      "source": [
        "Выделим числовые и нечисловые признаки"
      ],
      "metadata": {
        "id": "xfE_NWZIpnUc"
      }
    },
    {
      "cell_type": "code",
      "metadata": {
        "id": "nKnFoC4G2vZu"
      },
      "source": [
        "categorical_list = []\n",
        "numerical_list = []\n",
        "for i in application.columns.tolist():\n",
        "    if application[i].dtype=='object':\n",
        "        categorical_list.append(i)\n",
        "    else:\n",
        "        numerical_list.append(i)\n",
        "print('Number of categorical features:', len(categorical_list))\n",
        "print('Number of numerical features:', len(numerical_list))"
      ],
      "execution_count": null,
      "outputs": []
    },
    {
      "cell_type": "markdown",
      "source": [
        "Посмотрим на наличие пропущенных значений"
      ],
      "metadata": {
        "id": "Ng4znD5iprjv"
      }
    },
    {
      "cell_type": "code",
      "source": [
        "application.isnull().sum()"
      ],
      "metadata": {
        "id": "5U_H2UFVplRJ"
      },
      "execution_count": null,
      "outputs": []
    },
    {
      "cell_type": "markdown",
      "source": [
        "Для замены пропущенных значений можно выспользоваться `SimpleImputer` из sklearn: данная модель заменяет пропущенные значения (`np.nan`) каким-то образом `strategy` (по умолчанию заменяет средним, но можно и медиану, самым частым значением или указанной в `fill_value` константой)"
      ],
      "metadata": {
        "id": "TATKl5zGp3FS"
      }
    },
    {
      "cell_type": "code",
      "metadata": {
        "id": "tG-RyMTe20fL"
      },
      "source": [
        "from sklearn.impute import SimpleImputer\n",
        "application[numerical_list] = SimpleImputer(missing_values=np.nan,\n",
        "                                            strategy='median').fit_transform(application[numerical_list])"
      ],
      "execution_count": null,
      "outputs": []
    },
    {
      "cell_type": "code",
      "source": [
        "application.isnull().sum()"
      ],
      "metadata": {
        "id": "jac-cxXlq2-R"
      },
      "execution_count": null,
      "outputs": []
    },
    {
      "cell_type": "code",
      "source": [
        "application.isnull().sum().any()"
      ],
      "metadata": {
        "id": "4-sK6dM3tdIg"
      },
      "execution_count": null,
      "outputs": []
    },
    {
      "cell_type": "markdown",
      "source": [
        "Теперь все числовые данные не имеют пропусков, но некоторые категориальные - да. Разберемся с ними"
      ],
      "metadata": {
        "id": "XiUmnonwrfFT"
      }
    },
    {
      "cell_type": "code",
      "metadata": {
        "id": "g2j9Xh9k25Tz"
      },
      "source": [
        "application = pd.get_dummies(application, drop_first=True)\n",
        "print(application.shape)"
      ],
      "execution_count": null,
      "outputs": []
    },
    {
      "cell_type": "code",
      "source": [
        "application.isnull().sum().any()"
      ],
      "metadata": {
        "id": "abLBdgS0s9Er"
      },
      "execution_count": null,
      "outputs": []
    },
    {
      "cell_type": "code",
      "source": [
        "application.head()"
      ],
      "metadata": {
        "id": "a5iOmib1tBiC"
      },
      "execution_count": null,
      "outputs": []
    },
    {
      "cell_type": "code",
      "metadata": {
        "id": "88Bxd4JiCpal"
      },
      "source": [
        "application.info()"
      ],
      "execution_count": null,
      "outputs": []
    },
    {
      "cell_type": "markdown",
      "source": [
        "Теперь выделим таргет (TARGET) и удалим SK_ID_CURR (Вопрос: Почему удаляем данный признак?)"
      ],
      "metadata": {
        "id": "vezQFbFYtqmo"
      }
    },
    {
      "cell_type": "code",
      "metadata": {
        "id": "1p5MJLD8_Zp_"
      },
      "source": [
        "X = application.drop(['SK_ID_CURR', 'TARGET'], axis=1) # ID - уникальные. Ни о чем не говорят. Это способ переобучения. Нахрен он нам нужен?\n",
        "y = application.TARGET\n",
        "feature_name = X.columns.tolist()"
      ],
      "execution_count": null,
      "outputs": []
    },
    {
      "cell_type": "code",
      "source": [
        "application.drop['SK_ID_CURR'].nunique()"
      ],
      "metadata": {
        "id": "M4Zvjl4W-vwK"
      },
      "execution_count": null,
      "outputs": []
    },
    {
      "cell_type": "code",
      "source": [
        "X.shape"
      ],
      "metadata": {
        "id": "AbcnH-KIuPa4"
      },
      "execution_count": null,
      "outputs": []
    },
    {
      "cell_type": "markdown",
      "source": [
        "Теперь есть 224 признака, будем пробовать выбрать лучшие"
      ],
      "metadata": {
        "id": "0JqPxiQpuNq9"
      }
    },
    {
      "cell_type": "markdown",
      "source": [
        "## Одномерные методы"
      ],
      "metadata": {
        "id": "Jkv7jSDN8FhJ"
      }
    },
    {
      "cell_type": "markdown",
      "source": [
        "Идея: оценить важность каждого признака по отдельности, выбрать самые важные признаки"
      ],
      "metadata": {
        "id": "d8nnuLHO8e1V"
      }
    },
    {
      "cell_type": "code",
      "source": [
        "def feature_selector(X, y, score_function, n_features=100):\n",
        "    importance_list = []\n",
        "    feature_names = X.columns.to_numpy()\n",
        "    # Считаем важность для каждого признака\n",
        "    for i in feature_names:\n",
        "        importance_list.append(score_function(X[i], y))\n",
        "    # Заменяем np.nan на 0\n",
        "    importance_list = [0 if np.isnan(i) else i for i in importance_list]\n",
        "    # Выбрали названия признаков с наибольшей важностью\n",
        "    best_features = feature_names[np.argsort(importance_list)[-n_features:]][::-1]\n",
        "\n",
        "    return best_features"
      ],
      "metadata": {
        "id": "U7dEkPVV8zAF"
      },
      "execution_count": null,
      "outputs": []
    },
    {
      "cell_type": "markdown",
      "metadata": {
        "id": "lR_H4uQOI2Hm"
      },
      "source": [
        "### Корреляция Пирсона"
      ]
    },
    {
      "cell_type": "markdown",
      "source": [
        "Идея: подсчитали корреляцию признака $x^j$ и таргета ($R(x^j, y)$), если корреляция большая по модулю, значит признак информативный\n",
        "\n",
        "\n",
        "$$R(x, y) = \\frac{\\sum_{i=1}^n(x_i - \\overline{x})(y_i - \\overline{y})}{\\sqrt{\\sum_{i=1}^n(x_i - \\overline{x})^2 \\sum_{i=1}^n(y_i - \\overline{y})^2}}$$\n",
        "\n"
      ],
      "metadata": {
        "id": "_QMRgBozuc2m"
      }
    },
    {
      "cell_type": "code",
      "metadata": {
        "id": "bHOsSmLeAmrv"
      },
      "source": [
        "def pearson_correlation_abs(x, y):\n",
        "  return np.abs(np.corrcoef(x, y)[0, 1]) # отриц. зав-ть - тоже зав-ть"
      ],
      "execution_count": null,
      "outputs": []
    },
    {
      "cell_type": "code",
      "metadata": {
        "id": "ZKfCT17vAqqt"
      },
      "source": [
        "cor_features = feature_selector(X, y, score_function=pearson_correlation_abs)\n",
        "print(str(len(cor_features)), 'selected features')"
      ],
      "execution_count": null,
      "outputs": []
    },
    {
      "cell_type": "code",
      "source": [
        "fig, axs = plt.subplots(figsize=(10,20), nrows=4, ncols=2)\n",
        "\n",
        "for i in range(4):\n",
        "  sns.boxplot(y=X[cor_features[i]],\n",
        "               x=y,\n",
        "               ax=axs[i][0])\n",
        "  sns.histplot(x=X[cor_features[i]],\n",
        "               hue=y,\n",
        "               ax=axs[i][1])"
      ],
      "metadata": {
        "id": "GOwIGEiCwa6G"
      },
      "execution_count": null,
      "outputs": []
    },
    {
      "cell_type": "markdown",
      "source": [
        "Проблема данного подхода: учитывается только линейная связь"
      ],
      "metadata": {
        "id": "PdqNcmOt5LD4"
      }
    },
    {
      "cell_type": "markdown",
      "source": [
        "### 2. T score (для бин. кл-ии)\n",
        "\n",
        "Идея: подсчитали t score признака $x^j$ на основе разделения по таргету таргета ($R(x^j, y)$), если t score большой, значит признак информативный\n",
        "\n",
        "\n",
        "$$R(x, y) = \\frac{|\\mu_1 - \\mu_0|}{\\sqrt{\\frac{\\sigma_0^2}{n_0}+\\frac{\\sigma_1^2}{n_1}}}$$, где\n",
        "\n",
        "$\\mu_i, \\sigma_i^2, n_i$ - это среднее, дисперсия и количество объектов для признака $x$ класса $i$ (0 или 1)\n",
        "\n",
        "Данный метод используется для задачи бинарной классификации (для многоклассовой есть F score)"
      ],
      "metadata": {
        "id": "Xw_8WhjY8P8x"
      }
    },
    {
      "cell_type": "code",
      "source": [
        "def t_score(x, y):\n",
        "  def calc_stats(x):\n",
        "    return np.mean(x), np.var(x), len(x)\n",
        "\n",
        "  mu0, s0, n0 = calc_stats(x[y == 0.0])\n",
        "  mu1, s1, n1 = calc_stats(x[y == 1.0])\n",
        "  return np.abs(mu1-mu0) / np.sqrt(s0/n0 + s1/n1)\n"
      ],
      "metadata": {
        "id": "pKIV4ZRz5gKJ"
      },
      "execution_count": null,
      "outputs": []
    },
    {
      "cell_type": "code",
      "source": [
        "tscore_features = feature_selector(X, y, score_function=t_score)\n",
        "print(str(len(tscore_features)), 'selected features')"
      ],
      "metadata": {
        "id": "5Q9KzXUV6D2a"
      },
      "execution_count": null,
      "outputs": []
    },
    {
      "cell_type": "code",
      "source": [
        "fig, axs = plt.subplots(figsize=(10,20), nrows=4, ncols=2)\n",
        "\n",
        "for i in range(4):\n",
        "  sns.boxplot(y=X[tscore_features[i]],\n",
        "               x=y,\n",
        "               ax=axs[i][0])\n",
        "  sns.histplot(x=X[tscore_features[i]],\n",
        "               hue=y,\n",
        "               ax=axs[i][1])"
      ],
      "metadata": {
        "id": "TrjYDu2K7KAT"
      },
      "execution_count": null,
      "outputs": []
    },
    {
      "cell_type": "code",
      "source": [
        "set(cor_features) == set(tscore_features)"
      ],
      "metadata": {
        "id": "g7IpdCZ4ATyH"
      },
      "execution_count": null,
      "outputs": []
    },
    {
      "cell_type": "markdown",
      "source": [
        "Основаня проблема одномерных методов - не работают, если целевая переменная зависит от совокупности признаков"
      ],
      "metadata": {
        "id": "2tD-vl9XARbl"
      }
    },
    {
      "cell_type": "markdown",
      "metadata": {
        "id": "Qe4jhnqDHHOZ"
      },
      "source": [
        "## Методы обертки (Wrapper)"
      ]
    },
    {
      "cell_type": "markdown",
      "source": [
        "Идея:  оценить поднаборы признков, делая возможным обнаружения возможную взаимосвязь между совокупностью признаков"
      ],
      "metadata": {
        "id": "8-M8G6T7BAaE"
      }
    },
    {
      "cell_type": "markdown",
      "metadata": {
        "id": "86-PuSwWLYrV"
      },
      "source": [
        "*RFE*(Recursive Feature Elimination) - обучается на начальном наборе признаков, и важность каждого признака получается либо через атрибут `coef_`, либо через атрибут `feature_importances_` модели, указанной в `estimator`.\n",
        "\n",
        "Затем `step` наименее важных признаков удаляются. Эту процедура рекурсивно повторяется, пока в конечном итоге не будет достигнуто `n_features_to_select` признаков."
      ]
    },
    {
      "cell_type": "code",
      "metadata": {
        "id": "ouWxFVkZwmtw"
      },
      "source": [
        "from sklearn.preprocessing import StandardScaler\n",
        "X_norm = StandardScaler().fit_transform(X)"
      ],
      "execution_count": null,
      "outputs": []
    },
    {
      "cell_type": "code",
      "source": [
        "lr = LogisticRegression().fit(X, y)\n",
        "lr.coef_ # Нихрена не отнормировано. Не можем судить о важности признака"
      ],
      "metadata": {
        "id": "c22RB4PEBlop"
      },
      "execution_count": null,
      "outputs": []
    },
    {
      "cell_type": "code",
      "metadata": {
        "id": "lRqFcymLG-yd"
      },
      "source": [
        "from sklearn.feature_selection import RFE\n",
        "from sklearn.linear_model import LogisticRegression\n",
        "rfe_selector = RFE(estimator=LogisticRegression(), n_features_to_select=100, step=10, verbose=5)\n",
        "rfe_selector.fit(X_norm, y)"
      ],
      "execution_count": null,
      "outputs": []
    },
    {
      "cell_type": "code",
      "metadata": {
        "id": "_luBQaxZHWyz"
      },
      "source": [
        "rfe_support = rfe_selector.get_support() # Получаем маску True/False для признаков\n",
        "rfe_feature = X.loc[:,rfe_support].columns.tolist()\n",
        "print(str(len(rfe_feature)), 'selected features')"
      ],
      "execution_count": null,
      "outputs": []
    },
    {
      "cell_type": "markdown",
      "source": [
        "Основная проблема - вычислительно дорого"
      ],
      "metadata": {
        "id": "rs-ookMsOF2F"
      }
    },
    {
      "cell_type": "markdown",
      "metadata": {
        "id": "48bW62MJHu_Q"
      },
      "source": [
        "## Встроенные методы (Embeded)"
      ]
    },
    {
      "cell_type": "markdown",
      "metadata": {
        "id": "1wIHgjBZMF1T"
      },
      "source": [
        "Идея `SelectFromModel`: через `estimator` подсчитывается важность признаков. Если важность меньше порогового значения - признак убирается. Пороговое значение задается параметром `threshold` -можно задать числом или указать эвристику: “mean”, “median”, дополнительно можно добавить дробь (“0.1*mean”)\n"
      ]
    },
    {
      "cell_type": "code",
      "metadata": {
        "id": "fwnT3VnKHiUz"
      },
      "source": [
        "from sklearn.feature_selection import SelectFromModel\n",
        "from sklearn.linear_model import LogisticRegression\n",
        "\n",
        "embeded_lr_selector = SelectFromModel(estimator=LogisticRegression(penalty=\"l2\"), threshold='1.25*median')\n",
        "embeded_lr_selector.fit(X_norm, y)"
      ],
      "execution_count": null,
      "outputs": []
    },
    {
      "cell_type": "code",
      "metadata": {
        "id": "VSIa7PwhHcFT"
      },
      "source": [
        "embeded_lr_support = embeded_lr_selector.get_support()\n",
        "embeded_lr_feature = X.loc[:,embeded_lr_support].columns.tolist()\n",
        "print(str(len(embeded_lr_feature)), 'selected features')"
      ],
      "execution_count": null,
      "outputs": []
    },
    {
      "cell_type": "markdown",
      "metadata": {
        "id": "UpkrMt6iIK5p"
      },
      "source": [
        "### Random Forest"
      ]
    },
    {
      "cell_type": "markdown",
      "metadata": {
        "id": "BPLZ9c0ayq8x"
      },
      "source": [
        "Для некоторых моделей важность признаков - это атрибут `coef_` (Вопрос: можете привести примеры? Лог. рег., лин. рег.), но у леса такого атрибута нет (Вопрос: почему? потому что нет весов)\n",
        "\n",
        "\n",
        "У леса есть атрибут `feature_importances_` - важность признака подсчитывается как нормализованная сумма уменьшений критерия по всем деревьям, по всем вершинам, где было разбиение по данному признаку.\n",
        "\n",
        "Уменьшение критерия = $H(X_m) - \\frac{|X_l|}{|X_m|} H(X_l) - \\frac{|X_r|}{|X_m|} H(X_r)$\n",
        "\n"
      ]
    },
    {
      "cell_type": "code",
      "metadata": {
        "id": "_frGN3xkv9c0",
        "outputId": "372ab235-88ea-457a-a001-2038199087c2",
        "colab": {
          "base_uri": "https://localhost:8080/",
          "height": 201
        }
      },
      "source": [
        "from sklearn.ensemble import RandomForestClassifier\n",
        "clf = RandomForestClassifier(n_estimators=100)\n",
        "clf.fit(X, y)"
      ],
      "execution_count": 8,
      "outputs": [
        {
          "output_type": "error",
          "ename": "NameError",
          "evalue": "ignored",
          "traceback": [
            "\u001b[0;31m---------------------------------------------------------------------------\u001b[0m",
            "\u001b[0;31mNameError\u001b[0m                                 Traceback (most recent call last)",
            "\u001b[0;32m<ipython-input-8-7725b54dba88>\u001b[0m in \u001b[0;36m<cell line: 3>\u001b[0;34m()\u001b[0m\n\u001b[1;32m      1\u001b[0m \u001b[0;32mfrom\u001b[0m \u001b[0msklearn\u001b[0m\u001b[0;34m.\u001b[0m\u001b[0mensemble\u001b[0m \u001b[0;32mimport\u001b[0m \u001b[0mRandomForestClassifier\u001b[0m\u001b[0;34m\u001b[0m\u001b[0;34m\u001b[0m\u001b[0m\n\u001b[1;32m      2\u001b[0m \u001b[0mclf\u001b[0m \u001b[0;34m=\u001b[0m \u001b[0mRandomForestClassifier\u001b[0m\u001b[0;34m(\u001b[0m\u001b[0mn_estimators\u001b[0m\u001b[0;34m=\u001b[0m\u001b[0;36m100\u001b[0m\u001b[0;34m)\u001b[0m\u001b[0;34m\u001b[0m\u001b[0;34m\u001b[0m\u001b[0m\n\u001b[0;32m----> 3\u001b[0;31m \u001b[0mclf\u001b[0m\u001b[0;34m.\u001b[0m\u001b[0mfit\u001b[0m\u001b[0;34m(\u001b[0m\u001b[0mX\u001b[0m\u001b[0;34m,\u001b[0m \u001b[0my\u001b[0m\u001b[0;34m)\u001b[0m\u001b[0;34m\u001b[0m\u001b[0;34m\u001b[0m\u001b[0m\n\u001b[0m",
            "\u001b[0;31mNameError\u001b[0m: name 'X' is not defined"
          ]
        }
      ]
    },
    {
      "cell_type": "code",
      "metadata": {
        "id": "Bf9vcuA_xXgb"
      },
      "source": [
        "plot = sns.barplot(y=feature_name,\n",
        "                   x=clf.feature_importances_,\n",
        "                   order=np.array(feature_name)[np.argsort(clf.feature_importances_)][::-1]\n",
        "                   )\n",
        "plot.figure.set_size_inches(10, 50)"
      ],
      "execution_count": null,
      "outputs": []
    },
    {
      "cell_type": "markdown",
      "metadata": {
        "id": "soiadQCdyzYc"
      },
      "source": [
        "Применим `SelectFromModel` к `RandomForestClassifier`"
      ]
    },
    {
      "cell_type": "code",
      "metadata": {
        "id": "KSzhAxahHq-I"
      },
      "source": [
        "from sklearn.feature_selection import SelectFromModel\n",
        "from sklearn.ensemble import RandomForestClassifier\n",
        "\n",
        "embeded_rf_selector = SelectFromModel(RandomForestClassifier(n_estimators=100),\n",
        "                                      threshold='1.25*median')\n",
        "embeded_rf_selector.fit(X, y)"
      ],
      "execution_count": null,
      "outputs": []
    },
    {
      "cell_type": "code",
      "metadata": {
        "id": "xL01pOEZIKWJ"
      },
      "source": [
        "embeded_rf_support = embeded_rf_selector.get_support()\n",
        "embeded_rf_feature = X.loc[:,embeded_rf_support].columns.tolist()\n",
        "print(str(len(embeded_rf_feature)), 'selected features')"
      ],
      "execution_count": null,
      "outputs": []
    },
    {
      "cell_type": "markdown",
      "metadata": {
        "id": "6LUgR4VpIrjk"
      },
      "source": [
        "### LGBMClassifier"
      ]
    },
    {
      "cell_type": "markdown",
      "source": [
        "`SelectFromModel` можно использовать не только с моделями из sklearn, например, можно использовать `LGBMClassifier` (у него тоже есть `feature_importances_`)"
      ],
      "metadata": {
        "id": "A-CV0sRbSTSE"
      }
    },
    {
      "cell_type": "code",
      "metadata": {
        "id": "HN9eISM6Ii9I"
      },
      "source": [
        "from sklearn.feature_selection import SelectFromModel\n",
        "from lightgbm import LGBMClassifier\n",
        "import re\n",
        "X_renamed = X.rename(columns = lambda x:re.sub('[^A-Za-z0-9_]+', '', x))\n",
        "\n",
        "lgbc=LGBMClassifier(n_estimators=500,\n",
        "                    learning_rate=0.05,\n",
        "                    num_leaves=32,\n",
        "                    colsample_bytree=0.2,\n",
        "                    reg_alpha=3,\n",
        "                    reg_lambda=1,\n",
        "                    min_split_gain=0.01,\n",
        "                    min_child_weight=40)\n",
        "\n",
        "embeded_lgb_selector = SelectFromModel(lgbc, threshold='1.25*median')\n",
        "embeded_lgb_selector.fit(X_renamed, y)"
      ],
      "execution_count": null,
      "outputs": []
    },
    {
      "cell_type": "code",
      "metadata": {
        "id": "XBVju2KIIp5E"
      },
      "source": [
        "embeded_lgb_support = embeded_lgb_selector.get_support()\n",
        "embeded_lgb_feature = X.loc[:,embeded_lgb_support].columns.tolist()\n",
        "print(str(len(embeded_lgb_feature)), 'selected features')"
      ],
      "execution_count": null,
      "outputs": []
    }
  ]
}